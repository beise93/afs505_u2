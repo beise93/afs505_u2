{
 "cells": [
  {
   "cell_type": "markdown",
   "metadata": {},
   "source": [
    "# Lesson 4 Class Exercises: Pandas Part 2"
   ]
  },
  {
   "cell_type": "markdown",
   "metadata": {},
   "source": [
    "With these class exercises we learn a few new things.  When new knowledge is introduced you'll see the icon shown on the right: \n",
    "<span style=\"float:right; margin-left:10px; clear:both;\">![Task](https://github.com/spficklin/Data-Analytics-With-Python/blob/master/media/new_knowledge.png?raw=true)</span>\n",
    "## Get Started\n",
    "Import the Numpy and Pandas packages"
   ]
  },
  {
   "cell_type": "code",
   "execution_count": 1,
   "metadata": {},
   "outputs": [],
   "source": [
    "import numpy as np\n",
    "import pandas as pd\n"
   ]
  },
  {
   "cell_type": "markdown",
   "metadata": {},
   "source": [
    "## Exercise 1: Review of Pandas Part 1\n",
    "### Task 1: Explore the data\n",
    "Import the data from the [Lectures in Quantiatives Economics](https://github.com/QuantEcon/lecture-source-py) regarding minimum wages in countries round the world in US Dollars.  You can view the data [here](https://github.com/QuantEcon/lecture-source-py/blob/master/source/_static/lecture_specific/pandas_panel/realwage.csv) and you can access the data file here: https://raw.githubusercontent.com/QuantEcon/lecture-source-py/master/source/_static/lecture_specific/pandas_panel/realwage.csv.  Then perform the following\n",
    "\n",
    "Import the data into a variable named `minwages` and print the first 5 lines of data to explore what is there."
   ]
  },
  {
   "cell_type": "code",
   "execution_count": 5,
   "metadata": {},
   "outputs": [
    {
     "data": {
      "text/html": [
       "<div>\n",
       "<style scoped>\n",
       "    .dataframe tbody tr th:only-of-type {\n",
       "        vertical-align: middle;\n",
       "    }\n",
       "\n",
       "    .dataframe tbody tr th {\n",
       "        vertical-align: top;\n",
       "    }\n",
       "\n",
       "    .dataframe thead th {\n",
       "        text-align: right;\n",
       "    }\n",
       "</style>\n",
       "<table border=\"1\" class=\"dataframe\">\n",
       "  <thead>\n",
       "    <tr style=\"text-align: right;\">\n",
       "      <th></th>\n",
       "      <th>Unnamed: 0</th>\n",
       "      <th>Time</th>\n",
       "      <th>Country</th>\n",
       "      <th>Series</th>\n",
       "      <th>Pay period</th>\n",
       "      <th>value</th>\n",
       "    </tr>\n",
       "  </thead>\n",
       "  <tbody>\n",
       "    <tr>\n",
       "      <td>0</td>\n",
       "      <td>0</td>\n",
       "      <td>2006-01-01</td>\n",
       "      <td>Ireland</td>\n",
       "      <td>In 2015 constant prices at 2015 USD PPPs</td>\n",
       "      <td>Annual</td>\n",
       "      <td>17132.443</td>\n",
       "    </tr>\n",
       "    <tr>\n",
       "      <td>1</td>\n",
       "      <td>1</td>\n",
       "      <td>2007-01-01</td>\n",
       "      <td>Ireland</td>\n",
       "      <td>In 2015 constant prices at 2015 USD PPPs</td>\n",
       "      <td>Annual</td>\n",
       "      <td>18100.918</td>\n",
       "    </tr>\n",
       "    <tr>\n",
       "      <td>2</td>\n",
       "      <td>2</td>\n",
       "      <td>2008-01-01</td>\n",
       "      <td>Ireland</td>\n",
       "      <td>In 2015 constant prices at 2015 USD PPPs</td>\n",
       "      <td>Annual</td>\n",
       "      <td>17747.406</td>\n",
       "    </tr>\n",
       "    <tr>\n",
       "      <td>3</td>\n",
       "      <td>3</td>\n",
       "      <td>2009-01-01</td>\n",
       "      <td>Ireland</td>\n",
       "      <td>In 2015 constant prices at 2015 USD PPPs</td>\n",
       "      <td>Annual</td>\n",
       "      <td>18580.139</td>\n",
       "    </tr>\n",
       "    <tr>\n",
       "      <td>4</td>\n",
       "      <td>4</td>\n",
       "      <td>2010-01-01</td>\n",
       "      <td>Ireland</td>\n",
       "      <td>In 2015 constant prices at 2015 USD PPPs</td>\n",
       "      <td>Annual</td>\n",
       "      <td>18755.832</td>\n",
       "    </tr>\n",
       "  </tbody>\n",
       "</table>\n",
       "</div>"
      ],
      "text/plain": [
       "   Unnamed: 0        Time  Country                                    Series  \\\n",
       "0           0  2006-01-01  Ireland  In 2015 constant prices at 2015 USD PPPs   \n",
       "1           1  2007-01-01  Ireland  In 2015 constant prices at 2015 USD PPPs   \n",
       "2           2  2008-01-01  Ireland  In 2015 constant prices at 2015 USD PPPs   \n",
       "3           3  2009-01-01  Ireland  In 2015 constant prices at 2015 USD PPPs   \n",
       "4           4  2010-01-01  Ireland  In 2015 constant prices at 2015 USD PPPs   \n",
       "\n",
       "  Pay period      value  \n",
       "0     Annual  17132.443  \n",
       "1     Annual  18100.918  \n",
       "2     Annual  17747.406  \n",
       "3     Annual  18580.139  \n",
       "4     Annual  18755.832  "
      ]
     },
     "execution_count": 5,
     "metadata": {},
     "output_type": "execute_result"
    }
   ],
   "source": [
    "minwages = pd.read_csv(\"https://raw.githubusercontent.com/QuantEcon/lecture-source-py/master/source/_static/lecture_specific/pandas_panel/realwage.csv\")\n",
    "\n",
    "minwages.head()"
   ]
  },
  {
   "cell_type": "markdown",
   "metadata": {},
   "source": [
    "Find the shape of the data."
   ]
  },
  {
   "cell_type": "code",
   "execution_count": 6,
   "metadata": {},
   "outputs": [
    {
     "data": {
      "text/plain": [
       "(1408, 6)"
      ]
     },
     "execution_count": 6,
     "metadata": {},
     "output_type": "execute_result"
    }
   ],
   "source": [
    "minwages.shape"
   ]
  },
  {
   "cell_type": "markdown",
   "metadata": {},
   "source": [
    "List the column names."
   ]
  },
  {
   "cell_type": "code",
   "execution_count": 4,
   "metadata": {},
   "outputs": [
    {
     "data": {
      "text/plain": [
       "Index(['Unnamed: 0', 'Time', 'Country', 'Series', 'Pay period', 'value'], dtype='object')"
      ]
     },
     "execution_count": 4,
     "metadata": {},
     "output_type": "execute_result"
    }
   ],
   "source": [
    "minwages.columns"
   ]
  },
  {
   "cell_type": "markdown",
   "metadata": {},
   "source": [
    "Identify the data types. Do they match what you would expect?"
   ]
  },
  {
   "cell_type": "code",
   "execution_count": 19,
   "metadata": {},
   "outputs": [
    {
     "data": {
      "text/plain": [
       "Unnamed: 0             int64\n",
       "Time          datetime64[ns]\n",
       "Country               object\n",
       "Series                object\n",
       "Pay period            object\n",
       "value                float64\n",
       "dtype: object"
      ]
     },
     "execution_count": 19,
     "metadata": {},
     "output_type": "execute_result"
    }
   ],
   "source": [
    "minwages.dtypes"
   ]
  },
  {
   "cell_type": "code",
   "execution_count": 17,
   "metadata": {},
   "outputs": [],
   "source": [
    "minwages['Time'] = pd.to_datetime(minwages['Time'])"
   ]
  },
  {
   "cell_type": "markdown",
   "metadata": {},
   "source": [
    "Identify columns with missing values. "
   ]
  },
  {
   "cell_type": "code",
   "execution_count": 18,
   "metadata": {},
   "outputs": [
    {
     "data": {
      "text/plain": [
       "Unnamed: 0     0\n",
       "Time           0\n",
       "Country        0\n",
       "Series         0\n",
       "Pay period     0\n",
       "value         68\n",
       "dtype: int64"
      ]
     },
     "execution_count": 18,
     "metadata": {},
     "output_type": "execute_result"
    }
   ],
   "source": [
    "minwages.isna().sum()"
   ]
  },
  {
   "cell_type": "markdown",
   "metadata": {},
   "source": [
    "Identify if there are duplicated entires."
   ]
  },
  {
   "cell_type": "code",
   "execution_count": 20,
   "metadata": {},
   "outputs": [
    {
     "data": {
      "text/plain": [
       "0"
      ]
     },
     "execution_count": 20,
     "metadata": {},
     "output_type": "execute_result"
    }
   ],
   "source": [
    "minwages.duplicated().sum()"
   ]
  },
  {
   "cell_type": "markdown",
   "metadata": {},
   "source": [
    "How many unique values per row are there.  Do these look reasonable for the data type and what you know about what is stored in the column?"
   ]
  },
  {
   "cell_type": "code",
   "execution_count": 21,
   "metadata": {},
   "outputs": [
    {
     "data": {
      "text/plain": [
       "Unnamed: 0    1408\n",
       "Time            11\n",
       "Country         32\n",
       "Series           2\n",
       "Pay period       2\n",
       "value         1289\n",
       "dtype: int64"
      ]
     },
     "execution_count": 21,
     "metadata": {},
     "output_type": "execute_result"
    }
   ],
   "source": [
    "minwages.nunique()"
   ]
  },
  {
   "cell_type": "code",
   "execution_count": 28,
   "metadata": {},
   "outputs": [
    {
     "data": {
      "text/html": [
       "<div>\n",
       "<style scoped>\n",
       "    .dataframe tbody tr th:only-of-type {\n",
       "        vertical-align: middle;\n",
       "    }\n",
       "\n",
       "    .dataframe tbody tr th {\n",
       "        vertical-align: top;\n",
       "    }\n",
       "\n",
       "    .dataframe thead th {\n",
       "        text-align: right;\n",
       "    }\n",
       "</style>\n",
       "<table border=\"1\" class=\"dataframe\">\n",
       "  <thead>\n",
       "    <tr style=\"text-align: right;\">\n",
       "      <th></th>\n",
       "      <th>Time</th>\n",
       "      <th>Country</th>\n",
       "      <th>Series</th>\n",
       "      <th>Pay period</th>\n",
       "      <th>value</th>\n",
       "    </tr>\n",
       "  </thead>\n",
       "  <tbody>\n",
       "    <tr>\n",
       "      <td>0</td>\n",
       "      <td>2006-01-01</td>\n",
       "      <td>Ireland</td>\n",
       "      <td>In 2015 constant prices at 2015 USD PPPs</td>\n",
       "      <td>Annual</td>\n",
       "      <td>17132.443</td>\n",
       "    </tr>\n",
       "    <tr>\n",
       "      <td>1</td>\n",
       "      <td>2007-01-01</td>\n",
       "      <td>Ireland</td>\n",
       "      <td>In 2015 constant prices at 2015 USD PPPs</td>\n",
       "      <td>Annual</td>\n",
       "      <td>18100.918</td>\n",
       "    </tr>\n",
       "    <tr>\n",
       "      <td>2</td>\n",
       "      <td>2008-01-01</td>\n",
       "      <td>Ireland</td>\n",
       "      <td>In 2015 constant prices at 2015 USD PPPs</td>\n",
       "      <td>Annual</td>\n",
       "      <td>17747.406</td>\n",
       "    </tr>\n",
       "    <tr>\n",
       "      <td>3</td>\n",
       "      <td>2009-01-01</td>\n",
       "      <td>Ireland</td>\n",
       "      <td>In 2015 constant prices at 2015 USD PPPs</td>\n",
       "      <td>Annual</td>\n",
       "      <td>18580.139</td>\n",
       "    </tr>\n",
       "    <tr>\n",
       "      <td>4</td>\n",
       "      <td>2010-01-01</td>\n",
       "      <td>Ireland</td>\n",
       "      <td>In 2015 constant prices at 2015 USD PPPs</td>\n",
       "      <td>Annual</td>\n",
       "      <td>18755.832</td>\n",
       "    </tr>\n",
       "  </tbody>\n",
       "</table>\n",
       "</div>"
      ],
      "text/plain": [
       "        Time  Country                                    Series Pay period  \\\n",
       "0 2006-01-01  Ireland  In 2015 constant prices at 2015 USD PPPs     Annual   \n",
       "1 2007-01-01  Ireland  In 2015 constant prices at 2015 USD PPPs     Annual   \n",
       "2 2008-01-01  Ireland  In 2015 constant prices at 2015 USD PPPs     Annual   \n",
       "3 2009-01-01  Ireland  In 2015 constant prices at 2015 USD PPPs     Annual   \n",
       "4 2010-01-01  Ireland  In 2015 constant prices at 2015 USD PPPs     Annual   \n",
       "\n",
       "       value  \n",
       "0  17132.443  \n",
       "1  18100.918  \n",
       "2  17747.406  \n",
       "3  18580.139  \n",
       "4  18755.832  "
      ]
     },
     "execution_count": 28,
     "metadata": {},
     "output_type": "execute_result"
    }
   ],
   "source": [
    "#removing index column\n",
    "\n",
    "minwages.head()\n",
    "\n"
   ]
  },
  {
   "cell_type": "markdown",
   "metadata": {},
   "source": [
    "### Task 2: Explore More\n",
    "\n",
    "Retrieve descriptive statistics for the data."
   ]
  },
  {
   "cell_type": "code",
   "execution_count": 29,
   "metadata": {},
   "outputs": [
    {
     "data": {
      "text/html": [
       "<div>\n",
       "<style scoped>\n",
       "    .dataframe tbody tr th:only-of-type {\n",
       "        vertical-align: middle;\n",
       "    }\n",
       "\n",
       "    .dataframe tbody tr th {\n",
       "        vertical-align: top;\n",
       "    }\n",
       "\n",
       "    .dataframe thead th {\n",
       "        text-align: right;\n",
       "    }\n",
       "</style>\n",
       "<table border=\"1\" class=\"dataframe\">\n",
       "  <thead>\n",
       "    <tr style=\"text-align: right;\">\n",
       "      <th></th>\n",
       "      <th>value</th>\n",
       "    </tr>\n",
       "  </thead>\n",
       "  <tbody>\n",
       "    <tr>\n",
       "      <td>count</td>\n",
       "      <td>1340.000000</td>\n",
       "    </tr>\n",
       "    <tr>\n",
       "      <td>mean</td>\n",
       "      <td>5697.843084</td>\n",
       "    </tr>\n",
       "    <tr>\n",
       "      <td>std</td>\n",
       "      <td>7475.920784</td>\n",
       "    </tr>\n",
       "    <tr>\n",
       "      <td>min</td>\n",
       "      <td>0.234000</td>\n",
       "    </tr>\n",
       "    <tr>\n",
       "      <td>25%</td>\n",
       "      <td>4.388742</td>\n",
       "    </tr>\n",
       "    <tr>\n",
       "      <td>50%</td>\n",
       "      <td>290.606495</td>\n",
       "    </tr>\n",
       "    <tr>\n",
       "      <td>75%</td>\n",
       "      <td>10501.730500</td>\n",
       "    </tr>\n",
       "    <tr>\n",
       "      <td>max</td>\n",
       "      <td>25713.797000</td>\n",
       "    </tr>\n",
       "  </tbody>\n",
       "</table>\n",
       "</div>"
      ],
      "text/plain": [
       "              value\n",
       "count   1340.000000\n",
       "mean    5697.843084\n",
       "std     7475.920784\n",
       "min        0.234000\n",
       "25%        4.388742\n",
       "50%      290.606495\n",
       "75%    10501.730500\n",
       "max    25713.797000"
      ]
     },
     "execution_count": 29,
     "metadata": {},
     "output_type": "execute_result"
    }
   ],
   "source": [
    "minwages.describe()"
   ]
  },
  {
   "cell_type": "markdown",
   "metadata": {},
   "source": [
    "Identify all of the countries listed in the data."
   ]
  },
  {
   "cell_type": "code",
   "execution_count": 41,
   "metadata": {},
   "outputs": [
    {
     "data": {
      "text/plain": [
       "32"
      ]
     },
     "execution_count": 41,
     "metadata": {},
     "output_type": "execute_result"
    }
   ],
   "source": [
    "minwages['Country'].nunique()"
   ]
  },
  {
   "cell_type": "code",
   "execution_count": 42,
   "metadata": {},
   "outputs": [
    {
     "data": {
      "text/plain": [
       "array(['Ireland', 'Spain', 'Australia', 'Turkey', 'Luxembourg',\n",
       "       'New Zealand', 'United Kingdom', 'Mexico', 'Greece',\n",
       "       'Slovak Republic', 'Portugal', 'France', 'United States', 'Japan',\n",
       "       'Netherlands', 'Estonia', 'Hungary', 'Poland', 'Czech Republic',\n",
       "       'Canada', 'Korea', 'Slovenia', 'Chile', 'Israel', 'Belgium',\n",
       "       'Germany', 'Brazil', 'Russian Federation', 'Lithuania', 'Latvia',\n",
       "       'Colombia', 'Costa Rica'], dtype=object)"
      ]
     },
     "execution_count": 42,
     "metadata": {},
     "output_type": "execute_result"
    }
   ],
   "source": [
    "minwages['Country'].unique()"
   ]
  },
  {
   "cell_type": "markdown",
   "metadata": {},
   "source": [
    "Convert the time column to a datetime object."
   ]
  },
  {
   "cell_type": "code",
   "execution_count": null,
   "metadata": {},
   "outputs": [],
   "source": []
  },
  {
   "cell_type": "markdown",
   "metadata": {},
   "source": [
    "List the time points that were used for data collection. How many years of data collection were there? What time of year were the data collected?"
   ]
  },
  {
   "cell_type": "code",
   "execution_count": 44,
   "metadata": {},
   "outputs": [
    {
     "data": {
      "text/plain": [
       "array(['2006-01-01T00:00:00.000000000', '2007-01-01T00:00:00.000000000',\n",
       "       '2008-01-01T00:00:00.000000000', '2009-01-01T00:00:00.000000000',\n",
       "       '2010-01-01T00:00:00.000000000', '2011-01-01T00:00:00.000000000',\n",
       "       '2012-01-01T00:00:00.000000000', '2013-01-01T00:00:00.000000000',\n",
       "       '2014-01-01T00:00:00.000000000', '2015-01-01T00:00:00.000000000',\n",
       "       '2016-01-01T00:00:00.000000000'], dtype='datetime64[ns]')"
      ]
     },
     "execution_count": 44,
     "metadata": {},
     "output_type": "execute_result"
    }
   ],
   "source": [
    "minwages['Time'].unique()"
   ]
  },
  {
   "cell_type": "markdown",
   "metadata": {},
   "source": [
    "Because we only have one data point collected per year per country, simplify this by adding a new column with just the year.  Print the first 5 rows to confirm the column was added."
   ]
  },
  {
   "cell_type": "code",
   "execution_count": 40,
   "metadata": {},
   "outputs": [
    {
     "data": {
      "text/html": [
       "<div>\n",
       "<style scoped>\n",
       "    .dataframe tbody tr th:only-of-type {\n",
       "        vertical-align: middle;\n",
       "    }\n",
       "\n",
       "    .dataframe tbody tr th {\n",
       "        vertical-align: top;\n",
       "    }\n",
       "\n",
       "    .dataframe thead th {\n",
       "        text-align: right;\n",
       "    }\n",
       "</style>\n",
       "<table border=\"1\" class=\"dataframe\">\n",
       "  <thead>\n",
       "    <tr style=\"text-align: right;\">\n",
       "      <th></th>\n",
       "      <th>Time</th>\n",
       "      <th>Country</th>\n",
       "      <th>Series</th>\n",
       "      <th>Pay period</th>\n",
       "      <th>value</th>\n",
       "      <th>Year</th>\n",
       "    </tr>\n",
       "  </thead>\n",
       "  <tbody>\n",
       "    <tr>\n",
       "      <td>0</td>\n",
       "      <td>2006-01-01</td>\n",
       "      <td>Ireland</td>\n",
       "      <td>In 2015 constant prices at 2015 USD PPPs</td>\n",
       "      <td>Annual</td>\n",
       "      <td>17132.443</td>\n",
       "      <td>2006</td>\n",
       "    </tr>\n",
       "    <tr>\n",
       "      <td>1</td>\n",
       "      <td>2007-01-01</td>\n",
       "      <td>Ireland</td>\n",
       "      <td>In 2015 constant prices at 2015 USD PPPs</td>\n",
       "      <td>Annual</td>\n",
       "      <td>18100.918</td>\n",
       "      <td>2007</td>\n",
       "    </tr>\n",
       "    <tr>\n",
       "      <td>2</td>\n",
       "      <td>2008-01-01</td>\n",
       "      <td>Ireland</td>\n",
       "      <td>In 2015 constant prices at 2015 USD PPPs</td>\n",
       "      <td>Annual</td>\n",
       "      <td>17747.406</td>\n",
       "      <td>2008</td>\n",
       "    </tr>\n",
       "    <tr>\n",
       "      <td>3</td>\n",
       "      <td>2009-01-01</td>\n",
       "      <td>Ireland</td>\n",
       "      <td>In 2015 constant prices at 2015 USD PPPs</td>\n",
       "      <td>Annual</td>\n",
       "      <td>18580.139</td>\n",
       "      <td>2009</td>\n",
       "    </tr>\n",
       "    <tr>\n",
       "      <td>4</td>\n",
       "      <td>2010-01-01</td>\n",
       "      <td>Ireland</td>\n",
       "      <td>In 2015 constant prices at 2015 USD PPPs</td>\n",
       "      <td>Annual</td>\n",
       "      <td>18755.832</td>\n",
       "      <td>2010</td>\n",
       "    </tr>\n",
       "  </tbody>\n",
       "</table>\n",
       "</div>"
      ],
      "text/plain": [
       "        Time  Country                                    Series Pay period  \\\n",
       "0 2006-01-01  Ireland  In 2015 constant prices at 2015 USD PPPs     Annual   \n",
       "1 2007-01-01  Ireland  In 2015 constant prices at 2015 USD PPPs     Annual   \n",
       "2 2008-01-01  Ireland  In 2015 constant prices at 2015 USD PPPs     Annual   \n",
       "3 2009-01-01  Ireland  In 2015 constant prices at 2015 USD PPPs     Annual   \n",
       "4 2010-01-01  Ireland  In 2015 constant prices at 2015 USD PPPs     Annual   \n",
       "\n",
       "       value  Year  \n",
       "0  17132.443  2006  \n",
       "1  18100.918  2007  \n",
       "2  17747.406  2008  \n",
       "3  18580.139  2009  \n",
       "4  18755.832  2010  "
      ]
     },
     "execution_count": 40,
     "metadata": {},
     "output_type": "execute_result"
    }
   ],
   "source": [
    "minwages['Year'] = minwages['Time'].dt.year\n",
    "minwages.head()"
   ]
  },
  {
   "cell_type": "code",
   "execution_count": null,
   "metadata": {},
   "outputs": [],
   "source": []
  },
  {
   "cell_type": "markdown",
   "metadata": {},
   "source": [
    "There are two pay periods.  Retrieve them in a list of just the two strings"
   ]
  },
  {
   "cell_type": "code",
   "execution_count": 45,
   "metadata": {},
   "outputs": [
    {
     "data": {
      "text/plain": [
       "array(['Annual', 'Hourly'], dtype=object)"
      ]
     },
     "execution_count": 45,
     "metadata": {},
     "output_type": "execute_result"
    }
   ],
   "source": [
    "minwages['Pay period'].unique()"
   ]
  },
  {
   "cell_type": "markdown",
   "metadata": {},
   "source": [
    "### Task 3: Clean the data\n",
    "We have no duplicates in this data so we do not need to consider removing those, but we do have missing values in the `value` column. Lets remove those.  Check the dimensions afterwards to make sure they rows with missing values are gone."
   ]
  },
  {
   "cell_type": "code",
   "execution_count": 48,
   "metadata": {},
   "outputs": [
    {
     "name": "stdout",
     "output_type": "stream",
     "text": [
      "(1340, 6)\n",
      "(1340, 6)\n"
     ]
    },
    {
     "data": {
      "text/plain": [
       "Time          0\n",
       "Country       0\n",
       "Series        0\n",
       "Pay period    0\n",
       "value         0\n",
       "Year          0\n",
       "dtype: int64"
      ]
     },
     "execution_count": 48,
     "metadata": {},
     "output_type": "execute_result"
    }
   ],
   "source": [
    "print(minwages.shape)\n",
    "minwages.dropna(inplace = True)\n",
    "print(minwages.shape)\n",
    "minwages.isna().sum()"
   ]
  },
  {
   "cell_type": "markdown",
   "metadata": {},
   "source": [
    "Remove the \"Unnamed: 0\" column as it's not needed."
   ]
  },
  {
   "cell_type": "code",
   "execution_count": null,
   "metadata": {},
   "outputs": [],
   "source": []
  },
  {
   "cell_type": "code",
   "execution_count": 49,
   "metadata": {},
   "outputs": [
    {
     "data": {
      "text/plain": [
       "Time          0\n",
       "Country       0\n",
       "Series        0\n",
       "Pay period    0\n",
       "value         0\n",
       "Year          0\n",
       "dtype: int64"
      ]
     },
     "execution_count": 49,
     "metadata": {},
     "output_type": "execute_result"
    }
   ],
   "source": [
    "pd.isnull(minwages).sum()"
   ]
  },
  {
   "cell_type": "markdown",
   "metadata": {},
   "source": [
    "### Task 4:  Indexing\n",
    "Use boolean indexing to retrieve the rows of annual salary in United States"
   ]
  },
  {
   "cell_type": "code",
   "execution_count": 52,
   "metadata": {},
   "outputs": [
    {
     "data": {
      "text/html": [
       "<div>\n",
       "<style scoped>\n",
       "    .dataframe tbody tr th:only-of-type {\n",
       "        vertical-align: middle;\n",
       "    }\n",
       "\n",
       "    .dataframe tbody tr th {\n",
       "        vertical-align: top;\n",
       "    }\n",
       "\n",
       "    .dataframe thead th {\n",
       "        text-align: right;\n",
       "    }\n",
       "</style>\n",
       "<table border=\"1\" class=\"dataframe\">\n",
       "  <thead>\n",
       "    <tr style=\"text-align: right;\">\n",
       "      <th></th>\n",
       "      <th>Time</th>\n",
       "      <th>Country</th>\n",
       "      <th>Series</th>\n",
       "      <th>Pay period</th>\n",
       "      <th>value</th>\n",
       "      <th>Year</th>\n",
       "    </tr>\n",
       "  </thead>\n",
       "  <tbody>\n",
       "    <tr>\n",
       "      <td>528</td>\n",
       "      <td>2006-01-01</td>\n",
       "      <td>United States</td>\n",
       "      <td>In 2015 constant prices at 2015 USD PPPs</td>\n",
       "      <td>Annual</td>\n",
       "      <td>12594.397</td>\n",
       "      <td>2006</td>\n",
       "    </tr>\n",
       "    <tr>\n",
       "      <td>529</td>\n",
       "      <td>2007-01-01</td>\n",
       "      <td>United States</td>\n",
       "      <td>In 2015 constant prices at 2015 USD PPPs</td>\n",
       "      <td>Annual</td>\n",
       "      <td>12974.395</td>\n",
       "      <td>2007</td>\n",
       "    </tr>\n",
       "    <tr>\n",
       "      <td>530</td>\n",
       "      <td>2008-01-01</td>\n",
       "      <td>United States</td>\n",
       "      <td>In 2015 constant prices at 2015 USD PPPs</td>\n",
       "      <td>Annual</td>\n",
       "      <td>14097.556</td>\n",
       "      <td>2008</td>\n",
       "    </tr>\n",
       "    <tr>\n",
       "      <td>531</td>\n",
       "      <td>2009-01-01</td>\n",
       "      <td>United States</td>\n",
       "      <td>In 2015 constant prices at 2015 USD PPPs</td>\n",
       "      <td>Annual</td>\n",
       "      <td>15756.423</td>\n",
       "      <td>2009</td>\n",
       "    </tr>\n",
       "    <tr>\n",
       "      <td>532</td>\n",
       "      <td>2010-01-01</td>\n",
       "      <td>United States</td>\n",
       "      <td>In 2015 constant prices at 2015 USD PPPs</td>\n",
       "      <td>Annual</td>\n",
       "      <td>16391.313</td>\n",
       "      <td>2010</td>\n",
       "    </tr>\n",
       "    <tr>\n",
       "      <td>533</td>\n",
       "      <td>2011-01-01</td>\n",
       "      <td>United States</td>\n",
       "      <td>In 2015 constant prices at 2015 USD PPPs</td>\n",
       "      <td>Annual</td>\n",
       "      <td>15889.705</td>\n",
       "      <td>2011</td>\n",
       "    </tr>\n",
       "    <tr>\n",
       "      <td>534</td>\n",
       "      <td>2012-01-01</td>\n",
       "      <td>United States</td>\n",
       "      <td>In 2015 constant prices at 2015 USD PPPs</td>\n",
       "      <td>Annual</td>\n",
       "      <td>15567.554</td>\n",
       "      <td>2012</td>\n",
       "    </tr>\n",
       "    <tr>\n",
       "      <td>535</td>\n",
       "      <td>2013-01-01</td>\n",
       "      <td>United States</td>\n",
       "      <td>In 2015 constant prices at 2015 USD PPPs</td>\n",
       "      <td>Annual</td>\n",
       "      <td>15342.814</td>\n",
       "      <td>2013</td>\n",
       "    </tr>\n",
       "    <tr>\n",
       "      <td>536</td>\n",
       "      <td>2014-01-01</td>\n",
       "      <td>United States</td>\n",
       "      <td>In 2015 constant prices at 2015 USD PPPs</td>\n",
       "      <td>Annual</td>\n",
       "      <td>15097.890</td>\n",
       "      <td>2014</td>\n",
       "    </tr>\n",
       "    <tr>\n",
       "      <td>537</td>\n",
       "      <td>2015-01-01</td>\n",
       "      <td>United States</td>\n",
       "      <td>In 2015 constant prices at 2015 USD PPPs</td>\n",
       "      <td>Annual</td>\n",
       "      <td>15080.000</td>\n",
       "      <td>2015</td>\n",
       "    </tr>\n",
       "    <tr>\n",
       "      <td>538</td>\n",
       "      <td>2016-01-01</td>\n",
       "      <td>United States</td>\n",
       "      <td>In 2015 constant prices at 2015 USD PPPs</td>\n",
       "      <td>Annual</td>\n",
       "      <td>14892.122</td>\n",
       "      <td>2016</td>\n",
       "    </tr>\n",
       "    <tr>\n",
       "      <td>550</td>\n",
       "      <td>2006-01-01</td>\n",
       "      <td>United States</td>\n",
       "      <td>In 2015 constant prices at 2015 USD exchange r...</td>\n",
       "      <td>Annual</td>\n",
       "      <td>12594.397</td>\n",
       "      <td>2006</td>\n",
       "    </tr>\n",
       "    <tr>\n",
       "      <td>551</td>\n",
       "      <td>2007-01-01</td>\n",
       "      <td>United States</td>\n",
       "      <td>In 2015 constant prices at 2015 USD exchange r...</td>\n",
       "      <td>Annual</td>\n",
       "      <td>12974.395</td>\n",
       "      <td>2007</td>\n",
       "    </tr>\n",
       "    <tr>\n",
       "      <td>552</td>\n",
       "      <td>2008-01-01</td>\n",
       "      <td>United States</td>\n",
       "      <td>In 2015 constant prices at 2015 USD exchange r...</td>\n",
       "      <td>Annual</td>\n",
       "      <td>14097.556</td>\n",
       "      <td>2008</td>\n",
       "    </tr>\n",
       "    <tr>\n",
       "      <td>553</td>\n",
       "      <td>2009-01-01</td>\n",
       "      <td>United States</td>\n",
       "      <td>In 2015 constant prices at 2015 USD exchange r...</td>\n",
       "      <td>Annual</td>\n",
       "      <td>15756.423</td>\n",
       "      <td>2009</td>\n",
       "    </tr>\n",
       "    <tr>\n",
       "      <td>554</td>\n",
       "      <td>2010-01-01</td>\n",
       "      <td>United States</td>\n",
       "      <td>In 2015 constant prices at 2015 USD exchange r...</td>\n",
       "      <td>Annual</td>\n",
       "      <td>16391.313</td>\n",
       "      <td>2010</td>\n",
       "    </tr>\n",
       "    <tr>\n",
       "      <td>555</td>\n",
       "      <td>2011-01-01</td>\n",
       "      <td>United States</td>\n",
       "      <td>In 2015 constant prices at 2015 USD exchange r...</td>\n",
       "      <td>Annual</td>\n",
       "      <td>15889.705</td>\n",
       "      <td>2011</td>\n",
       "    </tr>\n",
       "    <tr>\n",
       "      <td>556</td>\n",
       "      <td>2012-01-01</td>\n",
       "      <td>United States</td>\n",
       "      <td>In 2015 constant prices at 2015 USD exchange r...</td>\n",
       "      <td>Annual</td>\n",
       "      <td>15567.554</td>\n",
       "      <td>2012</td>\n",
       "    </tr>\n",
       "    <tr>\n",
       "      <td>557</td>\n",
       "      <td>2013-01-01</td>\n",
       "      <td>United States</td>\n",
       "      <td>In 2015 constant prices at 2015 USD exchange r...</td>\n",
       "      <td>Annual</td>\n",
       "      <td>15342.814</td>\n",
       "      <td>2013</td>\n",
       "    </tr>\n",
       "    <tr>\n",
       "      <td>558</td>\n",
       "      <td>2014-01-01</td>\n",
       "      <td>United States</td>\n",
       "      <td>In 2015 constant prices at 2015 USD exchange r...</td>\n",
       "      <td>Annual</td>\n",
       "      <td>15097.890</td>\n",
       "      <td>2014</td>\n",
       "    </tr>\n",
       "    <tr>\n",
       "      <td>559</td>\n",
       "      <td>2015-01-01</td>\n",
       "      <td>United States</td>\n",
       "      <td>In 2015 constant prices at 2015 USD exchange r...</td>\n",
       "      <td>Annual</td>\n",
       "      <td>15080.000</td>\n",
       "      <td>2015</td>\n",
       "    </tr>\n",
       "    <tr>\n",
       "      <td>560</td>\n",
       "      <td>2016-01-01</td>\n",
       "      <td>United States</td>\n",
       "      <td>In 2015 constant prices at 2015 USD exchange r...</td>\n",
       "      <td>Annual</td>\n",
       "      <td>14892.122</td>\n",
       "      <td>2016</td>\n",
       "    </tr>\n",
       "  </tbody>\n",
       "</table>\n",
       "</div>"
      ],
      "text/plain": [
       "          Time        Country  \\\n",
       "528 2006-01-01  United States   \n",
       "529 2007-01-01  United States   \n",
       "530 2008-01-01  United States   \n",
       "531 2009-01-01  United States   \n",
       "532 2010-01-01  United States   \n",
       "533 2011-01-01  United States   \n",
       "534 2012-01-01  United States   \n",
       "535 2013-01-01  United States   \n",
       "536 2014-01-01  United States   \n",
       "537 2015-01-01  United States   \n",
       "538 2016-01-01  United States   \n",
       "550 2006-01-01  United States   \n",
       "551 2007-01-01  United States   \n",
       "552 2008-01-01  United States   \n",
       "553 2009-01-01  United States   \n",
       "554 2010-01-01  United States   \n",
       "555 2011-01-01  United States   \n",
       "556 2012-01-01  United States   \n",
       "557 2013-01-01  United States   \n",
       "558 2014-01-01  United States   \n",
       "559 2015-01-01  United States   \n",
       "560 2016-01-01  United States   \n",
       "\n",
       "                                                Series Pay period      value  \\\n",
       "528           In 2015 constant prices at 2015 USD PPPs     Annual  12594.397   \n",
       "529           In 2015 constant prices at 2015 USD PPPs     Annual  12974.395   \n",
       "530           In 2015 constant prices at 2015 USD PPPs     Annual  14097.556   \n",
       "531           In 2015 constant prices at 2015 USD PPPs     Annual  15756.423   \n",
       "532           In 2015 constant prices at 2015 USD PPPs     Annual  16391.313   \n",
       "533           In 2015 constant prices at 2015 USD PPPs     Annual  15889.705   \n",
       "534           In 2015 constant prices at 2015 USD PPPs     Annual  15567.554   \n",
       "535           In 2015 constant prices at 2015 USD PPPs     Annual  15342.814   \n",
       "536           In 2015 constant prices at 2015 USD PPPs     Annual  15097.890   \n",
       "537           In 2015 constant prices at 2015 USD PPPs     Annual  15080.000   \n",
       "538           In 2015 constant prices at 2015 USD PPPs     Annual  14892.122   \n",
       "550  In 2015 constant prices at 2015 USD exchange r...     Annual  12594.397   \n",
       "551  In 2015 constant prices at 2015 USD exchange r...     Annual  12974.395   \n",
       "552  In 2015 constant prices at 2015 USD exchange r...     Annual  14097.556   \n",
       "553  In 2015 constant prices at 2015 USD exchange r...     Annual  15756.423   \n",
       "554  In 2015 constant prices at 2015 USD exchange r...     Annual  16391.313   \n",
       "555  In 2015 constant prices at 2015 USD exchange r...     Annual  15889.705   \n",
       "556  In 2015 constant prices at 2015 USD exchange r...     Annual  15567.554   \n",
       "557  In 2015 constant prices at 2015 USD exchange r...     Annual  15342.814   \n",
       "558  In 2015 constant prices at 2015 USD exchange r...     Annual  15097.890   \n",
       "559  In 2015 constant prices at 2015 USD exchange r...     Annual  15080.000   \n",
       "560  In 2015 constant prices at 2015 USD exchange r...     Annual  14892.122   \n",
       "\n",
       "     Year  \n",
       "528  2006  \n",
       "529  2007  \n",
       "530  2008  \n",
       "531  2009  \n",
       "532  2010  \n",
       "533  2011  \n",
       "534  2012  \n",
       "535  2013  \n",
       "536  2014  \n",
       "537  2015  \n",
       "538  2016  \n",
       "550  2006  \n",
       "551  2007  \n",
       "552  2008  \n",
       "553  2009  \n",
       "554  2010  \n",
       "555  2011  \n",
       "556  2012  \n",
       "557  2013  \n",
       "558  2014  \n",
       "559  2015  \n",
       "560  2016  "
      ]
     },
     "execution_count": 52,
     "metadata": {},
     "output_type": "execute_result"
    }
   ],
   "source": [
    "minwages[(minwages['Country'] == \"United States\") & (minwages['Pay period'] == \"Annual\")]"
   ]
  },
  {
   "cell_type": "markdown",
   "metadata": {},
   "source": [
    "Do we have enough data to calculate descriptive statistics for annual salary in the United States in 2016?"
   ]
  },
  {
   "cell_type": "code",
   "execution_count": null,
   "metadata": {},
   "outputs": [],
   "source": []
  },
  {
   "cell_type": "markdown",
   "metadata": {},
   "source": [
    "Use `loc` to calculate descriptive statistics for the hourly salary in the United States and then again separately for Ireland. Hint: you will have to set row indexes.  Hint: you should reset the index before using `loc`"
   ]
  },
  {
   "cell_type": "code",
   "execution_count": 53,
   "metadata": {},
   "outputs": [
    {
     "data": {
      "text/html": [
       "<div>\n",
       "<style scoped>\n",
       "    .dataframe tbody tr th:only-of-type {\n",
       "        vertical-align: middle;\n",
       "    }\n",
       "\n",
       "    .dataframe tbody tr th {\n",
       "        vertical-align: top;\n",
       "    }\n",
       "\n",
       "    .dataframe thead th {\n",
       "        text-align: right;\n",
       "    }\n",
       "</style>\n",
       "<table border=\"1\" class=\"dataframe\">\n",
       "  <thead>\n",
       "    <tr style=\"text-align: right;\">\n",
       "      <th></th>\n",
       "      <th>Time</th>\n",
       "      <th>Country</th>\n",
       "      <th>Series</th>\n",
       "      <th>Pay period</th>\n",
       "      <th>value</th>\n",
       "      <th>Year</th>\n",
       "    </tr>\n",
       "    <tr>\n",
       "      <th>Country</th>\n",
       "      <th></th>\n",
       "      <th></th>\n",
       "      <th></th>\n",
       "      <th></th>\n",
       "      <th></th>\n",
       "      <th></th>\n",
       "    </tr>\n",
       "  </thead>\n",
       "  <tbody>\n",
       "    <tr>\n",
       "      <td>Ireland</td>\n",
       "      <td>2006-01-01</td>\n",
       "      <td>Ireland</td>\n",
       "      <td>In 2015 constant prices at 2015 USD PPPs</td>\n",
       "      <td>Annual</td>\n",
       "      <td>17132.443</td>\n",
       "      <td>2006</td>\n",
       "    </tr>\n",
       "    <tr>\n",
       "      <td>Ireland</td>\n",
       "      <td>2007-01-01</td>\n",
       "      <td>Ireland</td>\n",
       "      <td>In 2015 constant prices at 2015 USD PPPs</td>\n",
       "      <td>Annual</td>\n",
       "      <td>18100.918</td>\n",
       "      <td>2007</td>\n",
       "    </tr>\n",
       "    <tr>\n",
       "      <td>Ireland</td>\n",
       "      <td>2008-01-01</td>\n",
       "      <td>Ireland</td>\n",
       "      <td>In 2015 constant prices at 2015 USD PPPs</td>\n",
       "      <td>Annual</td>\n",
       "      <td>17747.406</td>\n",
       "      <td>2008</td>\n",
       "    </tr>\n",
       "    <tr>\n",
       "      <td>Ireland</td>\n",
       "      <td>2009-01-01</td>\n",
       "      <td>Ireland</td>\n",
       "      <td>In 2015 constant prices at 2015 USD PPPs</td>\n",
       "      <td>Annual</td>\n",
       "      <td>18580.139</td>\n",
       "      <td>2009</td>\n",
       "    </tr>\n",
       "    <tr>\n",
       "      <td>Ireland</td>\n",
       "      <td>2010-01-01</td>\n",
       "      <td>Ireland</td>\n",
       "      <td>In 2015 constant prices at 2015 USD PPPs</td>\n",
       "      <td>Annual</td>\n",
       "      <td>18755.832</td>\n",
       "      <td>2010</td>\n",
       "    </tr>\n",
       "  </tbody>\n",
       "</table>\n",
       "</div>"
      ],
      "text/plain": [
       "              Time  Country                                    Series  \\\n",
       "Country                                                                 \n",
       "Ireland 2006-01-01  Ireland  In 2015 constant prices at 2015 USD PPPs   \n",
       "Ireland 2007-01-01  Ireland  In 2015 constant prices at 2015 USD PPPs   \n",
       "Ireland 2008-01-01  Ireland  In 2015 constant prices at 2015 USD PPPs   \n",
       "Ireland 2009-01-01  Ireland  In 2015 constant prices at 2015 USD PPPs   \n",
       "Ireland 2010-01-01  Ireland  In 2015 constant prices at 2015 USD PPPs   \n",
       "\n",
       "        Pay period      value  Year  \n",
       "Country                              \n",
       "Ireland     Annual  17132.443  2006  \n",
       "Ireland     Annual  18100.918  2007  \n",
       "Ireland     Annual  17747.406  2008  \n",
       "Ireland     Annual  18580.139  2009  \n",
       "Ireland     Annual  18755.832  2010  "
      ]
     },
     "execution_count": 53,
     "metadata": {},
     "output_type": "execute_result"
    }
   ],
   "source": [
    "minwages.index = minwages['Country']\n",
    "\n",
    "minwages.head()"
   ]
  },
  {
   "cell_type": "code",
   "execution_count": 56,
   "metadata": {},
   "outputs": [
    {
     "data": {
      "text/html": [
       "<div>\n",
       "<style scoped>\n",
       "    .dataframe tbody tr th:only-of-type {\n",
       "        vertical-align: middle;\n",
       "    }\n",
       "\n",
       "    .dataframe tbody tr th {\n",
       "        vertical-align: top;\n",
       "    }\n",
       "\n",
       "    .dataframe thead th {\n",
       "        text-align: right;\n",
       "    }\n",
       "</style>\n",
       "<table border=\"1\" class=\"dataframe\">\n",
       "  <thead>\n",
       "    <tr style=\"text-align: right;\">\n",
       "      <th></th>\n",
       "      <th>value</th>\n",
       "      <th>Year</th>\n",
       "    </tr>\n",
       "  </thead>\n",
       "  <tbody>\n",
       "    <tr>\n",
       "      <td>count</td>\n",
       "      <td>22.000000</td>\n",
       "      <td>22.000000</td>\n",
       "    </tr>\n",
       "    <tr>\n",
       "      <td>mean</td>\n",
       "      <td>14880.379000</td>\n",
       "      <td>2011.000000</td>\n",
       "    </tr>\n",
       "    <tr>\n",
       "      <td>std</td>\n",
       "      <td>1167.568383</td>\n",
       "      <td>3.236694</td>\n",
       "    </tr>\n",
       "    <tr>\n",
       "      <td>min</td>\n",
       "      <td>12594.397000</td>\n",
       "      <td>2006.000000</td>\n",
       "    </tr>\n",
       "    <tr>\n",
       "      <td>25%</td>\n",
       "      <td>14296.197500</td>\n",
       "      <td>2008.250000</td>\n",
       "    </tr>\n",
       "    <tr>\n",
       "      <td>50%</td>\n",
       "      <td>15097.890000</td>\n",
       "      <td>2011.000000</td>\n",
       "    </tr>\n",
       "    <tr>\n",
       "      <td>75%</td>\n",
       "      <td>15709.205750</td>\n",
       "      <td>2013.750000</td>\n",
       "    </tr>\n",
       "    <tr>\n",
       "      <td>max</td>\n",
       "      <td>16391.313000</td>\n",
       "      <td>2016.000000</td>\n",
       "    </tr>\n",
       "  </tbody>\n",
       "</table>\n",
       "</div>"
      ],
      "text/plain": [
       "              value         Year\n",
       "count     22.000000    22.000000\n",
       "mean   14880.379000  2011.000000\n",
       "std     1167.568383     3.236694\n",
       "min    12594.397000  2006.000000\n",
       "25%    14296.197500  2008.250000\n",
       "50%    15097.890000  2011.000000\n",
       "75%    15709.205750  2013.750000\n",
       "max    16391.313000  2016.000000"
      ]
     },
     "execution_count": 56,
     "metadata": {},
     "output_type": "execute_result"
    }
   ],
   "source": [
    "minwages[minwages[\"Pay period\"] == \"Annual\"].loc[\"United States\"].describe()"
   ]
  },
  {
   "cell_type": "code",
   "execution_count": null,
   "metadata": {},
   "outputs": [],
   "source": []
  },
  {
   "cell_type": "code",
   "execution_count": null,
   "metadata": {},
   "outputs": [],
   "source": []
  },
  {
   "cell_type": "markdown",
   "metadata": {},
   "source": [
    "Now do the same for Annual salary"
   ]
  },
  {
   "cell_type": "code",
   "execution_count": null,
   "metadata": {},
   "outputs": [],
   "source": []
  },
  {
   "cell_type": "code",
   "execution_count": null,
   "metadata": {},
   "outputs": [],
   "source": []
  },
  {
   "cell_type": "markdown",
   "metadata": {},
   "source": [
    "## Exercise 2: Occurances\n",
    "First, reset the indexes back to numeric values. Print the first 10 lines to confirm."
   ]
  },
  {
   "cell_type": "code",
   "execution_count": null,
   "metadata": {},
   "outputs": [],
   "source": []
  },
  {
   "cell_type": "markdown",
   "metadata": {},
   "source": [
    "Get the count of how many rows there are per year?"
   ]
  },
  {
   "cell_type": "code",
   "execution_count": 58,
   "metadata": {},
   "outputs": [
    {
     "data": {
      "text/plain": [
       "2016    128\n",
       "2015    128\n",
       "2014    124\n",
       "2013    120\n",
       "2012    120\n",
       "2011    120\n",
       "2010    120\n",
       "2009    120\n",
       "2008    120\n",
       "2007    120\n",
       "2006    120\n",
       "Name: Year, dtype: int64"
      ]
     },
     "execution_count": 58,
     "metadata": {},
     "output_type": "execute_result"
    }
   ],
   "source": [
    "minwages['Year'].value_counts()"
   ]
  },
  {
   "cell_type": "markdown",
   "metadata": {},
   "source": [
    "## Exercise 3: Grouping\n",
    "### Task 1: Aggregation\n",
    "Calculate the average salary for each country across all years."
   ]
  },
  {
   "cell_type": "code",
   "execution_count": 62,
   "metadata": {},
   "outputs": [],
   "source": [
    "minwages = minwages.reset_index(drop = True)"
   ]
  },
  {
   "cell_type": "code",
   "execution_count": 69,
   "metadata": {},
   "outputs": [],
   "source": [
    "mw_groups = minwages.groupby(['Country', 'Year', 'Pay period', 'Series'])\n"
   ]
  },
  {
   "cell_type": "code",
   "execution_count": 70,
   "metadata": {},
   "outputs": [
    {
     "data": {
      "text/html": [
       "<div>\n",
       "<style scoped>\n",
       "    .dataframe tbody tr th:only-of-type {\n",
       "        vertical-align: middle;\n",
       "    }\n",
       "\n",
       "    .dataframe tbody tr th {\n",
       "        vertical-align: top;\n",
       "    }\n",
       "\n",
       "    .dataframe thead th {\n",
       "        text-align: right;\n",
       "    }\n",
       "</style>\n",
       "<table border=\"1\" class=\"dataframe\">\n",
       "  <thead>\n",
       "    <tr style=\"text-align: right;\">\n",
       "      <th></th>\n",
       "      <th></th>\n",
       "      <th></th>\n",
       "      <th></th>\n",
       "      <th>value</th>\n",
       "    </tr>\n",
       "    <tr>\n",
       "      <th>Country</th>\n",
       "      <th>Year</th>\n",
       "      <th>Pay period</th>\n",
       "      <th>Series</th>\n",
       "      <th></th>\n",
       "    </tr>\n",
       "  </thead>\n",
       "  <tbody>\n",
       "    <tr>\n",
       "      <td rowspan=\"5\" valign=\"top\">Australia</td>\n",
       "      <td rowspan=\"4\" valign=\"top\">2006</td>\n",
       "      <td rowspan=\"2\" valign=\"top\">Annual</td>\n",
       "      <td>In 2015 constant prices at 2015 USD PPPs</td>\n",
       "      <td>20410.65200</td>\n",
       "    </tr>\n",
       "    <tr>\n",
       "      <td>In 2015 constant prices at 2015 USD exchange rates</td>\n",
       "      <td>23826.63700</td>\n",
       "    </tr>\n",
       "    <tr>\n",
       "      <td rowspan=\"2\" valign=\"top\">Hourly</td>\n",
       "      <td>In 2015 constant prices at 2015 USD PPPs</td>\n",
       "      <td>10.33073</td>\n",
       "    </tr>\n",
       "    <tr>\n",
       "      <td>In 2015 constant prices at 2015 USD exchange rates</td>\n",
       "      <td>12.06000</td>\n",
       "    </tr>\n",
       "    <tr>\n",
       "      <td>2007</td>\n",
       "      <td>Annual</td>\n",
       "      <td>In 2015 constant prices at 2015 USD PPPs</td>\n",
       "      <td>21087.56800</td>\n",
       "    </tr>\n",
       "  </tbody>\n",
       "</table>\n",
       "</div>"
      ],
      "text/plain": [
       "                                                                                    value\n",
       "Country   Year Pay period Series                                                         \n",
       "Australia 2006 Annual     In 2015 constant prices at 2015 USD PPPs            20410.65200\n",
       "                          In 2015 constant prices at 2015 USD exchange rates  23826.63700\n",
       "               Hourly     In 2015 constant prices at 2015 USD PPPs               10.33073\n",
       "                          In 2015 constant prices at 2015 USD exchange rates     12.06000\n",
       "          2007 Annual     In 2015 constant prices at 2015 USD PPPs            21087.56800"
      ]
     },
     "execution_count": 70,
     "metadata": {},
     "output_type": "execute_result"
    }
   ],
   "source": [
    "mwmean = mw_groups.mean()\n",
    "mwmean.head()"
   ]
  },
  {
   "cell_type": "markdown",
   "metadata": {},
   "source": [
    "Calculate the average salary and hourly wage for each country across all years. Save the resulting dataframe containing the means into a new variable named `mwmean`."
   ]
  },
  {
   "cell_type": "code",
   "execution_count": null,
   "metadata": {},
   "outputs": [],
   "source": []
  },
  {
   "cell_type": "markdown",
   "metadata": {},
   "source": [
    "<span style=\"float:right; margin-left:10px; clear:both;\">![Task](https://github.com/spficklin/Data-Analytics-With-Python/blob/master/media/new_knowledge.png?raw=true)</span>\n",
    "\n",
    "Above we saw how to aggregate using built-in functions of the `DataFrameGroupBy` object. For eaxmple we called the `mean` function directly. These handly functions help with writing succint code. However, you can also use the `aggregate` function to do more! You can learn more on the [aggregate description page](https://pandas.pydata.org/pandas-docs/stable/reference/api/pandas.DataFrame.aggregate.html)\n",
    "\n",
    "With `aggregate` we can perform operations across rows and columns, and we can perform more than one operation at a time.  Explore the online documentation for the function and see how you would calculate the mean, min, and max for each country and pay period type, as well as the total number of records per country and pay period:\n"
   ]
  },
  {
   "cell_type": "code",
   "execution_count": 73,
   "metadata": {},
   "outputs": [
    {
     "data": {
      "text/html": [
       "<div>\n",
       "<style scoped>\n",
       "    .dataframe tbody tr th:only-of-type {\n",
       "        vertical-align: middle;\n",
       "    }\n",
       "\n",
       "    .dataframe tbody tr th {\n",
       "        vertical-align: top;\n",
       "    }\n",
       "\n",
       "    .dataframe thead th {\n",
       "        text-align: right;\n",
       "    }\n",
       "</style>\n",
       "<table border=\"1\" class=\"dataframe\">\n",
       "  <thead>\n",
       "    <tr style=\"text-align: right;\">\n",
       "      <th></th>\n",
       "      <th></th>\n",
       "      <th>mean</th>\n",
       "      <th>max</th>\n",
       "      <th>min</th>\n",
       "      <th>count</th>\n",
       "    </tr>\n",
       "    <tr>\n",
       "      <th>Country</th>\n",
       "      <th>Pay period</th>\n",
       "      <th></th>\n",
       "      <th></th>\n",
       "      <th></th>\n",
       "      <th></th>\n",
       "    </tr>\n",
       "  </thead>\n",
       "  <tbody>\n",
       "    <tr>\n",
       "      <td rowspan=\"2\" valign=\"top\">Australia</td>\n",
       "      <td>Annual</td>\n",
       "      <td>22950.927364</td>\n",
       "      <td>25643.72900</td>\n",
       "      <td>20410.65200</td>\n",
       "      <td>22</td>\n",
       "    </tr>\n",
       "    <tr>\n",
       "      <td>Hourly</td>\n",
       "      <td>11.616901</td>\n",
       "      <td>12.98100</td>\n",
       "      <td>10.33073</td>\n",
       "      <td>22</td>\n",
       "    </tr>\n",
       "    <tr>\n",
       "      <td rowspan=\"2\" valign=\"top\">Belgium</td>\n",
       "      <td>Annual</td>\n",
       "      <td>21146.370318</td>\n",
       "      <td>22140.19100</td>\n",
       "      <td>20228.74200</td>\n",
       "      <td>22</td>\n",
       "    </tr>\n",
       "    <tr>\n",
       "      <td>Hourly</td>\n",
       "      <td>10.138833</td>\n",
       "      <td>10.61538</td>\n",
       "      <td>9.69900</td>\n",
       "      <td>22</td>\n",
       "    </tr>\n",
       "    <tr>\n",
       "      <td>Brazil</td>\n",
       "      <td>Annual</td>\n",
       "      <td>3364.827682</td>\n",
       "      <td>4753.59910</td>\n",
       "      <td>2032.87300</td>\n",
       "      <td>22</td>\n",
       "    </tr>\n",
       "    <tr>\n",
       "      <td>...</td>\n",
       "      <td>...</td>\n",
       "      <td>...</td>\n",
       "      <td>...</td>\n",
       "      <td>...</td>\n",
       "      <td>...</td>\n",
       "    </tr>\n",
       "    <tr>\n",
       "      <td>Turkey</td>\n",
       "      <td>Hourly</td>\n",
       "      <td>3.432194</td>\n",
       "      <td>5.78927</td>\n",
       "      <td>2.22200</td>\n",
       "      <td>22</td>\n",
       "    </tr>\n",
       "    <tr>\n",
       "      <td rowspan=\"2\" valign=\"top\">United Kingdom</td>\n",
       "      <td>Annual</td>\n",
       "      <td>18808.980409</td>\n",
       "      <td>21352.73000</td>\n",
       "      <td>16510.78300</td>\n",
       "      <td>22</td>\n",
       "    </tr>\n",
       "    <tr>\n",
       "      <td>Hourly</td>\n",
       "      <td>9.043460</td>\n",
       "      <td>10.26200</td>\n",
       "      <td>7.93763</td>\n",
       "      <td>22</td>\n",
       "    </tr>\n",
       "    <tr>\n",
       "      <td rowspan=\"2\" valign=\"top\">United States</td>\n",
       "      <td>Annual</td>\n",
       "      <td>14880.379000</td>\n",
       "      <td>16391.31300</td>\n",
       "      <td>12594.39700</td>\n",
       "      <td>22</td>\n",
       "    </tr>\n",
       "    <tr>\n",
       "      <td>Hourly</td>\n",
       "      <td>7.154966</td>\n",
       "      <td>7.88044</td>\n",
       "      <td>6.05500</td>\n",
       "      <td>22</td>\n",
       "    </tr>\n",
       "  </tbody>\n",
       "</table>\n",
       "<p>64 rows × 4 columns</p>\n",
       "</div>"
      ],
      "text/plain": [
       "                                   mean          max          min  count\n",
       "Country        Pay period                                               \n",
       "Australia      Annual      22950.927364  25643.72900  20410.65200     22\n",
       "               Hourly         11.616901     12.98100     10.33073     22\n",
       "Belgium        Annual      21146.370318  22140.19100  20228.74200     22\n",
       "               Hourly         10.138833     10.61538      9.69900     22\n",
       "Brazil         Annual       3364.827682   4753.59910   2032.87300     22\n",
       "...                                 ...          ...          ...    ...\n",
       "Turkey         Hourly          3.432194      5.78927      2.22200     22\n",
       "United Kingdom Annual      18808.980409  21352.73000  16510.78300     22\n",
       "               Hourly          9.043460     10.26200      7.93763     22\n",
       "United States  Annual      14880.379000  16391.31300  12594.39700     22\n",
       "               Hourly          7.154966      7.88044      6.05500     22\n",
       "\n",
       "[64 rows x 4 columns]"
      ]
     },
     "execution_count": 73,
     "metadata": {},
     "output_type": "execute_result"
    }
   ],
   "source": [
    "mwgroup = minwages[['Country', 'Pay period', 'value']].groupby(['Country', 'Pay period'])\n",
    "mwgroup['value'].aggregate(['mean', 'max', 'min', 'count'])"
   ]
  },
  {
   "cell_type": "markdown",
   "metadata": {},
   "source": [
    "Also you can use the aggregate on a single column of the grouped object. For example:\n",
    "\n",
    "```python\n",
    "    mwgroup = minwages[['Country', 'Pay period', 'value']].groupby(['Country', 'Pay period'])\n",
    "    mwgroup['value'].aggregate(['mean'])\n",
    "\n",
    "```\n",
    "Redo the aggregate function in the previous cell but this time apply it to a single column."
   ]
  },
  {
   "cell_type": "code",
   "execution_count": 74,
   "metadata": {},
   "outputs": [
    {
     "data": {
      "text/html": [
       "<div>\n",
       "<style scoped>\n",
       "    .dataframe tbody tr th:only-of-type {\n",
       "        vertical-align: middle;\n",
       "    }\n",
       "\n",
       "    .dataframe tbody tr th {\n",
       "        vertical-align: top;\n",
       "    }\n",
       "\n",
       "    .dataframe thead th {\n",
       "        text-align: right;\n",
       "    }\n",
       "</style>\n",
       "<table border=\"1\" class=\"dataframe\">\n",
       "  <thead>\n",
       "    <tr style=\"text-align: right;\">\n",
       "      <th></th>\n",
       "      <th></th>\n",
       "      <th>mean</th>\n",
       "    </tr>\n",
       "    <tr>\n",
       "      <th>Country</th>\n",
       "      <th>Pay period</th>\n",
       "      <th></th>\n",
       "    </tr>\n",
       "  </thead>\n",
       "  <tbody>\n",
       "    <tr>\n",
       "      <td rowspan=\"2\" valign=\"top\">Australia</td>\n",
       "      <td>Annual</td>\n",
       "      <td>22950.927364</td>\n",
       "    </tr>\n",
       "    <tr>\n",
       "      <td>Hourly</td>\n",
       "      <td>11.616901</td>\n",
       "    </tr>\n",
       "    <tr>\n",
       "      <td rowspan=\"2\" valign=\"top\">Belgium</td>\n",
       "      <td>Annual</td>\n",
       "      <td>21146.370318</td>\n",
       "    </tr>\n",
       "    <tr>\n",
       "      <td>Hourly</td>\n",
       "      <td>10.138833</td>\n",
       "    </tr>\n",
       "    <tr>\n",
       "      <td>Brazil</td>\n",
       "      <td>Annual</td>\n",
       "      <td>3364.827682</td>\n",
       "    </tr>\n",
       "    <tr>\n",
       "      <td>...</td>\n",
       "      <td>...</td>\n",
       "      <td>...</td>\n",
       "    </tr>\n",
       "    <tr>\n",
       "      <td>Turkey</td>\n",
       "      <td>Hourly</td>\n",
       "      <td>3.432194</td>\n",
       "    </tr>\n",
       "    <tr>\n",
       "      <td rowspan=\"2\" valign=\"top\">United Kingdom</td>\n",
       "      <td>Annual</td>\n",
       "      <td>18808.980409</td>\n",
       "    </tr>\n",
       "    <tr>\n",
       "      <td>Hourly</td>\n",
       "      <td>9.043460</td>\n",
       "    </tr>\n",
       "    <tr>\n",
       "      <td rowspan=\"2\" valign=\"top\">United States</td>\n",
       "      <td>Annual</td>\n",
       "      <td>14880.379000</td>\n",
       "    </tr>\n",
       "    <tr>\n",
       "      <td>Hourly</td>\n",
       "      <td>7.154966</td>\n",
       "    </tr>\n",
       "  </tbody>\n",
       "</table>\n",
       "<p>64 rows × 1 columns</p>\n",
       "</div>"
      ],
      "text/plain": [
       "                                   mean\n",
       "Country        Pay period              \n",
       "Australia      Annual      22950.927364\n",
       "               Hourly         11.616901\n",
       "Belgium        Annual      21146.370318\n",
       "               Hourly         10.138833\n",
       "Brazil         Annual       3364.827682\n",
       "...                                 ...\n",
       "Turkey         Hourly          3.432194\n",
       "United Kingdom Annual      18808.980409\n",
       "               Hourly          9.043460\n",
       "United States  Annual      14880.379000\n",
       "               Hourly          7.154966\n",
       "\n",
       "[64 rows x 1 columns]"
      ]
     },
     "execution_count": 74,
     "metadata": {},
     "output_type": "execute_result"
    }
   ],
   "source": [
    "mwgroup = minwages[['Country', 'Pay period', 'value']].groupby(['Country', 'Pay period'])\n",
    "mwgroup['value'].aggregate(['mean'])"
   ]
  },
  {
   "cell_type": "markdown",
   "metadata": {},
   "source": [
    "### Task 2: Slicing/Indexing\n",
    "<span style=\"float:right; margin-left:10px; clear:both;\">![Task](https://github.com/spficklin/Data-Analytics-With-Python/blob/master/media/new_knowledge.png?raw=true)</span>\n",
    "\n",
    "In the following code the resulting dataframe should contain only one data column: the mean values. It does, however, have two levels of indexes: Country and Pay period.  For example:\n",
    "\n",
    "```python\n",
    "mwgroup = minwages[['Country', 'Pay period', 'value']].groupby(['Country', 'Pay period'])\n",
    "mwmean = mwgroup.mean()\n",
    "mwmean\n",
    "```\n",
    "\n",
    "Try it out:"
   ]
  },
  {
   "cell_type": "code",
   "execution_count": 75,
   "metadata": {},
   "outputs": [
    {
     "data": {
      "text/html": [
       "<div>\n",
       "<style scoped>\n",
       "    .dataframe tbody tr th:only-of-type {\n",
       "        vertical-align: middle;\n",
       "    }\n",
       "\n",
       "    .dataframe tbody tr th {\n",
       "        vertical-align: top;\n",
       "    }\n",
       "\n",
       "    .dataframe thead th {\n",
       "        text-align: right;\n",
       "    }\n",
       "</style>\n",
       "<table border=\"1\" class=\"dataframe\">\n",
       "  <thead>\n",
       "    <tr style=\"text-align: right;\">\n",
       "      <th></th>\n",
       "      <th></th>\n",
       "      <th>value</th>\n",
       "    </tr>\n",
       "    <tr>\n",
       "      <th>Country</th>\n",
       "      <th>Pay period</th>\n",
       "      <th></th>\n",
       "    </tr>\n",
       "  </thead>\n",
       "  <tbody>\n",
       "    <tr>\n",
       "      <td rowspan=\"2\" valign=\"top\">Australia</td>\n",
       "      <td>Annual</td>\n",
       "      <td>22950.927364</td>\n",
       "    </tr>\n",
       "    <tr>\n",
       "      <td>Hourly</td>\n",
       "      <td>11.616901</td>\n",
       "    </tr>\n",
       "    <tr>\n",
       "      <td rowspan=\"2\" valign=\"top\">Belgium</td>\n",
       "      <td>Annual</td>\n",
       "      <td>21146.370318</td>\n",
       "    </tr>\n",
       "    <tr>\n",
       "      <td>Hourly</td>\n",
       "      <td>10.138833</td>\n",
       "    </tr>\n",
       "    <tr>\n",
       "      <td>Brazil</td>\n",
       "      <td>Annual</td>\n",
       "      <td>3364.827682</td>\n",
       "    </tr>\n",
       "    <tr>\n",
       "      <td>...</td>\n",
       "      <td>...</td>\n",
       "      <td>...</td>\n",
       "    </tr>\n",
       "    <tr>\n",
       "      <td>Turkey</td>\n",
       "      <td>Hourly</td>\n",
       "      <td>3.432194</td>\n",
       "    </tr>\n",
       "    <tr>\n",
       "      <td rowspan=\"2\" valign=\"top\">United Kingdom</td>\n",
       "      <td>Annual</td>\n",
       "      <td>18808.980409</td>\n",
       "    </tr>\n",
       "    <tr>\n",
       "      <td>Hourly</td>\n",
       "      <td>9.043460</td>\n",
       "    </tr>\n",
       "    <tr>\n",
       "      <td rowspan=\"2\" valign=\"top\">United States</td>\n",
       "      <td>Annual</td>\n",
       "      <td>14880.379000</td>\n",
       "    </tr>\n",
       "    <tr>\n",
       "      <td>Hourly</td>\n",
       "      <td>7.154966</td>\n",
       "    </tr>\n",
       "  </tbody>\n",
       "</table>\n",
       "<p>64 rows × 1 columns</p>\n",
       "</div>"
      ],
      "text/plain": [
       "                                  value\n",
       "Country        Pay period              \n",
       "Australia      Annual      22950.927364\n",
       "               Hourly         11.616901\n",
       "Belgium        Annual      21146.370318\n",
       "               Hourly         10.138833\n",
       "Brazil         Annual       3364.827682\n",
       "...                                 ...\n",
       "Turkey         Hourly          3.432194\n",
       "United Kingdom Annual      18808.980409\n",
       "               Hourly          9.043460\n",
       "United States  Annual      14880.379000\n",
       "               Hourly          7.154966\n",
       "\n",
       "[64 rows x 1 columns]"
      ]
     },
     "execution_count": 75,
     "metadata": {},
     "output_type": "execute_result"
    }
   ],
   "source": [
    "mwgroup = minwages[['Country', 'Pay period', 'value']].groupby(['Country', 'Pay period'])\n",
    "mwmean = mwgroup.mean()\n",
    "mwmean"
   ]
  },
  {
   "cell_type": "markdown",
   "metadata": {},
   "source": [
    "Notice in the output above there are two levels of indexes. This is called MultiIndexing.  In reality, there is only one data column and two index levels.  So, you can do this:\n",
    "\n",
    "```python\n",
    "mwmean['value']\n",
    "```\n",
    "\n",
    "But you can't do this:\n",
    "\n",
    "```python\n",
    "mwmean['Pay period']\n",
    "```\n",
    "\n",
    "Why not? Try it:\n"
   ]
  },
  {
   "cell_type": "code",
   "execution_count": 76,
   "metadata": {},
   "outputs": [
    {
     "data": {
      "text/plain": [
       "Country         Pay period\n",
       "Australia       Annual        22950.927364\n",
       "                Hourly           11.616901\n",
       "Belgium         Annual        21146.370318\n",
       "                Hourly           10.138833\n",
       "Brazil          Annual         3364.827682\n",
       "                                  ...     \n",
       "Turkey          Hourly            3.432194\n",
       "United Kingdom  Annual        18808.980409\n",
       "                Hourly            9.043460\n",
       "United States   Annual        14880.379000\n",
       "                Hourly            7.154966\n",
       "Name: value, Length: 64, dtype: float64"
      ]
     },
     "execution_count": 76,
     "metadata": {},
     "output_type": "execute_result"
    }
   ],
   "source": [
    "mwmean['value']"
   ]
  },
  {
   "cell_type": "code",
   "execution_count": 77,
   "metadata": {},
   "outputs": [
    {
     "ename": "KeyError",
     "evalue": "'Pay period'",
     "output_type": "error",
     "traceback": [
      "\u001b[1;31m---------------------------------------------------------------------------\u001b[0m",
      "\u001b[1;31mKeyError\u001b[0m                                  Traceback (most recent call last)",
      "\u001b[1;32m~\\Anaconda3\\lib\\site-packages\\pandas\\core\\indexes\\base.py\u001b[0m in \u001b[0;36mget_loc\u001b[1;34m(self, key, method, tolerance)\u001b[0m\n\u001b[0;32m   2896\u001b[0m             \u001b[1;32mtry\u001b[0m\u001b[1;33m:\u001b[0m\u001b[1;33m\u001b[0m\u001b[1;33m\u001b[0m\u001b[0m\n\u001b[1;32m-> 2897\u001b[1;33m                 \u001b[1;32mreturn\u001b[0m \u001b[0mself\u001b[0m\u001b[1;33m.\u001b[0m\u001b[0m_engine\u001b[0m\u001b[1;33m.\u001b[0m\u001b[0mget_loc\u001b[0m\u001b[1;33m(\u001b[0m\u001b[0mkey\u001b[0m\u001b[1;33m)\u001b[0m\u001b[1;33m\u001b[0m\u001b[1;33m\u001b[0m\u001b[0m\n\u001b[0m\u001b[0;32m   2898\u001b[0m             \u001b[1;32mexcept\u001b[0m \u001b[0mKeyError\u001b[0m\u001b[1;33m:\u001b[0m\u001b[1;33m\u001b[0m\u001b[1;33m\u001b[0m\u001b[0m\n",
      "\u001b[1;32mpandas\\_libs\\index.pyx\u001b[0m in \u001b[0;36mpandas._libs.index.IndexEngine.get_loc\u001b[1;34m()\u001b[0m\n",
      "\u001b[1;32mpandas\\_libs\\index.pyx\u001b[0m in \u001b[0;36mpandas._libs.index.IndexEngine.get_loc\u001b[1;34m()\u001b[0m\n",
      "\u001b[1;32mpandas\\_libs\\hashtable_class_helper.pxi\u001b[0m in \u001b[0;36mpandas._libs.hashtable.PyObjectHashTable.get_item\u001b[1;34m()\u001b[0m\n",
      "\u001b[1;32mpandas\\_libs\\hashtable_class_helper.pxi\u001b[0m in \u001b[0;36mpandas._libs.hashtable.PyObjectHashTable.get_item\u001b[1;34m()\u001b[0m\n",
      "\u001b[1;31mKeyError\u001b[0m: 'Pay period'",
      "\nDuring handling of the above exception, another exception occurred:\n",
      "\u001b[1;31mKeyError\u001b[0m                                  Traceback (most recent call last)",
      "\u001b[1;32m<ipython-input-77-1f55e6f64a21>\u001b[0m in \u001b[0;36m<module>\u001b[1;34m\u001b[0m\n\u001b[1;32m----> 1\u001b[1;33m \u001b[0mmwmean\u001b[0m\u001b[1;33m[\u001b[0m\u001b[1;34m'Pay period'\u001b[0m\u001b[1;33m]\u001b[0m\u001b[1;33m\u001b[0m\u001b[1;33m\u001b[0m\u001b[0m\n\u001b[0m",
      "\u001b[1;32m~\\Anaconda3\\lib\\site-packages\\pandas\\core\\frame.py\u001b[0m in \u001b[0;36m__getitem__\u001b[1;34m(self, key)\u001b[0m\n\u001b[0;32m   2978\u001b[0m             \u001b[1;32mif\u001b[0m \u001b[0mself\u001b[0m\u001b[1;33m.\u001b[0m\u001b[0mcolumns\u001b[0m\u001b[1;33m.\u001b[0m\u001b[0mnlevels\u001b[0m \u001b[1;33m>\u001b[0m \u001b[1;36m1\u001b[0m\u001b[1;33m:\u001b[0m\u001b[1;33m\u001b[0m\u001b[1;33m\u001b[0m\u001b[0m\n\u001b[0;32m   2979\u001b[0m                 \u001b[1;32mreturn\u001b[0m \u001b[0mself\u001b[0m\u001b[1;33m.\u001b[0m\u001b[0m_getitem_multilevel\u001b[0m\u001b[1;33m(\u001b[0m\u001b[0mkey\u001b[0m\u001b[1;33m)\u001b[0m\u001b[1;33m\u001b[0m\u001b[1;33m\u001b[0m\u001b[0m\n\u001b[1;32m-> 2980\u001b[1;33m             \u001b[0mindexer\u001b[0m \u001b[1;33m=\u001b[0m \u001b[0mself\u001b[0m\u001b[1;33m.\u001b[0m\u001b[0mcolumns\u001b[0m\u001b[1;33m.\u001b[0m\u001b[0mget_loc\u001b[0m\u001b[1;33m(\u001b[0m\u001b[0mkey\u001b[0m\u001b[1;33m)\u001b[0m\u001b[1;33m\u001b[0m\u001b[1;33m\u001b[0m\u001b[0m\n\u001b[0m\u001b[0;32m   2981\u001b[0m             \u001b[1;32mif\u001b[0m \u001b[0mis_integer\u001b[0m\u001b[1;33m(\u001b[0m\u001b[0mindexer\u001b[0m\u001b[1;33m)\u001b[0m\u001b[1;33m:\u001b[0m\u001b[1;33m\u001b[0m\u001b[1;33m\u001b[0m\u001b[0m\n\u001b[0;32m   2982\u001b[0m                 \u001b[0mindexer\u001b[0m \u001b[1;33m=\u001b[0m \u001b[1;33m[\u001b[0m\u001b[0mindexer\u001b[0m\u001b[1;33m]\u001b[0m\u001b[1;33m\u001b[0m\u001b[1;33m\u001b[0m\u001b[0m\n",
      "\u001b[1;32m~\\Anaconda3\\lib\\site-packages\\pandas\\core\\indexes\\base.py\u001b[0m in \u001b[0;36mget_loc\u001b[1;34m(self, key, method, tolerance)\u001b[0m\n\u001b[0;32m   2897\u001b[0m                 \u001b[1;32mreturn\u001b[0m \u001b[0mself\u001b[0m\u001b[1;33m.\u001b[0m\u001b[0m_engine\u001b[0m\u001b[1;33m.\u001b[0m\u001b[0mget_loc\u001b[0m\u001b[1;33m(\u001b[0m\u001b[0mkey\u001b[0m\u001b[1;33m)\u001b[0m\u001b[1;33m\u001b[0m\u001b[1;33m\u001b[0m\u001b[0m\n\u001b[0;32m   2898\u001b[0m             \u001b[1;32mexcept\u001b[0m \u001b[0mKeyError\u001b[0m\u001b[1;33m:\u001b[0m\u001b[1;33m\u001b[0m\u001b[1;33m\u001b[0m\u001b[0m\n\u001b[1;32m-> 2899\u001b[1;33m                 \u001b[1;32mreturn\u001b[0m \u001b[0mself\u001b[0m\u001b[1;33m.\u001b[0m\u001b[0m_engine\u001b[0m\u001b[1;33m.\u001b[0m\u001b[0mget_loc\u001b[0m\u001b[1;33m(\u001b[0m\u001b[0mself\u001b[0m\u001b[1;33m.\u001b[0m\u001b[0m_maybe_cast_indexer\u001b[0m\u001b[1;33m(\u001b[0m\u001b[0mkey\u001b[0m\u001b[1;33m)\u001b[0m\u001b[1;33m)\u001b[0m\u001b[1;33m\u001b[0m\u001b[1;33m\u001b[0m\u001b[0m\n\u001b[0m\u001b[0;32m   2900\u001b[0m         \u001b[0mindexer\u001b[0m \u001b[1;33m=\u001b[0m \u001b[0mself\u001b[0m\u001b[1;33m.\u001b[0m\u001b[0mget_indexer\u001b[0m\u001b[1;33m(\u001b[0m\u001b[1;33m[\u001b[0m\u001b[0mkey\u001b[0m\u001b[1;33m]\u001b[0m\u001b[1;33m,\u001b[0m \u001b[0mmethod\u001b[0m\u001b[1;33m=\u001b[0m\u001b[0mmethod\u001b[0m\u001b[1;33m,\u001b[0m \u001b[0mtolerance\u001b[0m\u001b[1;33m=\u001b[0m\u001b[0mtolerance\u001b[0m\u001b[1;33m)\u001b[0m\u001b[1;33m\u001b[0m\u001b[1;33m\u001b[0m\u001b[0m\n\u001b[0;32m   2901\u001b[0m         \u001b[1;32mif\u001b[0m \u001b[0mindexer\u001b[0m\u001b[1;33m.\u001b[0m\u001b[0mndim\u001b[0m \u001b[1;33m>\u001b[0m \u001b[1;36m1\u001b[0m \u001b[1;32mor\u001b[0m \u001b[0mindexer\u001b[0m\u001b[1;33m.\u001b[0m\u001b[0msize\u001b[0m \u001b[1;33m>\u001b[0m \u001b[1;36m1\u001b[0m\u001b[1;33m:\u001b[0m\u001b[1;33m\u001b[0m\u001b[1;33m\u001b[0m\u001b[0m\n",
      "\u001b[1;32mpandas\\_libs\\index.pyx\u001b[0m in \u001b[0;36mpandas._libs.index.IndexEngine.get_loc\u001b[1;34m()\u001b[0m\n",
      "\u001b[1;32mpandas\\_libs\\index.pyx\u001b[0m in \u001b[0;36mpandas._libs.index.IndexEngine.get_loc\u001b[1;34m()\u001b[0m\n",
      "\u001b[1;32mpandas\\_libs\\hashtable_class_helper.pxi\u001b[0m in \u001b[0;36mpandas._libs.hashtable.PyObjectHashTable.get_item\u001b[1;34m()\u001b[0m\n",
      "\u001b[1;32mpandas\\_libs\\hashtable_class_helper.pxi\u001b[0m in \u001b[0;36mpandas._libs.hashtable.PyObjectHashTable.get_item\u001b[1;34m()\u001b[0m\n",
      "\u001b[1;31mKeyError\u001b[0m: 'Pay period'"
     ]
    }
   ],
   "source": [
    "mwmean['Pay period']"
   ]
  },
  {
   "cell_type": "markdown",
   "metadata": {},
   "source": [
    "The reason we cannot exeucte `mwmean['Pay period']` is because `Pay period` is not a data column. It's an index.  Let's learn how to use MultiIndexes to retrieve data. You can learn more about it on the [MultiIndex/advanced indexing page](https://pandas.pydata.org/pandas-docs/stable/user_guide/advanced.html#advanced-indexing-with-hierarchical-index)\n",
    "\n",
    "First, let's take a look at the indexes using the `index` attribute. \n",
    "\n",
    "```python\n",
    "mwmean.index\n",
    "```\n",
    "\n",
    "Try it:"
   ]
  },
  {
   "cell_type": "code",
   "execution_count": 78,
   "metadata": {},
   "outputs": [
    {
     "data": {
      "text/plain": [
       "MultiIndex([(         'Australia', 'Annual'),\n",
       "            (         'Australia', 'Hourly'),\n",
       "            (           'Belgium', 'Annual'),\n",
       "            (           'Belgium', 'Hourly'),\n",
       "            (            'Brazil', 'Annual'),\n",
       "            (            'Brazil', 'Hourly'),\n",
       "            (            'Canada', 'Annual'),\n",
       "            (            'Canada', 'Hourly'),\n",
       "            (             'Chile', 'Annual'),\n",
       "            (             'Chile', 'Hourly'),\n",
       "            (          'Colombia', 'Annual'),\n",
       "            (          'Colombia', 'Hourly'),\n",
       "            (        'Costa Rica', 'Annual'),\n",
       "            (        'Costa Rica', 'Hourly'),\n",
       "            (    'Czech Republic', 'Annual'),\n",
       "            (    'Czech Republic', 'Hourly'),\n",
       "            (           'Estonia', 'Annual'),\n",
       "            (           'Estonia', 'Hourly'),\n",
       "            (            'France', 'Annual'),\n",
       "            (            'France', 'Hourly'),\n",
       "            (           'Germany', 'Annual'),\n",
       "            (           'Germany', 'Hourly'),\n",
       "            (            'Greece', 'Annual'),\n",
       "            (            'Greece', 'Hourly'),\n",
       "            (           'Hungary', 'Annual'),\n",
       "            (           'Hungary', 'Hourly'),\n",
       "            (           'Ireland', 'Annual'),\n",
       "            (           'Ireland', 'Hourly'),\n",
       "            (            'Israel', 'Annual'),\n",
       "            (            'Israel', 'Hourly'),\n",
       "            (             'Japan', 'Annual'),\n",
       "            (             'Japan', 'Hourly'),\n",
       "            (             'Korea', 'Annual'),\n",
       "            (             'Korea', 'Hourly'),\n",
       "            (            'Latvia', 'Annual'),\n",
       "            (            'Latvia', 'Hourly'),\n",
       "            (         'Lithuania', 'Annual'),\n",
       "            (         'Lithuania', 'Hourly'),\n",
       "            (        'Luxembourg', 'Annual'),\n",
       "            (        'Luxembourg', 'Hourly'),\n",
       "            (            'Mexico', 'Annual'),\n",
       "            (            'Mexico', 'Hourly'),\n",
       "            (       'Netherlands', 'Annual'),\n",
       "            (       'Netherlands', 'Hourly'),\n",
       "            (       'New Zealand', 'Annual'),\n",
       "            (       'New Zealand', 'Hourly'),\n",
       "            (            'Poland', 'Annual'),\n",
       "            (            'Poland', 'Hourly'),\n",
       "            (          'Portugal', 'Annual'),\n",
       "            (          'Portugal', 'Hourly'),\n",
       "            ('Russian Federation', 'Annual'),\n",
       "            ('Russian Federation', 'Hourly'),\n",
       "            (   'Slovak Republic', 'Annual'),\n",
       "            (   'Slovak Republic', 'Hourly'),\n",
       "            (          'Slovenia', 'Annual'),\n",
       "            (          'Slovenia', 'Hourly'),\n",
       "            (             'Spain', 'Annual'),\n",
       "            (             'Spain', 'Hourly'),\n",
       "            (            'Turkey', 'Annual'),\n",
       "            (            'Turkey', 'Hourly'),\n",
       "            (    'United Kingdom', 'Annual'),\n",
       "            (    'United Kingdom', 'Hourly'),\n",
       "            (     'United States', 'Annual'),\n",
       "            (     'United States', 'Hourly')],\n",
       "           names=['Country', 'Pay period'])"
      ]
     },
     "execution_count": 78,
     "metadata": {},
     "output_type": "execute_result"
    }
   ],
   "source": [
    "mwmean.index"
   ]
  },
  {
   "cell_type": "markdown",
   "metadata": {},
   "source": [
    "Notice that each index is actually a tuple with two levels. The first is the country names and the second is the pay period. Remember, we can use the `loc` function, to slice a dataframe using indexes.  We can do so with a MultiIndexed dataframe as well. For example, to extract all elements with they index named 'Australia':\n",
    "\n",
    "```python\n",
    "mwmean.loc[('Australia')]\n",
    "```\n",
    "\n",
    "Try it yourself:"
   ]
  },
  {
   "cell_type": "code",
   "execution_count": 79,
   "metadata": {},
   "outputs": [
    {
     "data": {
      "text/html": [
       "<div>\n",
       "<style scoped>\n",
       "    .dataframe tbody tr th:only-of-type {\n",
       "        vertical-align: middle;\n",
       "    }\n",
       "\n",
       "    .dataframe tbody tr th {\n",
       "        vertical-align: top;\n",
       "    }\n",
       "\n",
       "    .dataframe thead th {\n",
       "        text-align: right;\n",
       "    }\n",
       "</style>\n",
       "<table border=\"1\" class=\"dataframe\">\n",
       "  <thead>\n",
       "    <tr style=\"text-align: right;\">\n",
       "      <th></th>\n",
       "      <th>value</th>\n",
       "    </tr>\n",
       "    <tr>\n",
       "      <th>Pay period</th>\n",
       "      <th></th>\n",
       "    </tr>\n",
       "  </thead>\n",
       "  <tbody>\n",
       "    <tr>\n",
       "      <td>Annual</td>\n",
       "      <td>22950.927364</td>\n",
       "    </tr>\n",
       "    <tr>\n",
       "      <td>Hourly</td>\n",
       "      <td>11.616901</td>\n",
       "    </tr>\n",
       "  </tbody>\n",
       "</table>\n",
       "</div>"
      ],
      "text/plain": [
       "                   value\n",
       "Pay period              \n",
       "Annual      22950.927364\n",
       "Hourly         11.616901"
      ]
     },
     "execution_count": 79,
     "metadata": {},
     "output_type": "execute_result"
    }
   ],
   "source": [
    "mwmean.loc[(\"Australia\")]"
   ]
  },
  {
   "cell_type": "markdown",
   "metadata": {},
   "source": [
    "You can specify both indexes to pull out a single row. For example, to find the average hourly salary in Australia:\n",
    "\n",
    "```python\n",
    "mwmean.loc[('Australia','Hourly')]\n",
    "```\n",
    "Try it yourself:"
   ]
  },
  {
   "cell_type": "code",
   "execution_count": 80,
   "metadata": {},
   "outputs": [
    {
     "data": {
      "text/plain": [
       "value    11.616901\n",
       "Name: (Australia, Hourly), dtype: float64"
      ]
     },
     "execution_count": 80,
     "metadata": {},
     "output_type": "execute_result"
    }
   ],
   "source": [
    "mwmean.loc[('Australia', 'Hourly')]"
   ]
  },
  {
   "cell_type": "markdown",
   "metadata": {},
   "source": [
    "Suppose you wanted to retrieve all of the mean \"Hourly\" wages. For MultiIndexes, there are multiple ways to slice it, some are not entirely intuitive or flexible enough.  Perhaps the easiest is to use the `pd.IndexSlice` object.  It allows you to specify an index format that is intuitive to the way you've already learned to slice.  For example:\n",
    "\n",
    "```python\n",
    "idx = pd.IndexSlice\n",
    "mwmean.loc[idx[:,'Hourly'],:]\n",
    "```\n",
    "\n",
    "In the code above the `idx[:, 'Hourly']` portion is used in the \"row\" indexor position of the `loc` function. It indicates that we want all possible first-level indexes (specified with the `:`) and we want second-level indexes to be restricted to \"Hourly\".  \n",
    "Try it out yourself:"
   ]
  },
  {
   "cell_type": "code",
   "execution_count": 81,
   "metadata": {},
   "outputs": [
    {
     "data": {
      "text/html": [
       "<div>\n",
       "<style scoped>\n",
       "    .dataframe tbody tr th:only-of-type {\n",
       "        vertical-align: middle;\n",
       "    }\n",
       "\n",
       "    .dataframe tbody tr th {\n",
       "        vertical-align: top;\n",
       "    }\n",
       "\n",
       "    .dataframe thead th {\n",
       "        text-align: right;\n",
       "    }\n",
       "</style>\n",
       "<table border=\"1\" class=\"dataframe\">\n",
       "  <thead>\n",
       "    <tr style=\"text-align: right;\">\n",
       "      <th></th>\n",
       "      <th></th>\n",
       "      <th>value</th>\n",
       "    </tr>\n",
       "    <tr>\n",
       "      <th>Country</th>\n",
       "      <th>Pay period</th>\n",
       "      <th></th>\n",
       "    </tr>\n",
       "  </thead>\n",
       "  <tbody>\n",
       "    <tr>\n",
       "      <td>Australia</td>\n",
       "      <td>Hourly</td>\n",
       "      <td>11.616901</td>\n",
       "    </tr>\n",
       "    <tr>\n",
       "      <td>Belgium</td>\n",
       "      <td>Hourly</td>\n",
       "      <td>10.138833</td>\n",
       "    </tr>\n",
       "    <tr>\n",
       "      <td>Brazil</td>\n",
       "      <td>Hourly</td>\n",
       "      <td>1.438636</td>\n",
       "    </tr>\n",
       "    <tr>\n",
       "      <td>Canada</td>\n",
       "      <td>Hourly</td>\n",
       "      <td>7.632323</td>\n",
       "    </tr>\n",
       "    <tr>\n",
       "      <td>Chile</td>\n",
       "      <td>Hourly</td>\n",
       "      <td>2.073636</td>\n",
       "    </tr>\n",
       "    <tr>\n",
       "      <td>Colombia</td>\n",
       "      <td>Hourly</td>\n",
       "      <td>1.675000</td>\n",
       "    </tr>\n",
       "    <tr>\n",
       "      <td>Costa Rica</td>\n",
       "      <td>Hourly</td>\n",
       "      <td>3.050000</td>\n",
       "    </tr>\n",
       "    <tr>\n",
       "      <td>Czech Republic</td>\n",
       "      <td>Hourly</td>\n",
       "      <td>2.962613</td>\n",
       "    </tr>\n",
       "    <tr>\n",
       "      <td>Estonia</td>\n",
       "      <td>Hourly</td>\n",
       "      <td>2.600362</td>\n",
       "    </tr>\n",
       "    <tr>\n",
       "      <td>France</td>\n",
       "      <td>Hourly</td>\n",
       "      <td>10.670190</td>\n",
       "    </tr>\n",
       "    <tr>\n",
       "      <td>Germany</td>\n",
       "      <td>Hourly</td>\n",
       "      <td>9.842050</td>\n",
       "    </tr>\n",
       "    <tr>\n",
       "      <td>Greece</td>\n",
       "      <td>Hourly</td>\n",
       "      <td>4.706923</td>\n",
       "    </tr>\n",
       "    <tr>\n",
       "      <td>Hungary</td>\n",
       "      <td>Hourly</td>\n",
       "      <td>2.787416</td>\n",
       "    </tr>\n",
       "    <tr>\n",
       "      <td>Ireland</td>\n",
       "      <td>Hourly</td>\n",
       "      <td>9.202719</td>\n",
       "    </tr>\n",
       "    <tr>\n",
       "      <td>Israel</td>\n",
       "      <td>Hourly</td>\n",
       "      <td>5.620840</td>\n",
       "    </tr>\n",
       "    <tr>\n",
       "      <td>Japan</td>\n",
       "      <td>Hourly</td>\n",
       "      <td>6.504039</td>\n",
       "    </tr>\n",
       "    <tr>\n",
       "      <td>Korea</td>\n",
       "      <td>Hourly</td>\n",
       "      <td>4.415651</td>\n",
       "    </tr>\n",
       "    <tr>\n",
       "      <td>Latvia</td>\n",
       "      <td>Hourly</td>\n",
       "      <td>2.331371</td>\n",
       "    </tr>\n",
       "    <tr>\n",
       "      <td>Lithuania</td>\n",
       "      <td>Hourly</td>\n",
       "      <td>2.422192</td>\n",
       "    </tr>\n",
       "    <tr>\n",
       "      <td>Luxembourg</td>\n",
       "      <td>Hourly</td>\n",
       "      <td>11.407892</td>\n",
       "    </tr>\n",
       "    <tr>\n",
       "      <td>Mexico</td>\n",
       "      <td>Hourly</td>\n",
       "      <td>0.699421</td>\n",
       "    </tr>\n",
       "    <tr>\n",
       "      <td>Netherlands</td>\n",
       "      <td>Hourly</td>\n",
       "      <td>9.703129</td>\n",
       "    </tr>\n",
       "    <tr>\n",
       "      <td>New Zealand</td>\n",
       "      <td>Hourly</td>\n",
       "      <td>9.004981</td>\n",
       "    </tr>\n",
       "    <tr>\n",
       "      <td>Poland</td>\n",
       "      <td>Hourly</td>\n",
       "      <td>3.387693</td>\n",
       "    </tr>\n",
       "    <tr>\n",
       "      <td>Portugal</td>\n",
       "      <td>Hourly</td>\n",
       "      <td>3.617441</td>\n",
       "    </tr>\n",
       "    <tr>\n",
       "      <td>Russian Federation</td>\n",
       "      <td>Hourly</td>\n",
       "      <td>0.905700</td>\n",
       "    </tr>\n",
       "    <tr>\n",
       "      <td>Slovak Republic</td>\n",
       "      <td>Hourly</td>\n",
       "      <td>2.553655</td>\n",
       "    </tr>\n",
       "    <tr>\n",
       "      <td>Slovenia</td>\n",
       "      <td>Hourly</td>\n",
       "      <td>5.473895</td>\n",
       "    </tr>\n",
       "    <tr>\n",
       "      <td>Spain</td>\n",
       "      <td>Hourly</td>\n",
       "      <td>4.589141</td>\n",
       "    </tr>\n",
       "    <tr>\n",
       "      <td>Turkey</td>\n",
       "      <td>Hourly</td>\n",
       "      <td>3.432194</td>\n",
       "    </tr>\n",
       "    <tr>\n",
       "      <td>United Kingdom</td>\n",
       "      <td>Hourly</td>\n",
       "      <td>9.043460</td>\n",
       "    </tr>\n",
       "    <tr>\n",
       "      <td>United States</td>\n",
       "      <td>Hourly</td>\n",
       "      <td>7.154966</td>\n",
       "    </tr>\n",
       "  </tbody>\n",
       "</table>\n",
       "</div>"
      ],
      "text/plain": [
       "                                   value\n",
       "Country            Pay period           \n",
       "Australia          Hourly      11.616901\n",
       "Belgium            Hourly      10.138833\n",
       "Brazil             Hourly       1.438636\n",
       "Canada             Hourly       7.632323\n",
       "Chile              Hourly       2.073636\n",
       "Colombia           Hourly       1.675000\n",
       "Costa Rica         Hourly       3.050000\n",
       "Czech Republic     Hourly       2.962613\n",
       "Estonia            Hourly       2.600362\n",
       "France             Hourly      10.670190\n",
       "Germany            Hourly       9.842050\n",
       "Greece             Hourly       4.706923\n",
       "Hungary            Hourly       2.787416\n",
       "Ireland            Hourly       9.202719\n",
       "Israel             Hourly       5.620840\n",
       "Japan              Hourly       6.504039\n",
       "Korea              Hourly       4.415651\n",
       "Latvia             Hourly       2.331371\n",
       "Lithuania          Hourly       2.422192\n",
       "Luxembourg         Hourly      11.407892\n",
       "Mexico             Hourly       0.699421\n",
       "Netherlands        Hourly       9.703129\n",
       "New Zealand        Hourly       9.004981\n",
       "Poland             Hourly       3.387693\n",
       "Portugal           Hourly       3.617441\n",
       "Russian Federation Hourly       0.905700\n",
       "Slovak Republic    Hourly       2.553655\n",
       "Slovenia           Hourly       5.473895\n",
       "Spain              Hourly       4.589141\n",
       "Turkey             Hourly       3.432194\n",
       "United Kingdom     Hourly       9.043460\n",
       "United States      Hourly       7.154966"
      ]
     },
     "execution_count": 81,
     "metadata": {},
     "output_type": "execute_result"
    }
   ],
   "source": [
    "idx = pd.IndexSlice\n",
    "mwmean.loc[idx[:,'Hourly'],:]"
   ]
  },
  {
   "cell_type": "markdown",
   "metadata": {},
   "source": [
    "Using what you've learned above about slicing the MultiIndexed dataframe, find out which country has had the highest average annual salary."
   ]
  },
  {
   "cell_type": "code",
   "execution_count": 86,
   "metadata": {},
   "outputs": [
    {
     "data": {
      "text/html": [
       "<div>\n",
       "<style scoped>\n",
       "    .dataframe tbody tr th:only-of-type {\n",
       "        vertical-align: middle;\n",
       "    }\n",
       "\n",
       "    .dataframe tbody tr th {\n",
       "        vertical-align: top;\n",
       "    }\n",
       "\n",
       "    .dataframe thead th {\n",
       "        text-align: right;\n",
       "    }\n",
       "</style>\n",
       "<table border=\"1\" class=\"dataframe\">\n",
       "  <thead>\n",
       "    <tr style=\"text-align: right;\">\n",
       "      <th></th>\n",
       "      <th></th>\n",
       "      <th>value</th>\n",
       "    </tr>\n",
       "    <tr>\n",
       "      <th>Country</th>\n",
       "      <th>Pay period</th>\n",
       "      <th></th>\n",
       "    </tr>\n",
       "  </thead>\n",
       "  <tbody>\n",
       "    <tr>\n",
       "      <td>Luxembourg</td>\n",
       "      <td>Annual</td>\n",
       "      <td>23680.787909</td>\n",
       "    </tr>\n",
       "  </tbody>\n",
       "</table>\n",
       "</div>"
      ],
      "text/plain": [
       "                              value\n",
       "Country    Pay period              \n",
       "Luxembourg Annual      23680.787909"
      ]
     },
     "execution_count": 86,
     "metadata": {},
     "output_type": "execute_result"
    }
   ],
   "source": [
    "maxsal = mwmean.loc[idx[:,'Annual'],:].max().sum()\n",
    "\n",
    "mwmean[mwmean['value'] ==maxsal]"
   ]
  },
  {
   "cell_type": "markdown",
   "metadata": {},
   "source": [
    "You can move the indexes into the dataframe and reset the index to a traditional single-level numeric index by reseting the indexes:    \n",
    "```python\n",
    "mwmean.reset_index()\n",
    "```\n",
    "\n",
    "Try it yourself:"
   ]
  },
  {
   "cell_type": "markdown",
   "metadata": {},
   "source": [
    "### Task 3: Filtering the original data.\n",
    "<span style=\"float:right; margin-left:10px; clear:both;\">![Task](https://github.com/spficklin/Data-Analytics-With-Python/blob/master/media/new_knowledge.png?raw=true)</span>\n",
    "\n",
    "Another way we might want to filter is to find records in the dataset that, after grouping meets some criteria. For example, what if we wanted to find the records for all countries with the average annual salary was greater than $35K?\n",
    "\n",
    "To do this, we can use the `filter` function of the `DataFrameGroupBy` object. The filter function must take a function as an argument (this is new and may seem weird).  \n",
    "\n",
    "```python\n",
    "annualwages = minwages[minwages['Pay period'] == 'Annual']\n",
    "annualwages.groupby(['Country']).filter(\n",
    "    lambda x : x['value'].mean() > 22000\n",
    ")\n",
    "```\n",
    "Try it:"
   ]
  },
  {
   "cell_type": "code",
   "execution_count": null,
   "metadata": {},
   "outputs": [],
   "source": []
  },
  {
   "cell_type": "markdown",
   "metadata": {},
   "source": [
    "### Task 4: Reset the index\n",
    "If you do not want to use MultiIndexes and you prefer to return any Multiindex dataset back to a traditional 1-level index dataframe you can use the`reset_index` function. \n",
    "\n",
    "Try it out on the `mwmean` dataframe:"
   ]
  },
  {
   "cell_type": "code",
   "execution_count": null,
   "metadata": {},
   "outputs": [],
   "source": []
  },
  {
   "cell_type": "code",
   "execution_count": null,
   "metadata": {},
   "outputs": [],
   "source": []
  },
  {
   "cell_type": "markdown",
   "metadata": {},
   "source": [
    "## Exercise 4:  Task 6d from the practice notebook\n",
    "Load the iris dataset. \n",
    "\n",
    "In the Iris dataset:\n",
    "+ Create a new column with the label \"region\" in the iris data frame. This column will indicates geographic regions of the US where measurments were taken. Values should include:  'Southeast', 'Northeast', 'Midwest', 'Southwest', 'Northwest'. Use these randomly.\n",
    "+ Use `groupby` to get a new data frame of means for each species in each region.\n",
    "+ Add a `dev_stage` column by randomly selecting from the values \"early\" and \"late\".\n",
    "+ Use `groupby` to get a new data frame of means for each species, in each region and each development stage.\n",
    "+ Use the `count` function (just like you used the `mean` function) to identify how many rows in the table belong to each combination of species + region + developmental stage."
   ]
  },
  {
   "cell_type": "code",
   "execution_count": null,
   "metadata": {},
   "outputs": [],
   "source": []
  },
  {
   "cell_type": "code",
   "execution_count": null,
   "metadata": {},
   "outputs": [],
   "source": []
  },
  {
   "cell_type": "code",
   "execution_count": null,
   "metadata": {},
   "outputs": [],
   "source": []
  },
  {
   "cell_type": "code",
   "execution_count": null,
   "metadata": {},
   "outputs": [],
   "source": []
  },
  {
   "cell_type": "code",
   "execution_count": null,
   "metadata": {},
   "outputs": [],
   "source": []
  },
  {
   "cell_type": "markdown",
   "metadata": {},
   "source": [
    "## Exercise 5: Kaggle Titanic Dataset\n",
    "A dataset of Titanic passengers and their fates is provided by the online machine learning competition server [Kaggle](https://www.kaggle.com/). See the [Titanic project](https://www.kaggle.com/c/titanic) page for more details. \n",
    "\n",
    "Let's practice all we have learned thus far to explore and perhaps clean this dataset.  You have been provided with the dataset named `Titanic_train.csv`.  \n",
    "\n",
    "### Task 1: Explore the data\n",
    "First import the data and print the first 10 lines."
   ]
  },
  {
   "cell_type": "code",
   "execution_count": null,
   "metadata": {},
   "outputs": [],
   "source": []
  },
  {
   "cell_type": "markdown",
   "metadata": {},
   "source": [
    "Find the shape of the data."
   ]
  },
  {
   "cell_type": "code",
   "execution_count": null,
   "metadata": {},
   "outputs": [],
   "source": []
  },
  {
   "cell_type": "markdown",
   "metadata": {},
   "source": [
    "List the column names."
   ]
  },
  {
   "cell_type": "code",
   "execution_count": null,
   "metadata": {},
   "outputs": [],
   "source": []
  },
  {
   "cell_type": "markdown",
   "metadata": {},
   "source": [
    "Identify the data types. Do they match what you would expect?"
   ]
  },
  {
   "cell_type": "code",
   "execution_count": null,
   "metadata": {},
   "outputs": [],
   "source": []
  },
  {
   "cell_type": "markdown",
   "metadata": {},
   "source": [
    "Identify columns with missing values. "
   ]
  },
  {
   "cell_type": "code",
   "execution_count": null,
   "metadata": {},
   "outputs": [],
   "source": []
  },
  {
   "cell_type": "markdown",
   "metadata": {},
   "source": [
    "Identify if there are duplicated entires."
   ]
  },
  {
   "cell_type": "code",
   "execution_count": null,
   "metadata": {},
   "outputs": [],
   "source": []
  },
  {
   "cell_type": "markdown",
   "metadata": {},
   "source": [
    "How many unique values per row are there.  Do these look reasonable for the data type and what you know about what is stored in the column?"
   ]
  },
  {
   "cell_type": "code",
   "execution_count": null,
   "metadata": {},
   "outputs": [],
   "source": []
  },
  {
   "cell_type": "markdown",
   "metadata": {},
   "source": [
    "### Task 2: Clean the data\n",
    "Do missing values need to be removed? If so, remove them."
   ]
  },
  {
   "cell_type": "code",
   "execution_count": null,
   "metadata": {},
   "outputs": [],
   "source": []
  },
  {
   "cell_type": "markdown",
   "metadata": {},
   "source": [
    "Do duplicates need to be removed?  If so remove them."
   ]
  },
  {
   "cell_type": "raw",
   "metadata": {},
   "source": []
  },
  {
   "cell_type": "markdown",
   "metadata": {},
   "source": [
    "### Task 3: Find Interesting Facts\n",
    "Count the number of passengers that survied and died in each passenger class"
   ]
  },
  {
   "cell_type": "code",
   "execution_count": null,
   "metadata": {},
   "outputs": [],
   "source": []
  },
  {
   "cell_type": "markdown",
   "metadata": {},
   "source": [
    "Were men or women more likely to survive?"
   ]
  },
  {
   "cell_type": "code",
   "execution_count": null,
   "metadata": {},
   "outputs": [],
   "source": []
  },
  {
   "cell_type": "markdown",
   "metadata": {},
   "source": [
    "What was the average, min and max ticket prices per passenger class?\n",
    "Hint:  look at the help page for the [agg](https://pandas.pydata.org/pandas-docs/stable/reference/api/pandas.DataFrame.agg.html) function to help simplify this."
   ]
  },
  {
   "cell_type": "code",
   "execution_count": null,
   "metadata": {},
   "outputs": [],
   "source": []
  },
  {
   "cell_type": "markdown",
   "metadata": {},
   "source": [
    "Give descriptive statistics about the survival age."
   ]
  },
  {
   "cell_type": "code",
   "execution_count": null,
   "metadata": {},
   "outputs": [],
   "source": []
  },
  {
   "cell_type": "code",
   "execution_count": null,
   "metadata": {},
   "outputs": [],
   "source": []
  }
 ],
 "metadata": {
  "kernelspec": {
   "display_name": "Python 3",
   "language": "python",
   "name": "python3"
  },
  "language_info": {
   "codemirror_mode": {
    "name": "ipython",
    "version": 3
   },
   "file_extension": ".py",
   "mimetype": "text/x-python",
   "name": "python",
   "nbconvert_exporter": "python",
   "pygments_lexer": "ipython3",
   "version": "3.7.4"
  }
 },
 "nbformat": 4,
 "nbformat_minor": 4
}
