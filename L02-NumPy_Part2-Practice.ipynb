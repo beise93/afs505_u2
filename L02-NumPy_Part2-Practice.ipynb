{
 "cells": [
  {
   "cell_type": "markdown",
   "metadata": {},
   "source": [
    "# Lesson 2 Practice: NumPy Part 2\n",
    "Use this notebook to follow along with the lesson in the corresponding lesson notebook: [L02-Numpy_Part2-Lesson.ipynb](./L02-Numpy_Part2-Lesson.ipynb).  \n"
   ]
  },
  {
   "cell_type": "markdown",
   "metadata": {},
   "source": [
    "## Instructions\n",
    "Follow along with the teaching material in the lesson. Throughout the tutorial sections labeled as \"Tasks\" are interspersed and indicated with the icon: ![Task](http://icons.iconarchive.com/icons/sbstnblnd/plateau/16/Apps-gnome-info-icon.png). You should follow the instructions provided in these sections by performing them in the practice notebook.  When the tutorial is completed you can turn in the final practice notebook. For each task, use the cell below it to write and test your code.  You may add additional cells for any task as needed or desired. "
   ]
  },
  {
   "cell_type": "markdown",
   "metadata": {},
   "source": [
    "## Task 1a: Setup\n",
    "\n",
    "In the practice notebook, import the following packages:\n",
    "+ `numpy` as `np`"
   ]
  },
  {
   "cell_type": "code",
   "execution_count": 49,
   "metadata": {},
   "outputs": [],
   "source": [
    "#importing numpy as np\n",
    "import numpy as np"
   ]
  },
  {
   "cell_type": "markdown",
   "metadata": {},
   "source": [
    "## Task 2a: Indexing by Subsetting and Slicing\n",
    "\n",
    "In the practice notebook perform the following:\n",
    "\n",
    "1. Create (or re-use) 3 arrays, each containing three dimensions.\n",
    "2. Slice each of these arrays so that:\n",
    "    + One element / number is returned.\n",
    "    + One dimension is returned.\n",
    "    + A subset of a dimension is returned.\n",
    "3. What is the difference between `[x:]` and `[x, ...]`? (hint, try each on high-dimension arrays).\n",
    "    \n",
    "*Exactly what you choose to return is not imporant at this point, the goal of this task is to train you so that if you are given an n-dimension NumPy array, you can write an index or slice that returns a subset of desired positions.*"
   ]
  },
  {
   "cell_type": "code",
   "execution_count": 35,
   "metadata": {
    "scrolled": true
   },
   "outputs": [
    {
     "name": "stdout",
     "output_type": "stream",
     "text": [
      "[[0.79375642 0.92955619 0.93720582]\n",
      " [0.18546459 0.21397427 0.77696516]\n",
      " [0.79720115 0.38293529 0.89603148]]\n",
      "[[1. 1. 1.]\n",
      " [1. 1. 1.]\n",
      " [1. 1. 1.]]\n",
      "[[0.54353522 0.33268299 0.78570849]\n",
      " [0.92740874 0.58078908 0.25002726]\n",
      " [0.05199928 0.96809728 0.79953735]]\n"
     ]
    }
   ],
   "source": [
    "#Create the three arrays\n",
    "AA = np.random.random((3,3))\n",
    "BB = np.ones((3,3))\n",
    "CC = np.random.random((3,3))\n",
    "#printing the three arrays\n",
    "print(AA)\n",
    "print(BB)\n",
    "print(CC)"
   ]
  },
  {
   "cell_type": "code",
   "execution_count": 36,
   "metadata": {},
   "outputs": [
    {
     "data": {
      "text/plain": [
       "0.8960314775132502"
      ]
     },
     "execution_count": 36,
     "metadata": {},
     "output_type": "execute_result"
    }
   ],
   "source": [
    "#Get the the 3rd column 3rd row elements\n",
    "AA[2,2]"
   ]
  },
  {
   "cell_type": "code",
   "execution_count": 37,
   "metadata": {},
   "outputs": [
    {
     "data": {
      "text/plain": [
       "array([[1., 1., 1.]])"
      ]
     },
     "execution_count": 37,
     "metadata": {},
     "output_type": "execute_result"
    }
   ],
   "source": [
    "#Get the elements from the 2nd row of BB\n",
    "BB[2:]"
   ]
  },
  {
   "cell_type": "code",
   "execution_count": 38,
   "metadata": {},
   "outputs": [
    {
     "data": {
      "text/plain": [
       "array([[0.54353522, 0.33268299, 0.78570849],\n",
       "       [0.92740874, 0.58078908, 0.25002726]])"
      ]
     },
     "execution_count": 38,
     "metadata": {},
     "output_type": "execute_result"
    }
   ],
   "source": [
    "#Get items from the first index to last \n",
    "CC[0:-1]"
   ]
  },
  {
   "cell_type": "code",
   "execution_count": 39,
   "metadata": {},
   "outputs": [
    {
     "data": {
      "text/plain": [
       "array([[0.79375642, 0.92955619, 0.93720582],\n",
       "       [0.18546459, 0.21397427, 0.77696516],\n",
       "       [0.79720115, 0.38293529, 0.89603148]])"
      ]
     },
     "execution_count": 39,
     "metadata": {},
     "output_type": "execute_result"
    }
   ],
   "source": [
    "#Gets all items in the array from the beginning\n",
    "AA[0:]"
   ]
  },
  {
   "cell_type": "code",
   "execution_count": 40,
   "metadata": {},
   "outputs": [
    {
     "data": {
      "text/plain": [
       "array([0.54353522, 0.33268299, 0.78570849])"
      ]
     },
     "execution_count": 40,
     "metadata": {},
     "output_type": "execute_result"
    }
   ],
   "source": [
    "#Gets first row elements\n",
    "CC[0,]"
   ]
  },
  {
   "cell_type": "markdown",
   "metadata": {},
   "source": [
    "## Task 3a: Boolean Indexing\n",
    "\n",
    "In the practice notebook perform the following:\n",
    "\n",
    "+ Experiment with the following boolean conditionals to generate boolean arrays for indexing:\n",
    "  + Greater than\n",
    "  + Less than\n",
    "  + Equals\n",
    "  + Combine two or more of the above with:\n",
    "      + or `|`\n",
    "      + and `&`\n",
    "\n",
    "You can create arrays or use existing ones"
   ]
  },
  {
   "cell_type": "code",
   "execution_count": 41,
   "metadata": {},
   "outputs": [
    {
     "data": {
      "text/plain": [
       "array([[ True, False,  True],\n",
       "       [ True,  True, False],\n",
       "       [False,  True,  True]])"
      ]
     },
     "execution_count": 41,
     "metadata": {},
     "output_type": "execute_result"
    }
   ],
   "source": [
    "#Return a list of Boolvean values for the conditional statement greater than 0.5\n",
    "CC > 0.5 "
   ]
  },
  {
   "cell_type": "code",
   "execution_count": 42,
   "metadata": {},
   "outputs": [
    {
     "data": {
      "text/plain": [
       "array([0.54353522, 0.78570849, 0.92740874, 0.58078908, 0.96809728,\n",
       "       0.79953735])"
      ]
     },
     "execution_count": 42,
     "metadata": {},
     "output_type": "execute_result"
    }
   ],
   "source": [
    "#Returns the elements from CC greater than 0.5\n",
    "CC[CC>0.5]"
   ]
  },
  {
   "cell_type": "code",
   "execution_count": 43,
   "metadata": {},
   "outputs": [
    {
     "data": {
      "text/plain": [
       "array([[False, False, False],\n",
       "       [ True,  True, False],\n",
       "       [False,  True, False]])"
      ]
     },
     "execution_count": 43,
     "metadata": {},
     "output_type": "execute_result"
    }
   ],
   "source": [
    "#Returns an array of Boolean values for the conditional statement less than 0.5\n",
    "AA < 0.5"
   ]
  },
  {
   "cell_type": "code",
   "execution_count": 44,
   "metadata": {},
   "outputs": [
    {
     "data": {
      "text/plain": [
       "array([0.18546459, 0.21397427, 0.38293529])"
      ]
     },
     "execution_count": 44,
     "metadata": {},
     "output_type": "execute_result"
    }
   ],
   "source": [
    "#Returns the elements from AA less than 0;5\n",
    "\n",
    "AA[AA < 0.5]\n",
    "\n"
   ]
  },
  {
   "cell_type": "code",
   "execution_count": 43,
   "metadata": {},
   "outputs": [
    {
     "data": {
      "text/plain": [
       "array([[False, False, False],\n",
       "       [False, False, False],\n",
       "       [False, False, False]])"
      ]
     },
     "execution_count": 43,
     "metadata": {},
     "output_type": "execute_result"
    }
   ],
   "source": [
    "#Returns the boolean values for elements equal to the statement\n",
    "AA == 0.47644179"
   ]
  },
  {
   "cell_type": "code",
   "execution_count": 42,
   "metadata": {
    "scrolled": true
   },
   "outputs": [
    {
     "data": {
      "text/plain": [
       "array([], dtype=float64)"
      ]
     },
     "execution_count": 42,
     "metadata": {},
     "output_type": "execute_result"
    }
   ],
   "source": [
    "#Returns the elements that meet the conditional statment if any\n",
    "AA[AA == 0.47644179]"
   ]
  },
  {
   "cell_type": "code",
   "execution_count": 46,
   "metadata": {
    "scrolled": true
   },
   "outputs": [
    {
     "data": {
      "text/plain": [
       "array([[False,  True, False],\n",
       "       [False, False,  True],\n",
       "       [ True, False, False]])"
      ]
     },
     "execution_count": 46,
     "metadata": {},
     "output_type": "execute_result"
    }
   ],
   "source": [
    "#Returns boolean values for elements less than 0.5 in CC and greater than 0.5 in AA\n",
    "(CC < 0.5) & (AA > 0.5)\n"
   ]
  },
  {
   "cell_type": "code",
   "execution_count": 47,
   "metadata": {},
   "outputs": [
    {
     "data": {
      "text/plain": [
       "array([[ True, False,  True],\n",
       "       [ True,  True, False],\n",
       "       [False,  True,  True]])"
      ]
     },
     "execution_count": 47,
     "metadata": {},
     "output_type": "execute_result"
    }
   ],
   "source": [
    "#Returns boolean values for elements less than 0.5 in AA or greater than 0.5 in CC\n",
    "(AA < 0.5) | (CC > 0.5)"
   ]
  },
  {
   "cell_type": "markdown",
   "metadata": {},
   "source": [
    "## Task 4a: Getting Help\n",
    "\n",
    "In the practice notebook perform the following:\n",
    "\n",
    "+ In the code cell below, call `help()` on two of the following functions: `np.transpose()`, `np.reshape()`, `np.resize()`, `np.ravel()`, `np.append()`, `np.delete()`, `np.concatenate()`, `np.vstack()`, `np.hstack()`, `np.column_stack()`, `np.vsplit()`, `np.hsplit()` \n",
    "+ Respond to this question: Did you understand the help docuemntation? Could you use the function just by looking at what the help says about it?  "
   ]
  },
  {
   "cell_type": "code",
   "execution_count": 66,
   "metadata": {},
   "outputs": [
    {
     "name": "stdout",
     "output_type": "stream",
     "text": [
      "Help on function ravel in module numpy:\n",
      "\n",
      "ravel(a, order='C')\n",
      "    Return a contiguous flattened array.\n",
      "    \n",
      "    A 1-D array, containing the elements of the input, is returned.  A copy is\n",
      "    made only if needed.\n",
      "    \n",
      "    As of NumPy 1.10, the returned array will have the same type as the input\n",
      "    array. (for example, a masked array will be returned for a masked array\n",
      "    input)\n",
      "    \n",
      "    Parameters\n",
      "    ----------\n",
      "    a : array_like\n",
      "        Input array.  The elements in `a` are read in the order specified by\n",
      "        `order`, and packed as a 1-D array.\n",
      "    order : {'C','F', 'A', 'K'}, optional\n",
      "    \n",
      "        The elements of `a` are read using this index order. 'C' means\n",
      "        to index the elements in row-major, C-style order,\n",
      "        with the last axis index changing fastest, back to the first\n",
      "        axis index changing slowest.  'F' means to index the elements\n",
      "        in column-major, Fortran-style order, with the\n",
      "        first index changing fastest, and the last index changing\n",
      "        slowest. Note that the 'C' and 'F' options take no account of\n",
      "        the memory layout of the underlying array, and only refer to\n",
      "        the order of axis indexing.  'A' means to read the elements in\n",
      "        Fortran-like index order if `a` is Fortran *contiguous* in\n",
      "        memory, C-like order otherwise.  'K' means to read the\n",
      "        elements in the order they occur in memory, except for\n",
      "        reversing the data when strides are negative.  By default, 'C'\n",
      "        index order is used.\n",
      "    \n",
      "    Returns\n",
      "    -------\n",
      "    y : array_like\n",
      "        y is an array of the same subtype as `a`, with shape ``(a.size,)``.\n",
      "        Note that matrices are special cased for backward compatibility, if `a`\n",
      "        is a matrix, then y is a 1-D ndarray.\n",
      "    \n",
      "    See Also\n",
      "    --------\n",
      "    ndarray.flat : 1-D iterator over an array.\n",
      "    ndarray.flatten : 1-D array copy of the elements of an array\n",
      "                      in row-major order.\n",
      "    ndarray.reshape : Change the shape of an array without changing its data.\n",
      "    \n",
      "    Notes\n",
      "    -----\n",
      "    In row-major, C-style order, in two dimensions, the row index\n",
      "    varies the slowest, and the column index the quickest.  This can\n",
      "    be generalized to multiple dimensions, where row-major order\n",
      "    implies that the index along the first axis varies slowest, and\n",
      "    the index along the last quickest.  The opposite holds for\n",
      "    column-major, Fortran-style index ordering.\n",
      "    \n",
      "    When a view is desired in as many cases as possible, ``arr.reshape(-1)``\n",
      "    may be preferable.\n",
      "    \n",
      "    Examples\n",
      "    --------\n",
      "    It is equivalent to ``reshape(-1, order=order)``.\n",
      "    \n",
      "    >>> x = np.array([[1, 2, 3], [4, 5, 6]])\n",
      "    >>> print(np.ravel(x))\n",
      "    [1 2 3 4 5 6]\n",
      "    \n",
      "    >>> print(x.reshape(-1))\n",
      "    [1 2 3 4 5 6]\n",
      "    \n",
      "    >>> print(np.ravel(x, order='F'))\n",
      "    [1 4 2 5 3 6]\n",
      "    \n",
      "    When ``order`` is 'A', it will preserve the array's 'C' or 'F' ordering:\n",
      "    \n",
      "    >>> print(np.ravel(x.T))\n",
      "    [1 4 2 5 3 6]\n",
      "    >>> print(np.ravel(x.T, order='A'))\n",
      "    [1 2 3 4 5 6]\n",
      "    \n",
      "    When ``order`` is 'K', it will preserve orderings that are neither 'C'\n",
      "    nor 'F', but won't reverse axes:\n",
      "    \n",
      "    >>> a = np.arange(3)[::-1]; a\n",
      "    array([2, 1, 0])\n",
      "    >>> a.ravel(order='C')\n",
      "    array([2, 1, 0])\n",
      "    >>> a.ravel(order='K')\n",
      "    array([2, 1, 0])\n",
      "    \n",
      "    >>> a = np.arange(12).reshape(2,3,2).swapaxes(1,2); a\n",
      "    array([[[ 0,  2,  4],\n",
      "            [ 1,  3,  5]],\n",
      "           [[ 6,  8, 10],\n",
      "            [ 7,  9, 11]]])\n",
      "    >>> a.ravel(order='C')\n",
      "    array([ 0,  2,  4,  1,  3,  5,  6,  8, 10,  7,  9, 11])\n",
      "    >>> a.ravel(order='K')\n",
      "    array([ 0,  1,  2,  3,  4,  5,  6,  7,  8,  9, 10, 11])\n",
      "\n"
     ]
    }
   ],
   "source": [
    "#Provides help the ravel function\n",
    "help(np.ravel)"
   ]
  },
  {
   "cell_type": "code",
   "execution_count": 71,
   "metadata": {},
   "outputs": [
    {
     "name": "stdout",
     "output_type": "stream",
     "text": [
      "[[0.23470394 0.70689325 0.24951123]\n",
      " [0.93052183 0.89275487 0.23339367]\n",
      " [0.44150886 0.38863471 0.98322487]]\n",
      "[0.23470394 0.70689325 0.24951123 0.93052183 0.89275487 0.23339367\n",
      " 0.44150886 0.38863471 0.98322487]\n"
     ]
    }
   ],
   "source": [
    "#returns the CC array\n",
    "print(CC)\n",
    "#Flattens CC by using the ravel function and sets it equal to new array ccc\n",
    "CCC = np.ravel(CC)\n",
    "#prints array ccc\n",
    "print(CCC)"
   ]
  },
  {
   "cell_type": "code",
   "execution_count": 67,
   "metadata": {},
   "outputs": [
    {
     "name": "stdout",
     "output_type": "stream",
     "text": [
      "Help on function hstack in module numpy:\n",
      "\n",
      "hstack(tup)\n",
      "    Stack arrays in sequence horizontally (column wise).\n",
      "    \n",
      "    This is equivalent to concatenation along the second axis, except for 1-D\n",
      "    arrays where it concatenates along the first axis. Rebuilds arrays divided\n",
      "    by `hsplit`.\n",
      "    \n",
      "    This function makes most sense for arrays with up to 3 dimensions. For\n",
      "    instance, for pixel-data with a height (first axis), width (second axis),\n",
      "    and r/g/b channels (third axis). The functions `concatenate`, `stack` and\n",
      "    `block` provide more general stacking and concatenation operations.\n",
      "    \n",
      "    Parameters\n",
      "    ----------\n",
      "    tup : sequence of ndarrays\n",
      "        The arrays must have the same shape along all but the second axis,\n",
      "        except 1-D arrays which can be any length.\n",
      "    \n",
      "    Returns\n",
      "    -------\n",
      "    stacked : ndarray\n",
      "        The array formed by stacking the given arrays.\n",
      "    \n",
      "    See Also\n",
      "    --------\n",
      "    stack : Join a sequence of arrays along a new axis.\n",
      "    vstack : Stack arrays in sequence vertically (row wise).\n",
      "    dstack : Stack arrays in sequence depth wise (along third axis).\n",
      "    concatenate : Join a sequence of arrays along an existing axis.\n",
      "    hsplit : Split array along second axis.\n",
      "    block : Assemble arrays from blocks.\n",
      "    \n",
      "    Examples\n",
      "    --------\n",
      "    >>> a = np.array((1,2,3))\n",
      "    >>> b = np.array((2,3,4))\n",
      "    >>> np.hstack((a,b))\n",
      "    array([1, 2, 3, 2, 3, 4])\n",
      "    >>> a = np.array([[1],[2],[3]])\n",
      "    >>> b = np.array([[2],[3],[4]])\n",
      "    >>> np.hstack((a,b))\n",
      "    array([[1, 2],\n",
      "           [2, 3],\n",
      "           [3, 4]])\n",
      "\n"
     ]
    }
   ],
   "source": [
    "#Provides information on hstack function\n",
    "help(np.hstack)"
   ]
  },
  {
   "cell_type": "code",
   "execution_count": null,
   "metadata": {},
   "outputs": [],
   "source": [
    "#I think the documentation helps to understand what functions will accept \n",
    "#but I think it is best to get a 'hands on' experience with them by trying to use them and reading the documentation"
   ]
  },
  {
   "cell_type": "markdown",
   "metadata": {},
   "source": [
    "## Task 5a: Transposing an Array\n",
    "\n",
    "In the practice notebook perform the following:\n",
    "\n",
    "+ Create a matrix of any size and transpose it."
   ]
  },
  {
   "cell_type": "code",
   "execution_count": 72,
   "metadata": {
    "scrolled": true
   },
   "outputs": [
    {
     "name": "stdout",
     "output_type": "stream",
     "text": [
      "[[0.08821004 0.58619343 0.4820084  0.77815281]\n",
      " [0.63393163 0.2396803  0.01445805 0.46545536]\n",
      " [0.81126612 0.08036338 0.26522937 0.71451167]\n",
      " [0.22550693 0.08146966 0.29760337 0.54514735]]\n"
     ]
    }
   ],
   "source": [
    "#creates a new aray\n",
    "DD = np.random.random((4,4))\n",
    "#prints the DD array\n",
    "print(DD)"
   ]
  },
  {
   "cell_type": "code",
   "execution_count": 74,
   "metadata": {},
   "outputs": [
    {
     "name": "stdout",
     "output_type": "stream",
     "text": [
      "[[0.08821004 0.63393163 0.81126612 0.22550693]\n",
      " [0.58619343 0.2396803  0.08036338 0.08146966]\n",
      " [0.4820084  0.01445805 0.26522937 0.29760337]\n",
      " [0.77815281 0.46545536 0.71451167 0.54514735]]\n"
     ]
    }
   ],
   "source": [
    "#prints the transpose of the DD array\n",
    "print(np.transpose(DD))"
   ]
  },
  {
   "cell_type": "code",
   "execution_count": 75,
   "metadata": {},
   "outputs": [
    {
     "name": "stdout",
     "output_type": "stream",
     "text": [
      "[[0.08821004 0.63393163 0.81126612 0.22550693]\n",
      " [0.58619343 0.2396803  0.08036338 0.08146966]\n",
      " [0.4820084  0.01445805 0.26522937 0.29760337]\n",
      " [0.77815281 0.46545536 0.71451167 0.54514735]]\n"
     ]
    }
   ],
   "source": [
    "#prints the alternative way of getting the tranpose of DD\n",
    "print(DD.T)"
   ]
  },
  {
   "cell_type": "markdown",
   "metadata": {},
   "source": [
    "## Task 5b: Reshaping an Array\n",
    "\n",
    "In the practice notebook peform the following:\n",
    "\n",
    "+ Create a matrix and resize it by adding 2 extra columns\n",
    "+ Create a matrix and resize it by adding 1 extra row\n",
    "+ Create a matrix of 8 x 2 and resize it to 4 x 4"
   ]
  },
  {
   "cell_type": "code",
   "execution_count": 79,
   "metadata": {},
   "outputs": [
    {
     "name": "stdout",
     "output_type": "stream",
     "text": [
      "(4,)\n"
     ]
    }
   ],
   "source": [
    "#Creats the XX array\n",
    "XX = np.array([1,2,3,4])\n",
    "#prints the dimension of the XX array\n",
    "print(XX.shape)"
   ]
  },
  {
   "cell_type": "code",
   "execution_count": 86,
   "metadata": {},
   "outputs": [
    {
     "data": {
      "text/plain": [
       "array([1, 2, 3, 4, 1, 2])"
      ]
     },
     "execution_count": 86,
     "metadata": {},
     "output_type": "execute_result"
    }
   ],
   "source": [
    "#Resizes the XX array by adding two extra columns\n",
    "np.resize(XX, (6,))"
   ]
  },
  {
   "cell_type": "code",
   "execution_count": 93,
   "metadata": {},
   "outputs": [
    {
     "name": "stdout",
     "output_type": "stream",
     "text": [
      "[[1. 1. 1. 1. 1.]\n",
      " [1. 1. 1. 1. 1.]\n",
      " [1. 1. 1. 1. 1.]\n",
      " [1. 1. 1. 1. 1.]]\n",
      "(4, 5)\n"
     ]
    },
    {
     "data": {
      "text/plain": [
       "array([[1., 1., 1., 1., 1.],\n",
       "       [1., 1., 1., 1., 1.],\n",
       "       [1., 1., 1., 1., 1.],\n",
       "       [1., 1., 1., 1., 1.],\n",
       "       [1., 1., 1., 1., 1.]])"
      ]
     },
     "execution_count": 93,
     "metadata": {},
     "output_type": "execute_result"
    }
   ],
   "source": [
    "#Creats a YY array\n",
    "YY = np.ones((4,5))\n",
    "#prints the YY\n",
    "print(YY)\n",
    "#Prints the dimensions of YY\n",
    "print(YY.shape)\n",
    "#Resizes the YY array by adding another row\n",
    "np.resize(YY, (5,5))"
   ]
  },
  {
   "cell_type": "code",
   "execution_count": 96,
   "metadata": {},
   "outputs": [
    {
     "name": "stdout",
     "output_type": "stream",
     "text": [
      "[[1. 1.]\n",
      " [1. 1.]\n",
      " [1. 1.]\n",
      " [1. 1.]\n",
      " [1. 1.]\n",
      " [1. 1.]\n",
      " [1. 1.]\n",
      " [1. 1.]]\n"
     ]
    },
    {
     "data": {
      "text/plain": [
       "array([[1., 1., 1., 1.],\n",
       "       [1., 1., 1., 1.],\n",
       "       [1., 1., 1., 1.],\n",
       "       [1., 1., 1., 1.]])"
      ]
     },
     "execution_count": 96,
     "metadata": {},
     "output_type": "execute_result"
    }
   ],
   "source": [
    "#creats an array of 8 rows and 2 columns\n",
    "TT = np.ones((8,2))\n",
    "print(TT)\n",
    "#resizes the array to an array of 4 rows and 4 columns\n",
    "np.resize(TT, (4,4))"
   ]
  },
  {
   "cell_type": "code",
   "execution_count": null,
   "metadata": {},
   "outputs": [],
   "source": []
  },
  {
   "cell_type": "markdown",
   "metadata": {},
   "source": [
    "## Task 5c: Appending to an Array\n",
    "\n",
    "In the practice notebook perform the following:\n",
    "\n",
    " + Create a three dimensional array and append another row to the array\n",
    " + Append another colum to the array\n",
    " + Print the final results"
   ]
  },
  {
   "cell_type": "code",
   "execution_count": 52,
   "metadata": {},
   "outputs": [
    {
     "name": "stdout",
     "output_type": "stream",
     "text": [
      "[[1. 1. 1.]\n",
      " [1. 1. 1.]\n",
      " [1. 1. 1.]]\n",
      "[[1. 1. 1. 1.]\n",
      " [1. 1. 1. 1.]\n",
      " [1. 1. 1. 1.]]\n",
      "[[1. 1. 1. 1.]\n",
      " [1. 1. 1. 1.]\n",
      " [1. 1. 1. 1.]\n",
      " [1. 1. 1. 1.]]\n"
     ]
    }
   ],
   "source": [
    "#creats the 3D array\n",
    "A_3D_Array = np.ones((3,3))\n",
    "#prints the array\n",
    "print(A_3D_Array)\n",
    "#adding a row to the way by using the append function\n",
    "Add_Row = np.append(A_3D_Array, np.ones((3,1)), axis=1)\n",
    "print(Add_Row)\n",
    "#adding a column by using the append function\n",
    "Add_Col = np.append(Add_Row, np.ones((1,4)), axis=0)\n",
    "print(Add_Col)"
   ]
  },
  {
   "cell_type": "code",
   "execution_count": null,
   "metadata": {},
   "outputs": [],
   "source": []
  },
  {
   "cell_type": "markdown",
   "metadata": {},
   "source": [
    "## Task 5d: Inserting and Deleting Elements\n",
    "\n",
    "In the practice notebook perform the following:\n",
    "\n",
    "+ Examine the `help()` documentation for how to use the `insert()` and `delete()` functions.\n",
    "+ Create a matrix and practice inserting a row and deleting a column."
   ]
  },
  {
   "cell_type": "code",
   "execution_count": 20,
   "metadata": {},
   "outputs": [
    {
     "name": "stdout",
     "output_type": "stream",
     "text": [
      "Help on function insert in module numpy:\n",
      "\n",
      "insert(arr, obj, values, axis=None)\n",
      "    Insert values along the given axis before the given indices.\n",
      "    \n",
      "    Parameters\n",
      "    ----------\n",
      "    arr : array_like\n",
      "        Input array.\n",
      "    obj : int, slice or sequence of ints\n",
      "        Object that defines the index or indices before which `values` is\n",
      "        inserted.\n",
      "    \n",
      "        .. versionadded:: 1.8.0\n",
      "    \n",
      "        Support for multiple insertions when `obj` is a single scalar or a\n",
      "        sequence with one element (similar to calling insert multiple\n",
      "        times).\n",
      "    values : array_like\n",
      "        Values to insert into `arr`. If the type of `values` is different\n",
      "        from that of `arr`, `values` is converted to the type of `arr`.\n",
      "        `values` should be shaped so that ``arr[...,obj,...] = values``\n",
      "        is legal.\n",
      "    axis : int, optional\n",
      "        Axis along which to insert `values`.  If `axis` is None then `arr`\n",
      "        is flattened first.\n",
      "    \n",
      "    Returns\n",
      "    -------\n",
      "    out : ndarray\n",
      "        A copy of `arr` with `values` inserted.  Note that `insert`\n",
      "        does not occur in-place: a new array is returned. If\n",
      "        `axis` is None, `out` is a flattened array.\n",
      "    \n",
      "    See Also\n",
      "    --------\n",
      "    append : Append elements at the end of an array.\n",
      "    concatenate : Join a sequence of arrays along an existing axis.\n",
      "    delete : Delete elements from an array.\n",
      "    \n",
      "    Notes\n",
      "    -----\n",
      "    Note that for higher dimensional inserts `obj=0` behaves very different\n",
      "    from `obj=[0]` just like `arr[:,0,:] = values` is different from\n",
      "    `arr[:,[0],:] = values`.\n",
      "    \n",
      "    Examples\n",
      "    --------\n",
      "    >>> a = np.array([[1, 1], [2, 2], [3, 3]])\n",
      "    >>> a\n",
      "    array([[1, 1],\n",
      "           [2, 2],\n",
      "           [3, 3]])\n",
      "    >>> np.insert(a, 1, 5)\n",
      "    array([1, 5, 1, 2, 2, 3, 3])\n",
      "    >>> np.insert(a, 1, 5, axis=1)\n",
      "    array([[1, 5, 1],\n",
      "           [2, 5, 2],\n",
      "           [3, 5, 3]])\n",
      "    \n",
      "    Difference between sequence and scalars:\n",
      "    \n",
      "    >>> np.insert(a, [1], [[1],[2],[3]], axis=1)\n",
      "    array([[1, 1, 1],\n",
      "           [2, 2, 2],\n",
      "           [3, 3, 3]])\n",
      "    >>> np.array_equal(np.insert(a, 1, [1, 2, 3], axis=1),\n",
      "    ...                np.insert(a, [1], [[1],[2],[3]], axis=1))\n",
      "    True\n",
      "    \n",
      "    >>> b = a.flatten()\n",
      "    >>> b\n",
      "    array([1, 1, 2, 2, 3, 3])\n",
      "    >>> np.insert(b, [2, 2], [5, 6])\n",
      "    array([1, 1, 5, 6, 2, 2, 3, 3])\n",
      "    \n",
      "    >>> np.insert(b, slice(2, 4), [5, 6])\n",
      "    array([1, 1, 5, 2, 6, 2, 3, 3])\n",
      "    \n",
      "    >>> np.insert(b, [2, 2], [7.13, False]) # type casting\n",
      "    array([1, 1, 7, 0, 2, 2, 3, 3])\n",
      "    \n",
      "    >>> x = np.arange(8).reshape(2, 4)\n",
      "    >>> idx = (1, 3)\n",
      "    >>> np.insert(x, idx, 999, axis=1)\n",
      "    array([[  0, 999,   1,   2, 999,   3],\n",
      "           [  4, 999,   5,   6, 999,   7]])\n",
      "\n"
     ]
    }
   ],
   "source": [
    "#gets the documention for the insert function\n",
    "help(np.insert)"
   ]
  },
  {
   "cell_type": "code",
   "execution_count": 53,
   "metadata": {},
   "outputs": [
    {
     "name": "stdout",
     "output_type": "stream",
     "text": [
      "[[0.37072957 0.28980747 0.50448028]\n",
      " [0.3729276  0.70925236 0.53330855]\n",
      " [0.25627495 0.60981032 0.57643084]]\n"
     ]
    },
    {
     "data": {
      "text/plain": [
       "array([[0.37072957, 0.28980747, 0.50448028],\n",
       "       [1.        , 1.        , 1.        ],\n",
       "       [2.        , 2.        , 2.        ],\n",
       "       [3.        , 3.        , 3.        ],\n",
       "       [0.3729276 , 0.70925236, 0.53330855],\n",
       "       [0.25627495, 0.60981032, 0.57643084]])"
      ]
     },
     "execution_count": 53,
     "metadata": {},
     "output_type": "execute_result"
    }
   ],
   "source": [
    "#Creates a new array\n",
    "some_array = np.random.random((3,3))\n",
    "print(some_array)\n",
    "#inserts the followoing elemetns as rows into some_array array\n",
    "np.insert(some_array, [1], [[1], [2], [3]], axis=0)\n",
    "\n"
   ]
  },
  {
   "cell_type": "code",
   "execution_count": 28,
   "metadata": {},
   "outputs": [
    {
     "name": "stdout",
     "output_type": "stream",
     "text": [
      "Help on function delete in module numpy:\n",
      "\n",
      "delete(arr, obj, axis=None)\n",
      "    Return a new array with sub-arrays along an axis deleted. For a one\n",
      "    dimensional array, this returns those entries not returned by\n",
      "    `arr[obj]`.\n",
      "    \n",
      "    Parameters\n",
      "    ----------\n",
      "    arr : array_like\n",
      "      Input array.\n",
      "    obj : slice, int or array of ints\n",
      "      Indicate which sub-arrays to remove.\n",
      "    axis : int, optional\n",
      "      The axis along which to delete the subarray defined by `obj`.\n",
      "      If `axis` is None, `obj` is applied to the flattened array.\n",
      "    \n",
      "    Returns\n",
      "    -------\n",
      "    out : ndarray\n",
      "        A copy of `arr` with the elements specified by `obj` removed. Note\n",
      "        that `delete` does not occur in-place. If `axis` is None, `out` is\n",
      "        a flattened array.\n",
      "    \n",
      "    See Also\n",
      "    --------\n",
      "    insert : Insert elements into an array.\n",
      "    append : Append elements at the end of an array.\n",
      "    \n",
      "    Notes\n",
      "    -----\n",
      "    Often it is preferable to use a boolean mask. For example:\n",
      "    \n",
      "    >>> mask = np.ones(len(arr), dtype=bool)\n",
      "    >>> mask[[0,2,4]] = False\n",
      "    >>> result = arr[mask,...]\n",
      "    \n",
      "    Is equivalent to `np.delete(arr, [0,2,4], axis=0)`, but allows further\n",
      "    use of `mask`.\n",
      "    \n",
      "    Examples\n",
      "    --------\n",
      "    >>> arr = np.array([[1,2,3,4], [5,6,7,8], [9,10,11,12]])\n",
      "    >>> arr\n",
      "    array([[ 1,  2,  3,  4],\n",
      "           [ 5,  6,  7,  8],\n",
      "           [ 9, 10, 11, 12]])\n",
      "    >>> np.delete(arr, 1, 0)\n",
      "    array([[ 1,  2,  3,  4],\n",
      "           [ 9, 10, 11, 12]])\n",
      "    \n",
      "    >>> np.delete(arr, np.s_[::2], 1)\n",
      "    array([[ 2,  4],\n",
      "           [ 6,  8],\n",
      "           [10, 12]])\n",
      "    >>> np.delete(arr, [1,3,5], None)\n",
      "    array([ 1,  3,  5,  7,  8,  9, 10, 11, 12])\n",
      "\n"
     ]
    }
   ],
   "source": [
    "#gets the document for the np.delete function\n",
    "help(np.delete)"
   ]
  },
  {
   "cell_type": "code",
   "execution_count": 32,
   "metadata": {},
   "outputs": [
    {
     "name": "stdout",
     "output_type": "stream",
     "text": [
      "[[0.64704498 0.184403   0.16434473]\n",
      " [0.9827458  0.43075332 0.91964111]\n",
      " [0.66172727 0.71656962 0.10107768]]\n"
     ]
    },
    {
     "data": {
      "text/plain": [
       "array([[0.64704498, 0.184403  ],\n",
       "       [0.9827458 , 0.43075332],\n",
       "       [0.66172727, 0.71656962]])"
      ]
     },
     "execution_count": 32,
     "metadata": {},
     "output_type": "execute_result"
    }
   ],
   "source": [
    "#Creates new array\n",
    "someother_arr = np.random.random((3,3))\n",
    "#prints the new array\n",
    "print(someother_arr)\n",
    "#deletes the third column elements\n",
    "np.delete(someother_arr, 2, 1)"
   ]
  },
  {
   "cell_type": "markdown",
   "metadata": {},
   "source": [
    "## Task 5e: Joining Arrays\n",
    "\n",
    "In the practice notebook perform the following:\n",
    "\n",
    "+ Execute the code (in the cell below).\n",
    "+ Examine the output from each of the function calls in the cell above. If needed to understand, review the help pages for each tool either using the `help()` command or the [Numpy Function Reference](https://docs.scipy.org/doc/numpy/reference/routines.html). \n",
    "+ Respond to the following question and respond in the second cell below.\n",
    "  + Can you identify what is happening with each of them?"
   ]
  },
  {
   "cell_type": "code",
   "execution_count": 33,
   "metadata": {},
   "outputs": [
    {
     "name": "stdout",
     "output_type": "stream",
     "text": [
      "concatenate:\n",
      "[1 2 3 4 1 1 1 1]\n",
      "\n",
      "vstack:\n",
      "[[1 2 3 4]\n",
      " [1 2 3 4]\n",
      " [5 6 7 8]]\n",
      "\n",
      "hstack:\n",
      "[[1 2 3 4 1 2 3 4]\n",
      " [5 6 7 8 5 6 7 8]]\n",
      "\n",
      "column_stack:\n",
      "[[1 2 3 4 1 2 3 4]\n",
      " [5 6 7 8 5 6 7 8]]\n"
     ]
    }
   ],
   "source": [
    "# Concatentate `my_array` and `x`: similar to np.append()\n",
    "my_array = np.array([1,2,3,4])\n",
    "x = np.array([1,1,1,1])\n",
    "print(\"concatenate:\")\n",
    "print(np.concatenate((my_array, x)))\n",
    "\n",
    "# Stack arrays row-wise\n",
    "my_2d_array = np.array([[1,2,3,4], [5,6,7,8]])\n",
    "print(\"\\nvstack:\")\n",
    "print(np.vstack((my_array, my_2d_array)))\n",
    "\n",
    "# Stack arrays horizontally\n",
    "print(\"\\nhstack:\")\n",
    "print(np.hstack((my_2d_array, my_2d_array)))\n",
    "\n",
    "# Stack arrays column-wise\n",
    "print(\"\\ncolumn_stack:\")\n",
    "print(np.column_stack((my_2d_array, my_2d_array)))"
   ]
  },
  {
   "cell_type": "raw",
   "metadata": {},
   "source": [
    "After looking at the scipy documentation I found the followin:\n",
    "\n",
    "The first block creates some arrays and then concatenates them without specifiying which axis, so it just joins them in a sequence.\n",
    "\n",
    "The second block takes the arrays and then stacks in sequence vertically row wise.\n",
    "\n",
    "The third block take sthe arrays and then stacks in sequence horizontally column wise.\n",
    "\n",
    "The fourth takes the 1-D arrays from the 2nd block of code and stacks them as columns into a 2-D array \n"
   ]
  },
  {
   "cell_type": "markdown",
   "metadata": {},
   "source": [
    "## Task 5d: Splitting Arrays\n",
    "\n",
    "In the practice notebook perform the following:\n",
    "\n",
    "+ Execute the code (as shown below).\n",
    "+ Examine the output from each of the function calls in the cell above. If needed to understand, review the help pages for each tool either using the `help()` command or the [Numpy Function Reference](https://docs.scipy.org/doc/numpy/reference/routines.html). \n",
    "+ Respond to the following question and respond in the second cell below.\n",
    "  + Can you identify what is happening with each of them?"
   ]
  },
  {
   "cell_type": "code",
   "execution_count": 54,
   "metadata": {},
   "outputs": [
    {
     "name": "stdout",
     "output_type": "stream",
     "text": [
      "original:\n",
      "[[1 2 3 4]\n",
      " [5 6 7 8]]\n",
      "\n",
      "hsplit:\n",
      "[array([[1, 2],\n",
      "       [5, 6]]), array([[3, 4],\n",
      "       [7, 8]])]\n",
      "\n",
      "vsplit:\n",
      "[array([[1, 2, 3, 4]]), array([[5, 6, 7, 8]])]\n"
     ]
    }
   ],
   "source": [
    "# Create a 2D array.\n",
    "my_2d_array = np.array([[1,2,3,4], [5,6,7,8]])\n",
    "print(\"original:\")\n",
    "print(my_2d_array)\n",
    "\n",
    "# Split `my_stacked_array` horizontally at the 2nd index\n",
    "print(\"\\nhsplit:\")\n",
    "print(np.hsplit(my_2d_array, 2))\n",
    "\n",
    "# Split `my_stacked_array` vertically at the 2nd index\n",
    "print(\"\\nvsplit:\")\n",
    "print(np.vsplit(my_2d_array, 2))"
   ]
  },
  {
   "cell_type": "raw",
   "metadata": {},
   "source": [
    "After looking up hsplit and vsplit in the documentation I found that these functions take as parameters the array to be split at the index or section we want split.\n",
    "So,\n",
    "The first block of code creates the inital 2D array.\n",
    "\n",
    "Second block of code then splits the array into multiple sub-arrays horizontally at the 2nd index and prints the result of doing so\n",
    "\n",
    "Third block block of code uses vsplit to split the array into multiple sub-arrays vertically at the 2nd index and prints the result of doing so"
   ]
  }
 ],
 "metadata": {
  "kernelspec": {
   "display_name": "Python 3",
   "language": "python",
   "name": "python3"
  },
  "language_info": {
   "codemirror_mode": {
    "name": "ipython",
    "version": 3
   },
   "file_extension": ".py",
   "mimetype": "text/x-python",
   "name": "python",
   "nbconvert_exporter": "python",
   "pygments_lexer": "ipython3",
   "version": "3.7.4"
  }
 },
 "nbformat": 4,
 "nbformat_minor": 4
}
