{
 "cells": [
  {
   "cell_type": "markdown",
   "metadata": {},
   "source": [
    "# Lesson 3 Class Exercises: Pandas Part 1"
   ]
  },
  {
   "cell_type": "markdown",
   "metadata": {},
   "source": [
    "## Reminder\n",
    "The first checkin-in of the project is due next Tueday.  After today, you should have everything you need to know to accomplish that first part. "
   ]
  },
  {
   "cell_type": "markdown",
   "metadata": {},
   "source": [
    "## Get Started\n",
    "Import the Numpy and Pandas packages"
   ]
  },
  {
   "cell_type": "code",
   "execution_count": 1,
   "metadata": {},
   "outputs": [],
   "source": [
    "import numpy as np\n",
    "import pandas as pd"
   ]
  },
  {
   "cell_type": "markdown",
   "metadata": {},
   "source": [
    "## Exercise 1: Import Iris Data\n",
    "Import the Iris dataset made available to you in the last class period for the Numpy part2 exercises. Save it to a variable naemd `iris`. Print the first 5 rows and the dimensions to ensure it was read in properly."
   ]
  },
  {
   "cell_type": "code",
   "execution_count": 7,
   "metadata": {},
   "outputs": [
    {
     "name": "stdout",
     "output_type": "stream",
     "text": [
      "   sepal_length  sepal_width  petal_length  petal_width species\n",
      "0           5.1          3.5           1.4          0.2  setosa\n",
      "1           4.9          3.0           1.4          0.2  setosa\n",
      "2           4.7          3.2           1.3          0.2  setosa\n",
      "3           4.6          3.1           1.5          0.2  setosa\n",
      "4           5.0          3.6           1.4          0.2  setosa\n"
     ]
    },
    {
     "data": {
      "text/plain": [
       "(150, 5)"
      ]
     },
     "execution_count": 7,
     "metadata": {},
     "output_type": "execute_result"
    }
   ],
   "source": [
    "iris_df = pd.read_csv('iris.csv')\n",
    "\n",
    "print(iris_df.head())\n",
    "\n",
    "iris_df.shape"
   ]
  },
  {
   "cell_type": "markdown",
   "metadata": {},
   "source": [
    "Notice how much easier this was to import compared to the Numpy `genfromtxt`. We did not have to skip the headers, we did not have to specify the data type and we can have mixed data types in the same matrix."
   ]
  },
  {
   "cell_type": "markdown",
   "metadata": {},
   "source": [
    "## Exercise 2: Import Legislators Data\n",
    "For portions of this notebook we will use a public dataset that contains all of the current legistators of the United States Congress. This dataset can be found [here](https://github.com/unitedstates/congress-legislators).  \n",
    "\n",
    "Import the data directly from this URL:  https://theunitedstates.io/congress-legislators/legislators-current.csv\n",
    "\n",
    "Save the data in a variable named `legistators`. Print the first 5 lines, and the dimensions."
   ]
  },
  {
   "cell_type": "code",
   "execution_count": 9,
   "metadata": {},
   "outputs": [
    {
     "name": "stdout",
     "output_type": "stream",
     "text": [
      "  last_name first_name middle_name suffix nickname             full_name  \\\n",
      "0     Brown    Sherrod         NaN    NaN      NaN         Sherrod Brown   \n",
      "1  Cantwell      Maria         NaN    NaN      NaN        Maria Cantwell   \n",
      "2    Cardin   Benjamin          L.    NaN      NaN    Benjamin L. Cardin   \n",
      "3    Carper     Thomas     Richard    NaN      NaN      Thomas R. Carper   \n",
      "4     Casey     Robert          P.    Jr.      Bob  Robert P. Casey, Jr.   \n",
      "\n",
      "     birthday gender type state  ...  opensecrets_id  lis_id  \\\n",
      "0  1952-11-09      M  sen    OH  ...       N00003535    S307   \n",
      "1  1958-10-13      F  sen    WA  ...       N00007836    S275   \n",
      "2  1943-10-05      M  sen    MD  ...       N00001955    S308   \n",
      "3  1947-01-23      M  sen    DE  ...       N00012508    S277   \n",
      "4  1960-04-13      M  sen    PA  ...       N00027503    S309   \n",
      "\n",
      "               fec_ids cspan_id govtrack_id votesmart_id  ballotpedia_id  \\\n",
      "0  H2OH13033,S6OH00163   5051.0      400050      27018.0   Sherrod Brown   \n",
      "1  S8WA00194,H2WA01054  26137.0      300018      27122.0  Maria Cantwell   \n",
      "2  H6MD03177,S6MD03177   4004.0      400064      26888.0      Ben Cardin   \n",
      "3            S8DE00079    663.0      300019      22421.0      Tom Carper   \n",
      "4            S6PA00217  47036.0      412246       2541.0  Bob Casey, Jr.   \n",
      "\n",
      "  washington_post_id icpsr_id    wikipedia_id  \n",
      "0                NaN  29389.0   Sherrod Brown  \n",
      "1                NaN  39310.0  Maria Cantwell  \n",
      "2                NaN  15408.0      Ben Cardin  \n",
      "3                NaN  15015.0      Tom Carper  \n",
      "4                NaN  40703.0   Bob Casey Jr.  \n",
      "\n",
      "[5 rows x 34 columns]\n"
     ]
    },
    {
     "data": {
      "text/plain": [
       "(536, 34)"
      ]
     },
     "execution_count": 9,
     "metadata": {},
     "output_type": "execute_result"
    }
   ],
   "source": [
    "legistators = pd.read_csv(\"https://theunitedstates.io/congress-legislators/legislators-current.csv\")\n",
    "\n",
    "print(legistators.head())\n",
    "\n",
    "legistators.shape"
   ]
  },
  {
   "cell_type": "markdown",
   "metadata": {},
   "source": [
    "## Exercise 3: Explore the Data\n",
    "### Task 1\n",
    "Print the column names of the legistators dataframe and explore the type of data in the data frame. "
   ]
  },
  {
   "cell_type": "code",
   "execution_count": 10,
   "metadata": {},
   "outputs": [
    {
     "data": {
      "text/plain": [
       "Index(['last_name', 'first_name', 'middle_name', 'suffix', 'nickname',\n",
       "       'full_name', 'birthday', 'gender', 'type', 'state', 'district',\n",
       "       'senate_class', 'party', 'url', 'address', 'phone', 'contact_form',\n",
       "       'rss_url', 'twitter', 'facebook', 'youtube', 'youtube_id',\n",
       "       'bioguide_id', 'thomas_id', 'opensecrets_id', 'lis_id', 'fec_ids',\n",
       "       'cspan_id', 'govtrack_id', 'votesmart_id', 'ballotpedia_id',\n",
       "       'washington_post_id', 'icpsr_id', 'wikipedia_id'],\n",
       "      dtype='object')"
      ]
     },
     "execution_count": 10,
     "metadata": {},
     "output_type": "execute_result"
    }
   ],
   "source": [
    "legistators.columns"
   ]
  },
  {
   "cell_type": "markdown",
   "metadata": {},
   "source": [
    "### Task 2\n",
    "Show the datatypes of all of the columns in the legislator data. Do all of the data types seem appropriate for the data? "
   ]
  },
  {
   "cell_type": "code",
   "execution_count": 13,
   "metadata": {},
   "outputs": [
    {
     "data": {
      "text/plain": [
       "last_name              object\n",
       "first_name             object\n",
       "middle_name            object\n",
       "suffix                 object\n",
       "nickname               object\n",
       "full_name              object\n",
       "birthday               object\n",
       "gender                 object\n",
       "type                   object\n",
       "state                  object\n",
       "district              float64\n",
       "senate_class          float64\n",
       "party                  object\n",
       "url                    object\n",
       "address                object\n",
       "phone                  object\n",
       "contact_form           object\n",
       "rss_url                object\n",
       "twitter                object\n",
       "facebook               object\n",
       "youtube                object\n",
       "youtube_id             object\n",
       "bioguide_id            object\n",
       "thomas_id             float64\n",
       "opensecrets_id         object\n",
       "lis_id                 object\n",
       "fec_ids                object\n",
       "cspan_id              float64\n",
       "govtrack_id             int64\n",
       "votesmart_id          float64\n",
       "ballotpedia_id         object\n",
       "washington_post_id    float64\n",
       "icpsr_id              float64\n",
       "wikipedia_id           object\n",
       "dtype: object"
      ]
     },
     "execution_count": 13,
     "metadata": {},
     "output_type": "execute_result"
    }
   ],
   "source": [
    "legistators.dtypes"
   ]
  },
  {
   "cell_type": "markdown",
   "metadata": {},
   "source": [
    "Show all of the datayptes in the iris dataframe"
   ]
  },
  {
   "cell_type": "code",
   "execution_count": 14,
   "metadata": {},
   "outputs": [
    {
     "data": {
      "text/plain": [
       "sepal_length    float64\n",
       "sepal_width     float64\n",
       "petal_length    float64\n",
       "petal_width     float64\n",
       "species          object\n",
       "dtype: object"
      ]
     },
     "execution_count": 14,
     "metadata": {},
     "output_type": "execute_result"
    }
   ],
   "source": [
    "iris_df.dtypes"
   ]
  },
  {
   "cell_type": "markdown",
   "metadata": {},
   "source": [
    "### Task 3\n",
    "It's always important to know where the missing values are in your data. Are there any missing values in the legislators dataframe? How many per column?  \n",
    "\n",
    "Hint: we didn't learn how to find missing values in the lesson, but we can use the `isna()` function."
   ]
  },
  {
   "cell_type": "code",
   "execution_count": 17,
   "metadata": {},
   "outputs": [
    {
     "data": {
      "text/plain": [
       "last_name               0\n",
       "first_name              0\n",
       "middle_name           340\n",
       "suffix                518\n",
       "nickname              508\n",
       "full_name               0\n",
       "birthday                0\n",
       "gender                  0\n",
       "type                    0\n",
       "state                   0\n",
       "district              100\n",
       "senate_class          436\n",
       "party                   0\n",
       "url                     0\n",
       "address                 0\n",
       "phone                   0\n",
       "contact_form          435\n",
       "rss_url               245\n",
       "twitter                 8\n",
       "facebook              111\n",
       "youtube               229\n",
       "youtube_id            140\n",
       "bioguide_id             0\n",
       "thomas_id             160\n",
       "opensecrets_id          1\n",
       "lis_id                436\n",
       "fec_ids                 0\n",
       "cspan_id              102\n",
       "govtrack_id             0\n",
       "votesmart_id           19\n",
       "ballotpedia_id        213\n",
       "washington_post_id    536\n",
       "icpsr_id                7\n",
       "wikipedia_id            0\n",
       "dtype: int64"
      ]
     },
     "execution_count": 17,
     "metadata": {},
     "output_type": "execute_result"
    }
   ],
   "source": [
    "legistators.isna().sum()"
   ]
  },
  {
   "cell_type": "code",
   "execution_count": null,
   "metadata": {},
   "outputs": [],
   "source": []
  },
  {
   "cell_type": "markdown",
   "metadata": {},
   "source": [
    "How about in the iris dataframe?"
   ]
  },
  {
   "cell_type": "code",
   "execution_count": 18,
   "metadata": {},
   "outputs": [
    {
     "data": {
      "text/plain": [
       "sepal_length    0\n",
       "sepal_width     0\n",
       "petal_length    0\n",
       "petal_width     0\n",
       "species         0\n",
       "dtype: int64"
      ]
     },
     "execution_count": 18,
     "metadata": {},
     "output_type": "execute_result"
    }
   ],
   "source": [
    "iris_df.isna().sum()"
   ]
  },
  {
   "cell_type": "markdown",
   "metadata": {},
   "source": [
    "### Task 4\n",
    "It is also important to know if you have any duplicatd rows. If you are performing statistcal analyses and you have duplicated entries they can affect the results.  So, let's find out.  Are there any duplicated rows in the legislators dataframe?  Print then number of duplicates. If there are duplicates print the rows. What function could we used to find out if we have duplicated rows?"
   ]
  },
  {
   "cell_type": "code",
   "execution_count": 24,
   "metadata": {},
   "outputs": [
    {
     "name": "stdout",
     "output_type": "stream",
     "text": [
      "0      False\n",
      "1      False\n",
      "2      False\n",
      "3      False\n",
      "4      False\n",
      "       ...  \n",
      "531    False\n",
      "532    False\n",
      "533    False\n",
      "534    False\n",
      "535    False\n",
      "Length: 536, dtype: bool\n",
      "Empty DataFrame\n",
      "Columns: [last_name, first_name, middle_name, suffix, nickname, full_name, birthday, gender, type, state, district, senate_class, party, url, address, phone, contact_form, rss_url, twitter, facebook, youtube, youtube_id, bioguide_id, thomas_id, opensecrets_id, lis_id, fec_ids, cspan_id, govtrack_id, votesmart_id, ballotpedia_id, washington_post_id, icpsr_id, wikipedia_id]\n",
      "Index: []\n",
      "\n",
      "[0 rows x 34 columns]\n"
     ]
    }
   ],
   "source": [
    "print(legistators.duplicated())\n",
    "print(legistators[legistators.duplicated()])"
   ]
  },
  {
   "cell_type": "code",
   "execution_count": 25,
   "metadata": {},
   "outputs": [
    {
     "name": "stdout",
     "output_type": "stream",
     "text": [
      "0\n"
     ]
    }
   ],
   "source": [
    "print(legistators.duplicated().sum())"
   ]
  },
  {
   "cell_type": "markdown",
   "metadata": {},
   "source": [
    "Do we have duplicated rows in the iris dataset? Print the number of duplicates? If there are duplicates print the rows."
   ]
  },
  {
   "cell_type": "code",
   "execution_count": 28,
   "metadata": {},
   "outputs": [
    {
     "name": "stdout",
     "output_type": "stream",
     "text": [
      "0      False\n",
      "1      False\n",
      "2      False\n",
      "3      False\n",
      "4      False\n",
      "       ...  \n",
      "145    False\n",
      "146    False\n",
      "147    False\n",
      "148    False\n",
      "149    False\n",
      "Length: 150, dtype: bool\n",
      "     sepal_length  sepal_width  petal_length  petal_width    species\n",
      "34            4.9          3.1           1.5          0.1     setosa\n",
      "37            4.9          3.1           1.5          0.1     setosa\n",
      "142           5.8          2.7           5.1          1.9  virginica\n",
      "3\n"
     ]
    }
   ],
   "source": [
    "print(iris_df.duplicated())\n",
    "print(iris_df[iris_df.duplicated()])\n",
    "print(iris_df.duplicated().sum())"
   ]
  },
  {
   "cell_type": "code",
   "execution_count": null,
   "metadata": {},
   "outputs": [],
   "source": []
  },
  {
   "cell_type": "markdown",
   "metadata": {},
   "source": [
    "If there are duplicated rows should we remove them or keep them?"
   ]
  },
  {
   "cell_type": "markdown",
   "metadata": {},
   "source": [
    "### Task 5\n",
    "It is important to also check that the range of values in our data matches expectations.  For example, if we expect to have four species in our iris data, we should check that we see four species. How many political parties should we expect in the legislators data?  If all we saw were a single part perhaps the data is incomplete.... Let's check.   You can find out how many unique values there are per column using the `nunique` function.  Try it for both the legislators and the iris data set."
   ]
  },
  {
   "cell_type": "code",
   "execution_count": 30,
   "metadata": {},
   "outputs": [
    {
     "data": {
      "text/plain": [
       "last_name             488\n",
       "first_name            317\n",
       "middle_name            59\n",
       "suffix                  4\n",
       "nickname               21\n",
       "full_name             536\n",
       "birthday              529\n",
       "gender                  2\n",
       "type                    2\n",
       "state                  56\n",
       "district               53\n",
       "senate_class            3\n",
       "party                   3\n",
       "url                   536\n",
       "address               536\n",
       "phone                 536\n",
       "contact_form          101\n",
       "rss_url               290\n",
       "twitter               528\n",
       "facebook              425\n",
       "youtube               307\n",
       "youtube_id            396\n",
       "bioguide_id           536\n",
       "thomas_id             376\n",
       "opensecrets_id        535\n",
       "lis_id                100\n",
       "fec_ids               536\n",
       "cspan_id              434\n",
       "govtrack_id           536\n",
       "votesmart_id          517\n",
       "ballotpedia_id        323\n",
       "washington_post_id      0\n",
       "icpsr_id              529\n",
       "wikipedia_id          536\n",
       "dtype: int64"
      ]
     },
     "execution_count": 30,
     "metadata": {},
     "output_type": "execute_result"
    }
   ],
   "source": [
    "legistators.nunique()"
   ]
  },
  {
   "cell_type": "code",
   "execution_count": 31,
   "metadata": {},
   "outputs": [
    {
     "data": {
      "text/plain": [
       "sepal_length    35\n",
       "sepal_width     23\n",
       "petal_length    43\n",
       "petal_width     22\n",
       "species          3\n",
       "dtype: int64"
      ]
     },
     "execution_count": 31,
     "metadata": {},
     "output_type": "execute_result"
    }
   ],
   "source": [
    "iris_df.nunique()"
   ]
  },
  {
   "cell_type": "markdown",
   "metadata": {},
   "source": [
    "What do you think?  Do we see what we might expect?  Are there fields where this type of check doesn't matter? In what fields might this type of exploration matter?"
   ]
  },
  {
   "cell_type": "markdown",
   "metadata": {},
   "source": [
    "Check to see if you have all of the values expected for a given field. Pick a column you know should have a set number of values and print all of the unique values in that column. Do so for both the legislator and iris datasets."
   ]
  },
  {
   "cell_type": "code",
   "execution_count": 33,
   "metadata": {},
   "outputs": [
    {
     "data": {
      "text/plain": [
       "array(['Sherrod Brown', 'Maria Cantwell', 'Benjamin L. Cardin',\n",
       "       'Thomas R. Carper', 'Robert P. Casey, Jr.', 'Dianne Feinstein',\n",
       "       'Amy Klobuchar', 'Robert Menendez', 'Bernard Sanders',\n",
       "       'Debbie Stabenow', 'Jon Tester', 'Sheldon Whitehouse',\n",
       "       'John Barrasso', 'Roger F. Wicker', 'Lamar Alexander',\n",
       "       'Susan M. Collins', 'John Cornyn', 'Richard J. Durbin',\n",
       "       'Michael B. Enzi', 'Lindsey Graham', 'James M. Inhofe',\n",
       "       'Mitch McConnell', 'Jeff Merkley', 'Jack Reed', 'James E. Risch',\n",
       "       'Pat Roberts', 'Jeanne Shaheen', 'Tom Udall', 'Mark R. Warner',\n",
       "       'Kirsten E. Gillibrand', 'Christopher A. Coons',\n",
       "       'Joe Manchin, III', 'Robert B. Aderholt', 'Justin Amash',\n",
       "       'Tammy Baldwin', 'Karen Bass', 'Michael F. Bennet',\n",
       "       'Gus M. Bilirakis', 'Rob Bishop', 'Sanford D. Bishop, Jr.',\n",
       "       'Marsha Blackburn', 'Earl Blumenauer', 'Richard Blumenthal',\n",
       "       'Roy Blunt', 'John Boozman', 'Kevin Brady', 'Mo Brooks',\n",
       "       'Vern Buchanan', 'Larry Bucshon', 'Michael C. Burgess',\n",
       "       'Richard Burr', 'G. K. Butterfield', 'Ken Calvert',\n",
       "       'Shelley Moore Capito', 'André Carson', 'John R. Carter',\n",
       "       'Bill Cassidy', 'Kathy Castor', 'Steve Chabot', 'Judy Chu',\n",
       "       'David N. Cicilline', 'Yvette D. Clarke', 'Wm. Lacy Clay',\n",
       "       'Emanuel Cleaver', 'James E. Clyburn', 'Steve Cohen', 'Tom Cole',\n",
       "       'K. Michael Conaway', 'Gerald E. Connolly', 'Jim Cooper',\n",
       "       'Jim Costa', 'Joe Courtney', 'Mike Crapo',\n",
       "       'Eric A. \"Rick\" Crawford', 'Henry Cuellar', 'Danny K. Davis',\n",
       "       'Susan A. Davis', 'Peter A. DeFazio', 'Diana DeGette',\n",
       "       'Rosa L. DeLauro', 'Scott DesJarlais', 'Theodore E. Deutch',\n",
       "       'Mario Diaz-Balart', 'Lloyd Doggett', 'Michael F. Doyle',\n",
       "       'Jeff Duncan', 'Eliot L. Engel', 'Anna G. Eshoo',\n",
       "       'Charles J. \"Chuck\" Fleischmann', 'Bill Flores',\n",
       "       'Jeff Fortenberry', 'Virginia Foxx', 'Marcia L. Fudge',\n",
       "       'John Garamendi', 'Cory Gardner', 'Bob Gibbs', 'Louie Gohmert',\n",
       "       'Paul A. Gosar', 'Kay Granger', 'Chuck Grassley', 'Sam Graves',\n",
       "       'Tom Graves', 'Al Green', 'H. Morgan Griffith', 'Raúl M. Grijalva',\n",
       "       'Brett Guthrie', 'Andy Harris', 'Vicky Hartzler',\n",
       "       'Alcee L. Hastings', 'Martin Heinrich', 'Jaime Herrera Beutler',\n",
       "       'Brian Higgins', 'James A. Himes', 'Mazie K. Hirono',\n",
       "       'John Hoeven', 'Steny H. Hoyer', 'Bill Huizenga',\n",
       "       'Sheila Jackson Lee', 'Bill Johnson', 'Eddie Bernice Johnson',\n",
       "       'Henry C. \"Hank\" Johnson, Jr.', 'Ron Johnson', 'Jim Jordan',\n",
       "       'Marcy Kaptur', 'William R. Keating', 'Mike Kelly', 'Ron Kind',\n",
       "       'Peter T. King', 'Steve King', 'Adam Kinzinger', 'Doug Lamborn',\n",
       "       'James R. Langevin', 'James Lankford', 'Rick Larsen',\n",
       "       'John B. Larson', 'Robert E. Latta', 'Patrick J. Leahy',\n",
       "       'Barbara Lee', 'Mike Lee', 'John Lewis', 'Daniel Lipinski',\n",
       "       'David Loebsack', 'Zoe Lofgren', 'Billy Long', 'Nita M. Lowey',\n",
       "       'Frank D. Lucas', 'Blaine Luetkemeyer', 'Ben Ray Luján',\n",
       "       'Stephen F. Lynch', 'Carolyn B. Maloney', 'Kenny Marchant',\n",
       "       'Edward J. Markey', 'Doris O. Matsui', 'Kevin McCarthy',\n",
       "       'Michael T. McCaul', 'Tom McClintock', 'Betty McCollum',\n",
       "       'James P. McGovern', 'Patrick T. McHenry', 'David B. McKinley',\n",
       "       'Cathy McMorris Rodgers', 'Jerry McNerney', 'Gregory W. Meeks',\n",
       "       'Gwen Moore', 'Jerry Moran', 'Lisa Murkowski',\n",
       "       'Christopher Murphy', 'Patty Murray', 'Jerrold Nadler',\n",
       "       'Grace F. Napolitano', 'Richard E. Neal', 'Eleanor Holmes Norton',\n",
       "       'Devin Nunes', 'Pete Olson', 'Steven M. Palazzo',\n",
       "       'Frank Pallone, Jr.', 'Bill Pascrell, Jr.', 'Rand Paul',\n",
       "       'Nancy Pelosi', 'Ed Perlmutter', 'Gary C. Peters',\n",
       "       'Collin C. Peterson', 'Chellie Pingree', 'Rob Portman',\n",
       "       'Bill Posey', 'David E. Price', 'Mike Quigley', 'Tom Reed',\n",
       "       'Cedric L. Richmond', 'Martha Roby', 'David P. Roe',\n",
       "       'Harold Rogers', 'Mike Rogers', 'Lucille Roybal-Allard',\n",
       "       'Marco Rubio', 'C. A. Dutch Ruppersberger', 'Bobby L. Rush',\n",
       "       'Tim Ryan', 'Gregorio Kilili Camacho Sablan', 'John P. Sarbanes',\n",
       "       'Steve Scalise', 'Janice D. Schakowsky', 'Adam B. Schiff',\n",
       "       'Kurt Schrader', 'Charles E. Schumer', 'David Schweikert',\n",
       "       'Austin Scott', 'David Scott', 'Robert C. \"Bobby\" Scott',\n",
       "       'Tim Scott', 'F. James Sensenbrenner, Jr.', 'José E. Serrano',\n",
       "       'Terri A. Sewell', 'Richard C. Shelby', 'Brad Sherman',\n",
       "       'John Shimkus', 'Michael K. Simpson', 'Albio Sires', 'Adam Smith',\n",
       "       'Adrian Smith', 'Christopher H. Smith', 'Jackie Speier',\n",
       "       'Steve Stivers', 'Linda T. Sánchez', 'Bennie G. Thompson',\n",
       "       'Mike Thompson', 'Glenn Thompson', 'Mac Thornberry', 'John Thune',\n",
       "       'Scott R. Tipton', 'Paul Tonko', 'Patrick J. Toomey',\n",
       "       'Michael R. Turner', 'Fred Upton', 'Chris Van Hollen',\n",
       "       'Nydia M. Velázquez', 'Peter J. Visclosky', 'Tim Walberg',\n",
       "       'Greg Walden', 'Debbie Wasserman Schultz', 'Maxine Waters',\n",
       "       'Daniel Webster', 'Peter Welch', 'Joe Wilson',\n",
       "       'Frederica S. Wilson', 'Robert J. Wittman', 'Steve Womack',\n",
       "       'Rob Woodall', 'Ron Wyden', 'John A. Yarmuth', 'Don Young',\n",
       "       'Todd Young', 'Mark E. Amodei', 'Suzanne Bonamici',\n",
       "       'Suzan K. DelBene', 'Thomas Massie', 'Donald M. Payne, Jr.',\n",
       "       'Brian Schatz', 'Bill Foster', 'Dina Titus', 'Tom Cotton',\n",
       "       'Kyrsten Sinema', 'Doug LaMalfa', 'Jared Huffman', 'Ami Bera',\n",
       "       'Paul Cook', 'Eric Swalwell', 'Julia Brownley', 'Tony Cárdenas',\n",
       "       'Raul Ruiz', 'Mark Takano', 'Alan S. Lowenthal', 'Juan Vargas',\n",
       "       'Scott H. Peters', 'Ted S. Yoho', 'Lois Frankel', 'Doug Collins',\n",
       "       'Tulsi Gabbard', 'Tammy Duckworth', 'Rodney Davis', 'Cheri Bustos',\n",
       "       'Jackie Walorski', 'Susan W. Brooks', 'Andy Barr',\n",
       "       'Elizabeth Warren', 'Joseph P. Kennedy III', 'Angus S. King, Jr.',\n",
       "       'Daniel T. Kildee', 'Ann Wagner', 'Steve Daines', 'Richard Hudson',\n",
       "       'Mark Meadows', 'George Holding', 'Kevin Cramer', 'Deb Fischer',\n",
       "       'Ann M. Kuster', 'Grace Meng', 'Hakeem S. Jeffries',\n",
       "       'Sean Patrick Maloney', 'Brad R. Wenstrup', 'Joyce Beatty',\n",
       "       'David P. Joyce', 'Markwayne Mullin', 'Scott Perry',\n",
       "       'Matt Cartwright', 'Tom Rice', 'Ted Cruz', 'Randy K. Weber, Sr.',\n",
       "       'Joaquin Castro', 'Roger Williams', 'Marc A. Veasey',\n",
       "       'Filemon Vela', 'Chris Stewart', 'Tim Kaine', 'Derek Kilmer',\n",
       "       'Denny Heck', 'Mark Pocan', 'Robin L. Kelly', 'Jason Smith',\n",
       "       'Cory A. Booker', 'Katherine M. Clark', 'Bradley Byrne',\n",
       "       'Donald Norcross', 'Alma S. Adams', 'Gary J. Palmer',\n",
       "       'J. French Hill', 'Bruce Westerman', 'Ruben Gallego',\n",
       "       'Mark DeSaulnier', 'Pete Aguilar', 'Ted Lieu', 'Norma J. Torres',\n",
       "       'Ken Buck', 'Earl L. \"Buddy\" Carter', 'Jody B. Hice',\n",
       "       'Barry Loudermilk', 'Rick W. Allen', 'Mike Bost',\n",
       "       'Ralph Lee Abraham', 'Garret Graves', 'Seth Moulton',\n",
       "       'John R. Moolenaar', 'Debbie Dingell', 'Brenda L. Lawrence',\n",
       "       'Tom Emmer', 'David Rouzer', 'Bonnie Watson Coleman',\n",
       "       'Lee M. Zeldin', 'Kathleen M. Rice', 'Elise M. Stefanik',\n",
       "       'John Katko', 'Brendan F. Boyle', 'John Ratcliffe', 'Will Hurd',\n",
       "       'Brian Babin', 'Donald S. Beyer, Jr.', 'Stacey E. Plaskett',\n",
       "       'Dan Newhouse', 'Glenn Grothman', 'Alexander X. Mooney',\n",
       "       'Aumua Amata Coleman Radewagen', 'Dan Sullivan', 'David Perdue',\n",
       "       'Joni Ernst', 'Thom Tillis', 'Mike Rounds', 'Mark Walker',\n",
       "       'Ben Sasse', 'Trent Kelly', 'Darin LaHood', 'Warren Davidson',\n",
       "       'James Comer', 'Dwight Evans', 'Kamala D. Harris', 'John Kennedy',\n",
       "       'Margaret Wood Hassan', 'Catherine Cortez Masto',\n",
       "       'Bradley Scott Schneider', 'Tom O’Halleran', 'Andy Biggs',\n",
       "       'Ro Khanna', 'Jimmy Panetta', 'Salud O. Carbajal',\n",
       "       'Nanette Diaz Barragán', 'J. Luis Correa', 'Lisa Blunt Rochester',\n",
       "       'Matt Gaetz', 'Neal P. Dunn', 'John H. Rutherford',\n",
       "       'Al Lawson, Jr.', 'Stephanie N. Murphy', 'Darren Soto',\n",
       "       'Val Butler Demings', 'Charlie Crist', 'Brian J. Mast',\n",
       "       'Francis Rooney', 'A. Drew Ferguson IV', 'Raja Krishnamoorthi',\n",
       "       'Jim Banks', 'Trey Hollingsworth', 'Roger W. Marshall',\n",
       "       'Clay Higgins', 'Mike Johnson', 'Anthony G. Brown', 'Jamie Raskin',\n",
       "       'Jack Bergman', 'Paul Mitchell', 'Ted Budd', 'Don Bacon',\n",
       "       'Josh Gottheimer', 'Jacky Rosen', 'Thomas R. Suozzi',\n",
       "       'Adriano Espaillat', 'Brian K. Fitzpatrick', 'Lloyd Smucker',\n",
       "       'Jenniffer González-Colón', 'David Kustoff', 'Vicente Gonzalez',\n",
       "       'Jodey C. Arrington', 'A. Donald McEachin', 'Pramila Jayapal',\n",
       "       'Mike Gallagher', 'Liz Cheney', 'Ron Estes', 'Greg Gianforte',\n",
       "       'Ralph Norman', 'Jimmy Gomez', 'John R. Curtis', 'Doug Jones',\n",
       "       'Tina Smith', 'Cindy Hyde-Smith', 'Conor Lamb', 'Debbie Lesko',\n",
       "       'Michael Cloud', 'Troy Balderson', 'Kevin Hern',\n",
       "       'Joseph D. Morelle', 'Mary Gay Scanlon', 'Susan Wild', 'Ed Case',\n",
       "       'Steven Horsford', 'Ann Kirkpatrick', 'Greg Stanton',\n",
       "       'Josh Harder', 'TJ Cox', 'Gilbert Ray Cisneros, Jr.',\n",
       "       'Katie Porter', 'Harley Rouda', 'Mike Levin', 'Joe Neguse',\n",
       "       'Jason Crow', 'Jahana Hayes', 'Michael Waltz', 'Ross Spano',\n",
       "       'W. Gregory Steube', 'Debbie Mucarsel-Powell', 'Donna E. Shalala',\n",
       "       'Lucy McBath', 'Michael F. Q. San Nicolas', 'Abby Finkenauer',\n",
       "       'Cynthia Axne', 'Russ Fulcher', 'Jesús G. \"Chuy\" García',\n",
       "       'Sean Casten', 'Lauren Underwood', 'James R. Baird', 'Greg Pence',\n",
       "       'Steve Watkins', 'Sharice Davids', 'Lori Trahan',\n",
       "       'Ayanna Pressley', 'David J. Trone', 'Elissa Slotkin',\n",
       "       'Andy Levin', 'Haley M. Stevens', 'Rashida Tlaib', 'Jim Hagedorn',\n",
       "       'Angie Craig', 'Dean Phillips', 'Ilhan Omar', 'Pete Stauber',\n",
       "       'Michael Guest', 'Kelly Armstrong', 'Chris Pappas',\n",
       "       'Jefferson Van Drew', 'Andy Kim', 'Tom Malinowski',\n",
       "       'Mikie Sherrill', 'Debra A. Haaland', 'Xochitl Torres Small',\n",
       "       'Susie Lee', 'Max Rose', 'Alexandria Ocasio-Cortez',\n",
       "       'Antonio Delgado', 'Anthony Brindisi', 'Anthony Gonzalez',\n",
       "       'Kendra S. Horn', 'Madeleine Dean', 'Chrissy Houlahan',\n",
       "       'Daniel Meuser', 'John Joyce', 'Guy Reschenthaler',\n",
       "       'Joe Cunningham', 'William R. Timmons IV', 'Dusty Johnson',\n",
       "       'Tim Burchett', 'John W. Rose', 'Mark E. Green', 'Dan Crenshaw',\n",
       "       'Van Taylor', 'Lance Gooden', 'Ron Wright', 'Lizzie Fletcher',\n",
       "       'Veronica Escobar', 'Chip Roy', 'Sylvia R. Garcia',\n",
       "       'Colin Z. Allred', 'Ben McAdams', 'Elaine G. Luria',\n",
       "       'Denver Riggleman', 'Ben Cline', 'Abigail Davis Spanberger',\n",
       "       'Jennifer Wexton', 'Kim Schrier', 'Bryan Steil', 'Carol D. Miller',\n",
       "       'Rick Scott', 'Mike Braun', 'Josh Hawley', 'Mitt Romney',\n",
       "       'Martha McSally', 'Jared F. Golden', 'Fred Keller', 'Dan Bishop',\n",
       "       'Gregory F. Murphy', 'Kelly Loeffler'], dtype=object)"
      ]
     },
     "execution_count": 33,
     "metadata": {},
     "output_type": "execute_result"
    }
   ],
   "source": [
    "legistators['full_name'].unique()"
   ]
  },
  {
   "cell_type": "code",
   "execution_count": 34,
   "metadata": {},
   "outputs": [
    {
     "data": {
      "text/plain": [
       "array(['setosa', 'versicolor', 'virginica'], dtype=object)"
      ]
     },
     "execution_count": 34,
     "metadata": {},
     "output_type": "execute_result"
    }
   ],
   "source": [
    "iris_df['species'].unique()"
   ]
  },
  {
   "cell_type": "code",
   "execution_count": 32,
   "metadata": {},
   "outputs": [
    {
     "data": {
      "text/plain": [
       "array(['M', 'F'], dtype=object)"
      ]
     },
     "execution_count": 32,
     "metadata": {},
     "output_type": "execute_result"
    }
   ],
   "source": [
    "legistators['gender'].unique()"
   ]
  },
  {
   "cell_type": "markdown",
   "metadata": {},
   "source": [
    "## Exercise 5: Describe the data\n",
    "For both the legislators and the iris data, get descriptive statistics for each numeric field."
   ]
  },
  {
   "cell_type": "code",
   "execution_count": 35,
   "metadata": {},
   "outputs": [
    {
     "data": {
      "text/html": [
       "<div>\n",
       "<style scoped>\n",
       "    .dataframe tbody tr th:only-of-type {\n",
       "        vertical-align: middle;\n",
       "    }\n",
       "\n",
       "    .dataframe tbody tr th {\n",
       "        vertical-align: top;\n",
       "    }\n",
       "\n",
       "    .dataframe thead th {\n",
       "        text-align: right;\n",
       "    }\n",
       "</style>\n",
       "<table border=\"1\" class=\"dataframe\">\n",
       "  <thead>\n",
       "    <tr style=\"text-align: right;\">\n",
       "      <th></th>\n",
       "      <th>district</th>\n",
       "      <th>senate_class</th>\n",
       "      <th>thomas_id</th>\n",
       "      <th>cspan_id</th>\n",
       "      <th>govtrack_id</th>\n",
       "      <th>votesmart_id</th>\n",
       "      <th>washington_post_id</th>\n",
       "      <th>icpsr_id</th>\n",
       "    </tr>\n",
       "  </thead>\n",
       "  <tbody>\n",
       "    <tr>\n",
       "      <td>count</td>\n",
       "      <td>436.000000</td>\n",
       "      <td>100.000000</td>\n",
       "      <td>376.000000</td>\n",
       "      <td>4.340000e+02</td>\n",
       "      <td>536.000000</td>\n",
       "      <td>517.000000</td>\n",
       "      <td>0.0</td>\n",
       "      <td>529.000000</td>\n",
       "    </tr>\n",
       "    <tr>\n",
       "      <td>mean</td>\n",
       "      <td>9.869266</td>\n",
       "      <td>2.010000</td>\n",
       "      <td>1749.191489</td>\n",
       "      <td>5.373331e+05</td>\n",
       "      <td>405232.339552</td>\n",
       "      <td>74484.537718</td>\n",
       "      <td>NaN</td>\n",
       "      <td>24147.979206</td>\n",
       "    </tr>\n",
       "    <tr>\n",
       "      <td>std</td>\n",
       "      <td>10.478171</td>\n",
       "      <td>0.822598</td>\n",
       "      <td>543.343825</td>\n",
       "      <td>1.467798e+06</td>\n",
       "      <td>22470.871879</td>\n",
       "      <td>61365.127579</td>\n",
       "      <td>NaN</td>\n",
       "      <td>7397.835690</td>\n",
       "    </tr>\n",
       "    <tr>\n",
       "      <td>min</td>\n",
       "      <td>0.000000</td>\n",
       "      <td>1.000000</td>\n",
       "      <td>91.000000</td>\n",
       "      <td>5.000000e+00</td>\n",
       "      <td>300002.000000</td>\n",
       "      <td>119.000000</td>\n",
       "      <td>NaN</td>\n",
       "      <td>14066.000000</td>\n",
       "    </tr>\n",
       "    <tr>\n",
       "      <td>25%</td>\n",
       "      <td>3.000000</td>\n",
       "      <td>1.000000</td>\n",
       "      <td>1600.500000</td>\n",
       "      <td>4.552275e+04</td>\n",
       "      <td>400642.500000</td>\n",
       "      <td>24046.000000</td>\n",
       "      <td>NaN</td>\n",
       "      <td>21110.000000</td>\n",
       "    </tr>\n",
       "    <tr>\n",
       "      <td>50%</td>\n",
       "      <td>6.000000</td>\n",
       "      <td>2.000000</td>\n",
       "      <td>1926.000000</td>\n",
       "      <td>7.964150e+04</td>\n",
       "      <td>412513.500000</td>\n",
       "      <td>51522.000000</td>\n",
       "      <td>NaN</td>\n",
       "      <td>21561.000000</td>\n",
       "    </tr>\n",
       "    <tr>\n",
       "      <td>75%</td>\n",
       "      <td>13.000000</td>\n",
       "      <td>3.000000</td>\n",
       "      <td>2126.250000</td>\n",
       "      <td>1.003305e+06</td>\n",
       "      <td>412701.250000</td>\n",
       "      <td>134948.000000</td>\n",
       "      <td>NaN</td>\n",
       "      <td>21970.000000</td>\n",
       "    </tr>\n",
       "    <tr>\n",
       "      <td>max</td>\n",
       "      <td>53.000000</td>\n",
       "      <td>3.000000</td>\n",
       "      <td>2296.000000</td>\n",
       "      <td>9.275683e+06</td>\n",
       "      <td>456790.000000</td>\n",
       "      <td>182310.000000</td>\n",
       "      <td>NaN</td>\n",
       "      <td>94659.000000</td>\n",
       "    </tr>\n",
       "  </tbody>\n",
       "</table>\n",
       "</div>"
      ],
      "text/plain": [
       "         district  senate_class    thomas_id      cspan_id    govtrack_id  \\\n",
       "count  436.000000    100.000000   376.000000  4.340000e+02     536.000000   \n",
       "mean     9.869266      2.010000  1749.191489  5.373331e+05  405232.339552   \n",
       "std     10.478171      0.822598   543.343825  1.467798e+06   22470.871879   \n",
       "min      0.000000      1.000000    91.000000  5.000000e+00  300002.000000   \n",
       "25%      3.000000      1.000000  1600.500000  4.552275e+04  400642.500000   \n",
       "50%      6.000000      2.000000  1926.000000  7.964150e+04  412513.500000   \n",
       "75%     13.000000      3.000000  2126.250000  1.003305e+06  412701.250000   \n",
       "max     53.000000      3.000000  2296.000000  9.275683e+06  456790.000000   \n",
       "\n",
       "        votesmart_id  washington_post_id      icpsr_id  \n",
       "count     517.000000                 0.0    529.000000  \n",
       "mean    74484.537718                 NaN  24147.979206  \n",
       "std     61365.127579                 NaN   7397.835690  \n",
       "min       119.000000                 NaN  14066.000000  \n",
       "25%     24046.000000                 NaN  21110.000000  \n",
       "50%     51522.000000                 NaN  21561.000000  \n",
       "75%    134948.000000                 NaN  21970.000000  \n",
       "max    182310.000000                 NaN  94659.000000  "
      ]
     },
     "execution_count": 35,
     "metadata": {},
     "output_type": "execute_result"
    }
   ],
   "source": [
    "legistators.describe()"
   ]
  },
  {
   "cell_type": "code",
   "execution_count": 36,
   "metadata": {},
   "outputs": [
    {
     "data": {
      "text/html": [
       "<div>\n",
       "<style scoped>\n",
       "    .dataframe tbody tr th:only-of-type {\n",
       "        vertical-align: middle;\n",
       "    }\n",
       "\n",
       "    .dataframe tbody tr th {\n",
       "        vertical-align: top;\n",
       "    }\n",
       "\n",
       "    .dataframe thead th {\n",
       "        text-align: right;\n",
       "    }\n",
       "</style>\n",
       "<table border=\"1\" class=\"dataframe\">\n",
       "  <thead>\n",
       "    <tr style=\"text-align: right;\">\n",
       "      <th></th>\n",
       "      <th>sepal_length</th>\n",
       "      <th>sepal_width</th>\n",
       "      <th>petal_length</th>\n",
       "      <th>petal_width</th>\n",
       "    </tr>\n",
       "  </thead>\n",
       "  <tbody>\n",
       "    <tr>\n",
       "      <td>count</td>\n",
       "      <td>150.000000</td>\n",
       "      <td>150.000000</td>\n",
       "      <td>150.000000</td>\n",
       "      <td>150.000000</td>\n",
       "    </tr>\n",
       "    <tr>\n",
       "      <td>mean</td>\n",
       "      <td>5.843333</td>\n",
       "      <td>3.054000</td>\n",
       "      <td>3.758667</td>\n",
       "      <td>1.198667</td>\n",
       "    </tr>\n",
       "    <tr>\n",
       "      <td>std</td>\n",
       "      <td>0.828066</td>\n",
       "      <td>0.433594</td>\n",
       "      <td>1.764420</td>\n",
       "      <td>0.763161</td>\n",
       "    </tr>\n",
       "    <tr>\n",
       "      <td>min</td>\n",
       "      <td>4.300000</td>\n",
       "      <td>2.000000</td>\n",
       "      <td>1.000000</td>\n",
       "      <td>0.100000</td>\n",
       "    </tr>\n",
       "    <tr>\n",
       "      <td>25%</td>\n",
       "      <td>5.100000</td>\n",
       "      <td>2.800000</td>\n",
       "      <td>1.600000</td>\n",
       "      <td>0.300000</td>\n",
       "    </tr>\n",
       "    <tr>\n",
       "      <td>50%</td>\n",
       "      <td>5.800000</td>\n",
       "      <td>3.000000</td>\n",
       "      <td>4.350000</td>\n",
       "      <td>1.300000</td>\n",
       "    </tr>\n",
       "    <tr>\n",
       "      <td>75%</td>\n",
       "      <td>6.400000</td>\n",
       "      <td>3.300000</td>\n",
       "      <td>5.100000</td>\n",
       "      <td>1.800000</td>\n",
       "    </tr>\n",
       "    <tr>\n",
       "      <td>max</td>\n",
       "      <td>7.900000</td>\n",
       "      <td>4.400000</td>\n",
       "      <td>6.900000</td>\n",
       "      <td>2.500000</td>\n",
       "    </tr>\n",
       "  </tbody>\n",
       "</table>\n",
       "</div>"
      ],
      "text/plain": [
       "       sepal_length  sepal_width  petal_length  petal_width\n",
       "count    150.000000   150.000000    150.000000   150.000000\n",
       "mean       5.843333     3.054000      3.758667     1.198667\n",
       "std        0.828066     0.433594      1.764420     0.763161\n",
       "min        4.300000     2.000000      1.000000     0.100000\n",
       "25%        5.100000     2.800000      1.600000     0.300000\n",
       "50%        5.800000     3.000000      4.350000     1.300000\n",
       "75%        6.400000     3.300000      5.100000     1.800000\n",
       "max        7.900000     4.400000      6.900000     2.500000"
      ]
     },
     "execution_count": 36,
     "metadata": {},
     "output_type": "execute_result"
    }
   ],
   "source": [
    "iris_df.describe()"
   ]
  },
  {
   "cell_type": "code",
   "execution_count": null,
   "metadata": {},
   "outputs": [],
   "source": []
  },
  {
   "cell_type": "markdown",
   "metadata": {},
   "source": [
    "## Exercise 6: Row Index Labels\n",
    "For the legislator dataframe, let's change the row labels from numerical indexes to something more recognizable.  Take a look at the columns of data, is there anything you might want to substitue as a row label?  Pick one and set the index lables. Then print the top 5 rows to see if the index labels are present."
   ]
  },
  {
   "cell_type": "code",
   "execution_count": 40,
   "metadata": {},
   "outputs": [
    {
     "data": {
      "text/html": [
       "<div>\n",
       "<style scoped>\n",
       "    .dataframe tbody tr th:only-of-type {\n",
       "        vertical-align: middle;\n",
       "    }\n",
       "\n",
       "    .dataframe tbody tr th {\n",
       "        vertical-align: top;\n",
       "    }\n",
       "\n",
       "    .dataframe thead th {\n",
       "        text-align: right;\n",
       "    }\n",
       "</style>\n",
       "<table border=\"1\" class=\"dataframe\">\n",
       "  <thead>\n",
       "    <tr style=\"text-align: right;\">\n",
       "      <th></th>\n",
       "      <th>last_name</th>\n",
       "      <th>first_name</th>\n",
       "      <th>middle_name</th>\n",
       "      <th>suffix</th>\n",
       "      <th>nickname</th>\n",
       "      <th>full_name</th>\n",
       "      <th>birthday</th>\n",
       "      <th>gender</th>\n",
       "      <th>type</th>\n",
       "      <th>state</th>\n",
       "      <th>...</th>\n",
       "      <th>opensecrets_id</th>\n",
       "      <th>lis_id</th>\n",
       "      <th>fec_ids</th>\n",
       "      <th>cspan_id</th>\n",
       "      <th>govtrack_id</th>\n",
       "      <th>votesmart_id</th>\n",
       "      <th>ballotpedia_id</th>\n",
       "      <th>washington_post_id</th>\n",
       "      <th>icpsr_id</th>\n",
       "      <th>wikipedia_id</th>\n",
       "    </tr>\n",
       "    <tr>\n",
       "      <th>party</th>\n",
       "      <th></th>\n",
       "      <th></th>\n",
       "      <th></th>\n",
       "      <th></th>\n",
       "      <th></th>\n",
       "      <th></th>\n",
       "      <th></th>\n",
       "      <th></th>\n",
       "      <th></th>\n",
       "      <th></th>\n",
       "      <th></th>\n",
       "      <th></th>\n",
       "      <th></th>\n",
       "      <th></th>\n",
       "      <th></th>\n",
       "      <th></th>\n",
       "      <th></th>\n",
       "      <th></th>\n",
       "      <th></th>\n",
       "      <th></th>\n",
       "      <th></th>\n",
       "    </tr>\n",
       "  </thead>\n",
       "  <tbody>\n",
       "    <tr>\n",
       "      <td>Democrat</td>\n",
       "      <td>Brown</td>\n",
       "      <td>Sherrod</td>\n",
       "      <td>NaN</td>\n",
       "      <td>NaN</td>\n",
       "      <td>NaN</td>\n",
       "      <td>Sherrod Brown</td>\n",
       "      <td>1952-11-09</td>\n",
       "      <td>M</td>\n",
       "      <td>sen</td>\n",
       "      <td>OH</td>\n",
       "      <td>...</td>\n",
       "      <td>N00003535</td>\n",
       "      <td>S307</td>\n",
       "      <td>H2OH13033,S6OH00163</td>\n",
       "      <td>5051.0</td>\n",
       "      <td>400050</td>\n",
       "      <td>27018.0</td>\n",
       "      <td>Sherrod Brown</td>\n",
       "      <td>NaN</td>\n",
       "      <td>29389.0</td>\n",
       "      <td>Sherrod Brown</td>\n",
       "    </tr>\n",
       "    <tr>\n",
       "      <td>Democrat</td>\n",
       "      <td>Cantwell</td>\n",
       "      <td>Maria</td>\n",
       "      <td>NaN</td>\n",
       "      <td>NaN</td>\n",
       "      <td>NaN</td>\n",
       "      <td>Maria Cantwell</td>\n",
       "      <td>1958-10-13</td>\n",
       "      <td>F</td>\n",
       "      <td>sen</td>\n",
       "      <td>WA</td>\n",
       "      <td>...</td>\n",
       "      <td>N00007836</td>\n",
       "      <td>S275</td>\n",
       "      <td>S8WA00194,H2WA01054</td>\n",
       "      <td>26137.0</td>\n",
       "      <td>300018</td>\n",
       "      <td>27122.0</td>\n",
       "      <td>Maria Cantwell</td>\n",
       "      <td>NaN</td>\n",
       "      <td>39310.0</td>\n",
       "      <td>Maria Cantwell</td>\n",
       "    </tr>\n",
       "    <tr>\n",
       "      <td>Democrat</td>\n",
       "      <td>Cardin</td>\n",
       "      <td>Benjamin</td>\n",
       "      <td>L.</td>\n",
       "      <td>NaN</td>\n",
       "      <td>NaN</td>\n",
       "      <td>Benjamin L. Cardin</td>\n",
       "      <td>1943-10-05</td>\n",
       "      <td>M</td>\n",
       "      <td>sen</td>\n",
       "      <td>MD</td>\n",
       "      <td>...</td>\n",
       "      <td>N00001955</td>\n",
       "      <td>S308</td>\n",
       "      <td>H6MD03177,S6MD03177</td>\n",
       "      <td>4004.0</td>\n",
       "      <td>400064</td>\n",
       "      <td>26888.0</td>\n",
       "      <td>Ben Cardin</td>\n",
       "      <td>NaN</td>\n",
       "      <td>15408.0</td>\n",
       "      <td>Ben Cardin</td>\n",
       "    </tr>\n",
       "    <tr>\n",
       "      <td>Democrat</td>\n",
       "      <td>Carper</td>\n",
       "      <td>Thomas</td>\n",
       "      <td>Richard</td>\n",
       "      <td>NaN</td>\n",
       "      <td>NaN</td>\n",
       "      <td>Thomas R. Carper</td>\n",
       "      <td>1947-01-23</td>\n",
       "      <td>M</td>\n",
       "      <td>sen</td>\n",
       "      <td>DE</td>\n",
       "      <td>...</td>\n",
       "      <td>N00012508</td>\n",
       "      <td>S277</td>\n",
       "      <td>S8DE00079</td>\n",
       "      <td>663.0</td>\n",
       "      <td>300019</td>\n",
       "      <td>22421.0</td>\n",
       "      <td>Tom Carper</td>\n",
       "      <td>NaN</td>\n",
       "      <td>15015.0</td>\n",
       "      <td>Tom Carper</td>\n",
       "    </tr>\n",
       "    <tr>\n",
       "      <td>Democrat</td>\n",
       "      <td>Casey</td>\n",
       "      <td>Robert</td>\n",
       "      <td>P.</td>\n",
       "      <td>Jr.</td>\n",
       "      <td>Bob</td>\n",
       "      <td>Robert P. Casey, Jr.</td>\n",
       "      <td>1960-04-13</td>\n",
       "      <td>M</td>\n",
       "      <td>sen</td>\n",
       "      <td>PA</td>\n",
       "      <td>...</td>\n",
       "      <td>N00027503</td>\n",
       "      <td>S309</td>\n",
       "      <td>S6PA00217</td>\n",
       "      <td>47036.0</td>\n",
       "      <td>412246</td>\n",
       "      <td>2541.0</td>\n",
       "      <td>Bob Casey, Jr.</td>\n",
       "      <td>NaN</td>\n",
       "      <td>40703.0</td>\n",
       "      <td>Bob Casey Jr.</td>\n",
       "    </tr>\n",
       "  </tbody>\n",
       "</table>\n",
       "<p>5 rows × 34 columns</p>\n",
       "</div>"
      ],
      "text/plain": [
       "         last_name first_name middle_name suffix nickname  \\\n",
       "party                                                       \n",
       "Democrat     Brown    Sherrod         NaN    NaN      NaN   \n",
       "Democrat  Cantwell      Maria         NaN    NaN      NaN   \n",
       "Democrat    Cardin   Benjamin          L.    NaN      NaN   \n",
       "Democrat    Carper     Thomas     Richard    NaN      NaN   \n",
       "Democrat     Casey     Robert          P.    Jr.      Bob   \n",
       "\n",
       "                     full_name    birthday gender type state  ...  \\\n",
       "party                                                         ...   \n",
       "Democrat         Sherrod Brown  1952-11-09      M  sen    OH  ...   \n",
       "Democrat        Maria Cantwell  1958-10-13      F  sen    WA  ...   \n",
       "Democrat    Benjamin L. Cardin  1943-10-05      M  sen    MD  ...   \n",
       "Democrat      Thomas R. Carper  1947-01-23      M  sen    DE  ...   \n",
       "Democrat  Robert P. Casey, Jr.  1960-04-13      M  sen    PA  ...   \n",
       "\n",
       "          opensecrets_id  lis_id              fec_ids cspan_id govtrack_id  \\\n",
       "party                                                                        \n",
       "Democrat       N00003535    S307  H2OH13033,S6OH00163   5051.0      400050   \n",
       "Democrat       N00007836    S275  S8WA00194,H2WA01054  26137.0      300018   \n",
       "Democrat       N00001955    S308  H6MD03177,S6MD03177   4004.0      400064   \n",
       "Democrat       N00012508    S277            S8DE00079    663.0      300019   \n",
       "Democrat       N00027503    S309            S6PA00217  47036.0      412246   \n",
       "\n",
       "         votesmart_id  ballotpedia_id washington_post_id icpsr_id  \\\n",
       "party                                                               \n",
       "Democrat      27018.0   Sherrod Brown                NaN  29389.0   \n",
       "Democrat      27122.0  Maria Cantwell                NaN  39310.0   \n",
       "Democrat      26888.0      Ben Cardin                NaN  15408.0   \n",
       "Democrat      22421.0      Tom Carper                NaN  15015.0   \n",
       "Democrat       2541.0  Bob Casey, Jr.                NaN  40703.0   \n",
       "\n",
       "            wikipedia_id  \n",
       "party                     \n",
       "Democrat   Sherrod Brown  \n",
       "Democrat  Maria Cantwell  \n",
       "Democrat      Ben Cardin  \n",
       "Democrat      Tom Carper  \n",
       "Democrat   Bob Casey Jr.  \n",
       "\n",
       "[5 rows x 34 columns]"
      ]
     },
     "execution_count": 40,
     "metadata": {},
     "output_type": "execute_result"
    }
   ],
   "source": [
    "legistators.index = legistators['party']\n",
    "\n",
    "legistators.head()"
   ]
  },
  {
   "cell_type": "markdown",
   "metadata": {},
   "source": [
    "## Exercise 7: Indexing & Sampling\n",
    "Randomly select 15 Republicans or Democrats (your choice) from the senate."
   ]
  },
  {
   "cell_type": "code",
   "execution_count": 49,
   "metadata": {},
   "outputs": [
    {
     "data": {
      "text/html": [
       "<div>\n",
       "<style scoped>\n",
       "    .dataframe tbody tr th:only-of-type {\n",
       "        vertical-align: middle;\n",
       "    }\n",
       "\n",
       "    .dataframe tbody tr th {\n",
       "        vertical-align: top;\n",
       "    }\n",
       "\n",
       "    .dataframe thead th {\n",
       "        text-align: right;\n",
       "    }\n",
       "</style>\n",
       "<table border=\"1\" class=\"dataframe\">\n",
       "  <thead>\n",
       "    <tr style=\"text-align: right;\">\n",
       "      <th></th>\n",
       "      <th>last_name</th>\n",
       "      <th>first_name</th>\n",
       "      <th>middle_name</th>\n",
       "      <th>suffix</th>\n",
       "      <th>nickname</th>\n",
       "      <th>full_name</th>\n",
       "      <th>birthday</th>\n",
       "      <th>gender</th>\n",
       "      <th>type</th>\n",
       "      <th>state</th>\n",
       "      <th>...</th>\n",
       "      <th>opensecrets_id</th>\n",
       "      <th>lis_id</th>\n",
       "      <th>fec_ids</th>\n",
       "      <th>cspan_id</th>\n",
       "      <th>govtrack_id</th>\n",
       "      <th>votesmart_id</th>\n",
       "      <th>ballotpedia_id</th>\n",
       "      <th>washington_post_id</th>\n",
       "      <th>icpsr_id</th>\n",
       "      <th>wikipedia_id</th>\n",
       "    </tr>\n",
       "    <tr>\n",
       "      <th>party</th>\n",
       "      <th></th>\n",
       "      <th></th>\n",
       "      <th></th>\n",
       "      <th></th>\n",
       "      <th></th>\n",
       "      <th></th>\n",
       "      <th></th>\n",
       "      <th></th>\n",
       "      <th></th>\n",
       "      <th></th>\n",
       "      <th></th>\n",
       "      <th></th>\n",
       "      <th></th>\n",
       "      <th></th>\n",
       "      <th></th>\n",
       "      <th></th>\n",
       "      <th></th>\n",
       "      <th></th>\n",
       "      <th></th>\n",
       "      <th></th>\n",
       "      <th></th>\n",
       "    </tr>\n",
       "  </thead>\n",
       "  <tbody>\n",
       "    <tr>\n",
       "      <td>Democrat</td>\n",
       "      <td>Schumer</td>\n",
       "      <td>Charles</td>\n",
       "      <td>E.</td>\n",
       "      <td>NaN</td>\n",
       "      <td>Chuck</td>\n",
       "      <td>Charles E. Schumer</td>\n",
       "      <td>1950-11-23</td>\n",
       "      <td>M</td>\n",
       "      <td>sen</td>\n",
       "      <td>NY</td>\n",
       "      <td>...</td>\n",
       "      <td>N00001093</td>\n",
       "      <td>S270</td>\n",
       "      <td>S8NY00082,H0NY16010</td>\n",
       "      <td>5929.0</td>\n",
       "      <td>300087</td>\n",
       "      <td>26976.0</td>\n",
       "      <td>Chuck Schumer</td>\n",
       "      <td>NaN</td>\n",
       "      <td>14858.0</td>\n",
       "      <td>Chuck Schumer</td>\n",
       "    </tr>\n",
       "    <tr>\n",
       "      <td>Democrat</td>\n",
       "      <td>Leahy</td>\n",
       "      <td>Patrick</td>\n",
       "      <td>J.</td>\n",
       "      <td>NaN</td>\n",
       "      <td>NaN</td>\n",
       "      <td>Patrick J. Leahy</td>\n",
       "      <td>1940-03-31</td>\n",
       "      <td>M</td>\n",
       "      <td>sen</td>\n",
       "      <td>VT</td>\n",
       "      <td>...</td>\n",
       "      <td>N00009918</td>\n",
       "      <td>S057</td>\n",
       "      <td>S4VT00017</td>\n",
       "      <td>1552.0</td>\n",
       "      <td>300065</td>\n",
       "      <td>53353.0</td>\n",
       "      <td>Patrick Leahy</td>\n",
       "      <td>NaN</td>\n",
       "      <td>14307.0</td>\n",
       "      <td>Patrick Leahy</td>\n",
       "    </tr>\n",
       "    <tr>\n",
       "      <td>Democrat</td>\n",
       "      <td>Hassan</td>\n",
       "      <td>Margaret</td>\n",
       "      <td>Wood</td>\n",
       "      <td>NaN</td>\n",
       "      <td>Maggie</td>\n",
       "      <td>Margaret Wood Hassan</td>\n",
       "      <td>1958-02-27</td>\n",
       "      <td>F</td>\n",
       "      <td>sen</td>\n",
       "      <td>NH</td>\n",
       "      <td>...</td>\n",
       "      <td>N00038397</td>\n",
       "      <td>S388</td>\n",
       "      <td>S6NH00091</td>\n",
       "      <td>67481.0</td>\n",
       "      <td>412680</td>\n",
       "      <td>42552.0</td>\n",
       "      <td>Maggie Hassan</td>\n",
       "      <td>NaN</td>\n",
       "      <td>41702.0</td>\n",
       "      <td>Maggie Hassan</td>\n",
       "    </tr>\n",
       "    <tr>\n",
       "      <td>Democrat</td>\n",
       "      <td>Baldwin</td>\n",
       "      <td>Tammy</td>\n",
       "      <td>NaN</td>\n",
       "      <td>NaN</td>\n",
       "      <td>NaN</td>\n",
       "      <td>Tammy Baldwin</td>\n",
       "      <td>1962-02-11</td>\n",
       "      <td>F</td>\n",
       "      <td>sen</td>\n",
       "      <td>WI</td>\n",
       "      <td>...</td>\n",
       "      <td>N00004367</td>\n",
       "      <td>S354</td>\n",
       "      <td>H8WI00018,S2WI00219</td>\n",
       "      <td>57884.0</td>\n",
       "      <td>400013</td>\n",
       "      <td>3470.0</td>\n",
       "      <td>Tammy Baldwin</td>\n",
       "      <td>NaN</td>\n",
       "      <td>29940.0</td>\n",
       "      <td>Tammy Baldwin</td>\n",
       "    </tr>\n",
       "    <tr>\n",
       "      <td>Democrat</td>\n",
       "      <td>Coons</td>\n",
       "      <td>Chris</td>\n",
       "      <td>Andrew</td>\n",
       "      <td>NaN</td>\n",
       "      <td>NaN</td>\n",
       "      <td>Christopher A. Coons</td>\n",
       "      <td>1963-09-09</td>\n",
       "      <td>M</td>\n",
       "      <td>sen</td>\n",
       "      <td>DE</td>\n",
       "      <td>...</td>\n",
       "      <td>N00031820</td>\n",
       "      <td>S337</td>\n",
       "      <td>S0DE00092</td>\n",
       "      <td>9269028.0</td>\n",
       "      <td>412390</td>\n",
       "      <td>122834.0</td>\n",
       "      <td>Chris Coons</td>\n",
       "      <td>NaN</td>\n",
       "      <td>40916.0</td>\n",
       "      <td>Chris Coons</td>\n",
       "    </tr>\n",
       "    <tr>\n",
       "      <td>Democrat</td>\n",
       "      <td>Manchin</td>\n",
       "      <td>Joe</td>\n",
       "      <td>NaN</td>\n",
       "      <td>III</td>\n",
       "      <td>NaN</td>\n",
       "      <td>Joe Manchin, III</td>\n",
       "      <td>1947-08-24</td>\n",
       "      <td>M</td>\n",
       "      <td>sen</td>\n",
       "      <td>WV</td>\n",
       "      <td>...</td>\n",
       "      <td>N00032838</td>\n",
       "      <td>S338</td>\n",
       "      <td>S0WV00090</td>\n",
       "      <td>62864.0</td>\n",
       "      <td>412391</td>\n",
       "      <td>7547.0</td>\n",
       "      <td>Joe Manchin III</td>\n",
       "      <td>NaN</td>\n",
       "      <td>40915.0</td>\n",
       "      <td>Joe Manchin</td>\n",
       "    </tr>\n",
       "    <tr>\n",
       "      <td>Democrat</td>\n",
       "      <td>Smith</td>\n",
       "      <td>Tina</td>\n",
       "      <td>Flint</td>\n",
       "      <td>NaN</td>\n",
       "      <td>NaN</td>\n",
       "      <td>Tina Smith</td>\n",
       "      <td>1958-03-04</td>\n",
       "      <td>F</td>\n",
       "      <td>sen</td>\n",
       "      <td>MN</td>\n",
       "      <td>...</td>\n",
       "      <td>N00042353</td>\n",
       "      <td>S394</td>\n",
       "      <td>S8MN00578</td>\n",
       "      <td>111313.0</td>\n",
       "      <td>412742</td>\n",
       "      <td>152968.0</td>\n",
       "      <td>Tina Smith</td>\n",
       "      <td>NaN</td>\n",
       "      <td>41706.0</td>\n",
       "      <td>Tina Smith</td>\n",
       "    </tr>\n",
       "    <tr>\n",
       "      <td>Democrat</td>\n",
       "      <td>Menendez</td>\n",
       "      <td>Robert</td>\n",
       "      <td>NaN</td>\n",
       "      <td>NaN</td>\n",
       "      <td>Bob</td>\n",
       "      <td>Robert Menendez</td>\n",
       "      <td>1954-01-01</td>\n",
       "      <td>M</td>\n",
       "      <td>sen</td>\n",
       "      <td>NJ</td>\n",
       "      <td>...</td>\n",
       "      <td>N00000699</td>\n",
       "      <td>S306</td>\n",
       "      <td>H2NJ13075,S6NJ00289</td>\n",
       "      <td>29608.0</td>\n",
       "      <td>400272</td>\n",
       "      <td>26961.0</td>\n",
       "      <td>Bob Menendez</td>\n",
       "      <td>NaN</td>\n",
       "      <td>29373.0</td>\n",
       "      <td>Bob Menendez</td>\n",
       "    </tr>\n",
       "    <tr>\n",
       "      <td>Democrat</td>\n",
       "      <td>Carper</td>\n",
       "      <td>Thomas</td>\n",
       "      <td>Richard</td>\n",
       "      <td>NaN</td>\n",
       "      <td>NaN</td>\n",
       "      <td>Thomas R. Carper</td>\n",
       "      <td>1947-01-23</td>\n",
       "      <td>M</td>\n",
       "      <td>sen</td>\n",
       "      <td>DE</td>\n",
       "      <td>...</td>\n",
       "      <td>N00012508</td>\n",
       "      <td>S277</td>\n",
       "      <td>S8DE00079</td>\n",
       "      <td>663.0</td>\n",
       "      <td>300019</td>\n",
       "      <td>22421.0</td>\n",
       "      <td>Tom Carper</td>\n",
       "      <td>NaN</td>\n",
       "      <td>15015.0</td>\n",
       "      <td>Tom Carper</td>\n",
       "    </tr>\n",
       "    <tr>\n",
       "      <td>Democrat</td>\n",
       "      <td>Harris</td>\n",
       "      <td>Kamala</td>\n",
       "      <td>NaN</td>\n",
       "      <td>NaN</td>\n",
       "      <td>NaN</td>\n",
       "      <td>Kamala D. Harris</td>\n",
       "      <td>1964-10-20</td>\n",
       "      <td>F</td>\n",
       "      <td>sen</td>\n",
       "      <td>CA</td>\n",
       "      <td>...</td>\n",
       "      <td>N00036915</td>\n",
       "      <td>S387</td>\n",
       "      <td>S6CA00584</td>\n",
       "      <td>1018696.0</td>\n",
       "      <td>412678</td>\n",
       "      <td>120012.0</td>\n",
       "      <td>Kamala Harris</td>\n",
       "      <td>NaN</td>\n",
       "      <td>41701.0</td>\n",
       "      <td>Kamala Harris</td>\n",
       "    </tr>\n",
       "    <tr>\n",
       "      <td>Democrat</td>\n",
       "      <td>Warren</td>\n",
       "      <td>Elizabeth</td>\n",
       "      <td>NaN</td>\n",
       "      <td>NaN</td>\n",
       "      <td>NaN</td>\n",
       "      <td>Elizabeth Warren</td>\n",
       "      <td>1949-06-22</td>\n",
       "      <td>F</td>\n",
       "      <td>sen</td>\n",
       "      <td>MA</td>\n",
       "      <td>...</td>\n",
       "      <td>N00033492</td>\n",
       "      <td>S366</td>\n",
       "      <td>S2MA00170</td>\n",
       "      <td>1023023.0</td>\n",
       "      <td>412542</td>\n",
       "      <td>141272.0</td>\n",
       "      <td>Elizabeth Warren</td>\n",
       "      <td>NaN</td>\n",
       "      <td>41301.0</td>\n",
       "      <td>Elizabeth Warren</td>\n",
       "    </tr>\n",
       "    <tr>\n",
       "      <td>Democrat</td>\n",
       "      <td>Blumenthal</td>\n",
       "      <td>Richard</td>\n",
       "      <td>NaN</td>\n",
       "      <td>NaN</td>\n",
       "      <td>NaN</td>\n",
       "      <td>Richard Blumenthal</td>\n",
       "      <td>1946-02-13</td>\n",
       "      <td>M</td>\n",
       "      <td>sen</td>\n",
       "      <td>CT</td>\n",
       "      <td>...</td>\n",
       "      <td>N00031685</td>\n",
       "      <td>S341</td>\n",
       "      <td>S0CT00177</td>\n",
       "      <td>21799.0</td>\n",
       "      <td>412490</td>\n",
       "      <td>1568.0</td>\n",
       "      <td>Richard Blumenthal</td>\n",
       "      <td>NaN</td>\n",
       "      <td>41101.0</td>\n",
       "      <td>Richard Blumenthal</td>\n",
       "    </tr>\n",
       "    <tr>\n",
       "      <td>Democrat</td>\n",
       "      <td>Schatz</td>\n",
       "      <td>Brian</td>\n",
       "      <td>Emanuel</td>\n",
       "      <td>NaN</td>\n",
       "      <td>NaN</td>\n",
       "      <td>Brian Schatz</td>\n",
       "      <td>1972-10-20</td>\n",
       "      <td>M</td>\n",
       "      <td>sen</td>\n",
       "      <td>HI</td>\n",
       "      <td>...</td>\n",
       "      <td>N00028138</td>\n",
       "      <td>S353</td>\n",
       "      <td>S4HI00136,H6HI02244</td>\n",
       "      <td>87784.0</td>\n",
       "      <td>412507</td>\n",
       "      <td>17852.0</td>\n",
       "      <td>Brian E. Schatz</td>\n",
       "      <td>NaN</td>\n",
       "      <td>41112.0</td>\n",
       "      <td>Brian Schatz</td>\n",
       "    </tr>\n",
       "    <tr>\n",
       "      <td>Democrat</td>\n",
       "      <td>Cortez Masto</td>\n",
       "      <td>Catherine</td>\n",
       "      <td>NaN</td>\n",
       "      <td>NaN</td>\n",
       "      <td>NaN</td>\n",
       "      <td>Catherine Cortez Masto</td>\n",
       "      <td>1964-03-29</td>\n",
       "      <td>F</td>\n",
       "      <td>sen</td>\n",
       "      <td>NV</td>\n",
       "      <td>...</td>\n",
       "      <td>N00037161</td>\n",
       "      <td>S385</td>\n",
       "      <td>S6NV00200</td>\n",
       "      <td>105698.0</td>\n",
       "      <td>412681</td>\n",
       "      <td>69579.0</td>\n",
       "      <td>Catherine Cortez Masto</td>\n",
       "      <td>NaN</td>\n",
       "      <td>41700.0</td>\n",
       "      <td>Catherine Cortez Masto</td>\n",
       "    </tr>\n",
       "    <tr>\n",
       "      <td>Democrat</td>\n",
       "      <td>Heinrich</td>\n",
       "      <td>Martin</td>\n",
       "      <td>NaN</td>\n",
       "      <td>NaN</td>\n",
       "      <td>NaN</td>\n",
       "      <td>Martin Heinrich</td>\n",
       "      <td>1971-10-17</td>\n",
       "      <td>M</td>\n",
       "      <td>sen</td>\n",
       "      <td>NM</td>\n",
       "      <td>...</td>\n",
       "      <td>N00029835</td>\n",
       "      <td>S359</td>\n",
       "      <td>H8NM01224,S2NM00088</td>\n",
       "      <td>1030686.0</td>\n",
       "      <td>412281</td>\n",
       "      <td>74517.0</td>\n",
       "      <td>Martin Heinrich</td>\n",
       "      <td>NaN</td>\n",
       "      <td>20930.0</td>\n",
       "      <td>Martin Heinrich</td>\n",
       "    </tr>\n",
       "  </tbody>\n",
       "</table>\n",
       "<p>15 rows × 34 columns</p>\n",
       "</div>"
      ],
      "text/plain": [
       "             last_name first_name middle_name suffix nickname  \\\n",
       "party                                                           \n",
       "Democrat       Schumer    Charles          E.    NaN    Chuck   \n",
       "Democrat         Leahy    Patrick          J.    NaN      NaN   \n",
       "Democrat        Hassan   Margaret        Wood    NaN   Maggie   \n",
       "Democrat       Baldwin      Tammy         NaN    NaN      NaN   \n",
       "Democrat         Coons      Chris      Andrew    NaN      NaN   \n",
       "Democrat       Manchin        Joe         NaN    III      NaN   \n",
       "Democrat         Smith       Tina       Flint    NaN      NaN   \n",
       "Democrat      Menendez     Robert         NaN    NaN      Bob   \n",
       "Democrat        Carper     Thomas     Richard    NaN      NaN   \n",
       "Democrat        Harris     Kamala         NaN    NaN      NaN   \n",
       "Democrat        Warren  Elizabeth         NaN    NaN      NaN   \n",
       "Democrat    Blumenthal    Richard         NaN    NaN      NaN   \n",
       "Democrat        Schatz      Brian     Emanuel    NaN      NaN   \n",
       "Democrat  Cortez Masto  Catherine         NaN    NaN      NaN   \n",
       "Democrat      Heinrich     Martin         NaN    NaN      NaN   \n",
       "\n",
       "                       full_name    birthday gender type state  ...  \\\n",
       "party                                                           ...   \n",
       "Democrat      Charles E. Schumer  1950-11-23      M  sen    NY  ...   \n",
       "Democrat        Patrick J. Leahy  1940-03-31      M  sen    VT  ...   \n",
       "Democrat    Margaret Wood Hassan  1958-02-27      F  sen    NH  ...   \n",
       "Democrat           Tammy Baldwin  1962-02-11      F  sen    WI  ...   \n",
       "Democrat    Christopher A. Coons  1963-09-09      M  sen    DE  ...   \n",
       "Democrat        Joe Manchin, III  1947-08-24      M  sen    WV  ...   \n",
       "Democrat              Tina Smith  1958-03-04      F  sen    MN  ...   \n",
       "Democrat         Robert Menendez  1954-01-01      M  sen    NJ  ...   \n",
       "Democrat        Thomas R. Carper  1947-01-23      M  sen    DE  ...   \n",
       "Democrat        Kamala D. Harris  1964-10-20      F  sen    CA  ...   \n",
       "Democrat        Elizabeth Warren  1949-06-22      F  sen    MA  ...   \n",
       "Democrat      Richard Blumenthal  1946-02-13      M  sen    CT  ...   \n",
       "Democrat            Brian Schatz  1972-10-20      M  sen    HI  ...   \n",
       "Democrat  Catherine Cortez Masto  1964-03-29      F  sen    NV  ...   \n",
       "Democrat         Martin Heinrich  1971-10-17      M  sen    NM  ...   \n",
       "\n",
       "          opensecrets_id  lis_id              fec_ids   cspan_id govtrack_id  \\\n",
       "party                                                                          \n",
       "Democrat       N00001093    S270  S8NY00082,H0NY16010     5929.0      300087   \n",
       "Democrat       N00009918    S057            S4VT00017     1552.0      300065   \n",
       "Democrat       N00038397    S388            S6NH00091    67481.0      412680   \n",
       "Democrat       N00004367    S354  H8WI00018,S2WI00219    57884.0      400013   \n",
       "Democrat       N00031820    S337            S0DE00092  9269028.0      412390   \n",
       "Democrat       N00032838    S338            S0WV00090    62864.0      412391   \n",
       "Democrat       N00042353    S394            S8MN00578   111313.0      412742   \n",
       "Democrat       N00000699    S306  H2NJ13075,S6NJ00289    29608.0      400272   \n",
       "Democrat       N00012508    S277            S8DE00079      663.0      300019   \n",
       "Democrat       N00036915    S387            S6CA00584  1018696.0      412678   \n",
       "Democrat       N00033492    S366            S2MA00170  1023023.0      412542   \n",
       "Democrat       N00031685    S341            S0CT00177    21799.0      412490   \n",
       "Democrat       N00028138    S353  S4HI00136,H6HI02244    87784.0      412507   \n",
       "Democrat       N00037161    S385            S6NV00200   105698.0      412681   \n",
       "Democrat       N00029835    S359  H8NM01224,S2NM00088  1030686.0      412281   \n",
       "\n",
       "         votesmart_id          ballotpedia_id washington_post_id icpsr_id  \\\n",
       "party                                                                       \n",
       "Democrat      26976.0           Chuck Schumer                NaN  14858.0   \n",
       "Democrat      53353.0           Patrick Leahy                NaN  14307.0   \n",
       "Democrat      42552.0           Maggie Hassan                NaN  41702.0   \n",
       "Democrat       3470.0           Tammy Baldwin                NaN  29940.0   \n",
       "Democrat     122834.0             Chris Coons                NaN  40916.0   \n",
       "Democrat       7547.0         Joe Manchin III                NaN  40915.0   \n",
       "Democrat     152968.0              Tina Smith                NaN  41706.0   \n",
       "Democrat      26961.0            Bob Menendez                NaN  29373.0   \n",
       "Democrat      22421.0              Tom Carper                NaN  15015.0   \n",
       "Democrat     120012.0           Kamala Harris                NaN  41701.0   \n",
       "Democrat     141272.0        Elizabeth Warren                NaN  41301.0   \n",
       "Democrat       1568.0      Richard Blumenthal                NaN  41101.0   \n",
       "Democrat      17852.0         Brian E. Schatz                NaN  41112.0   \n",
       "Democrat      69579.0  Catherine Cortez Masto                NaN  41700.0   \n",
       "Democrat      74517.0         Martin Heinrich                NaN  20930.0   \n",
       "\n",
       "                    wikipedia_id  \n",
       "party                             \n",
       "Democrat           Chuck Schumer  \n",
       "Democrat           Patrick Leahy  \n",
       "Democrat           Maggie Hassan  \n",
       "Democrat           Tammy Baldwin  \n",
       "Democrat             Chris Coons  \n",
       "Democrat             Joe Manchin  \n",
       "Democrat              Tina Smith  \n",
       "Democrat            Bob Menendez  \n",
       "Democrat              Tom Carper  \n",
       "Democrat           Kamala Harris  \n",
       "Democrat        Elizabeth Warren  \n",
       "Democrat      Richard Blumenthal  \n",
       "Democrat            Brian Schatz  \n",
       "Democrat  Catherine Cortez Masto  \n",
       "Democrat         Martin Heinrich  \n",
       "\n",
       "[15 rows x 34 columns]"
      ]
     },
     "execution_count": 49,
     "metadata": {},
     "output_type": "execute_result"
    }
   ],
   "source": [
    "legistators[(~legistators['senate_class'].isna()) & (legistators['party'] == \"Democrat\")].sample(15)"
   ]
  },
  {
   "cell_type": "markdown",
   "metadata": {},
   "source": [
    "## Exercise 8: Dates\n",
    "Let's learn something not covered in the Pandas 1 lesson regarding dates.  We have the birthdates for each legislator, but they are in a String format.  Let's convert it to a datetime object. We can do this using the `pd.to_datetime` function.  Take a look at the online documentation to see how to use this function. Convert the `legislators['birthday']` column to a `datetime` object. Confirm that the column is now a datetime object."
   ]
  },
  {
   "cell_type": "code",
   "execution_count": 51,
   "metadata": {},
   "outputs": [],
   "source": [
    "legistators['birthday'] = pd.to_datetime(legistators['birthday'])"
   ]
  },
  {
   "cell_type": "code",
   "execution_count": 52,
   "metadata": {},
   "outputs": [
    {
     "data": {
      "text/plain": [
       "party\n",
       "Democrat     1952-11-09\n",
       "Democrat     1958-10-13\n",
       "Democrat     1943-10-05\n",
       "Democrat     1947-01-23\n",
       "Democrat     1960-04-13\n",
       "                ...    \n",
       "Democrat     1982-07-25\n",
       "Republican   1965-10-23\n",
       "Republican   1964-07-01\n",
       "Republican   1963-03-05\n",
       "Republican   1970-11-27\n",
       "Name: birthday, Length: 536, dtype: datetime64[ns]"
      ]
     },
     "execution_count": 52,
     "metadata": {},
     "output_type": "execute_result"
    }
   ],
   "source": [
    "legistators['birthday']"
   ]
  },
  {
   "cell_type": "markdown",
   "metadata": {},
   "source": [
    "Now that we have the birthdays in a `datetime` object, how can we calculate their age?  Hint: we can use the `pd.Timestamp.now()` function to get a datetime object for this moment. Let's subtract the current time from their birthdays.  Print the top 5 results."
   ]
  },
  {
   "cell_type": "code",
   "execution_count": 55,
   "metadata": {},
   "outputs": [
    {
     "data": {
      "text/plain": [
       "party\n",
       "Democrat      67.345205\n",
       "Democrat      61.416438\n",
       "Democrat      76.449315\n",
       "Democrat      73.145205\n",
       "Democrat      59.915068\n",
       "                ...    \n",
       "Democrat      37.619178\n",
       "Republican    54.383562\n",
       "Republican    55.695890\n",
       "Republican    57.021918\n",
       "Republican    49.284932\n",
       "Name: birthday, Length: 536, dtype: float64"
      ]
     },
     "execution_count": 55,
     "metadata": {},
     "output_type": "execute_result"
    }
   ],
   "source": [
    "((pd.Timestamp.now() - legistators['birthday']).dt.days)/365"
   ]
  },
  {
   "cell_type": "markdown",
   "metadata": {},
   "source": [
    "Notice that the result of subtracting two `datetime` objects is a `timedelta` object. It contains the difference between two time values. The value we calculated therefore gives us the number of days old.  However, we want the number of years. \n",
    "\n",
    "To get the number of years we can divide the number of days old by the number of days in a year (i.e. 365). However, we need to extract out the days from the `datetime` object. To get this, the Pandas Series object has an accessor for extracting components of `datetime` objects and `timedelta` objects. It's named `dt` and it works for both.  You can learn more about the attributes of this accessor at the [datetime objects page](https://pandas.pydata.org/pandas-docs/stable/reference/series.html#datetime-properties) and the [timedelta objects page](https://pandas.pydata.org/pandas-docs/stable/reference/series.html#timedelta-properties) by clicking.  Take a moment to look over that documentation.\n",
    "\n",
    "How would then extract the days in order to divide by 365 to get the years?  Once you've figurd it out. Do so, convert the years to an integer and add the resulting series back into the legislator dataframe as a new column named `age`.  Hint: use the [astype](https://pandas.pydata.org/pandas-docs/stable/reference/api/pandas.Series.astype.html) function of Pandas to convert the type."
   ]
  },
  {
   "cell_type": "code",
   "execution_count": 57,
   "metadata": {},
   "outputs": [],
   "source": [
    "age = (((pd.Timestamp.now() - legistators['birthday']).dt.days)/365).astype(int)"
   ]
  },
  {
   "cell_type": "markdown",
   "metadata": {},
   "source": [
    "Next, find the youngest, oldest and average age of all legislators"
   ]
  },
  {
   "cell_type": "code",
   "execution_count": 59,
   "metadata": {
    "scrolled": true
   },
   "outputs": [
    {
     "data": {
      "text/html": [
       "<div>\n",
       "<style scoped>\n",
       "    .dataframe tbody tr th:only-of-type {\n",
       "        vertical-align: middle;\n",
       "    }\n",
       "\n",
       "    .dataframe tbody tr th {\n",
       "        vertical-align: top;\n",
       "    }\n",
       "\n",
       "    .dataframe thead th {\n",
       "        text-align: right;\n",
       "    }\n",
       "</style>\n",
       "<table border=\"1\" class=\"dataframe\">\n",
       "  <thead>\n",
       "    <tr style=\"text-align: right;\">\n",
       "      <th></th>\n",
       "      <th>last_name</th>\n",
       "      <th>first_name</th>\n",
       "      <th>middle_name</th>\n",
       "      <th>suffix</th>\n",
       "      <th>nickname</th>\n",
       "      <th>full_name</th>\n",
       "      <th>birthday</th>\n",
       "      <th>gender</th>\n",
       "      <th>type</th>\n",
       "      <th>state</th>\n",
       "      <th>...</th>\n",
       "      <th>opensecrets_id</th>\n",
       "      <th>lis_id</th>\n",
       "      <th>fec_ids</th>\n",
       "      <th>cspan_id</th>\n",
       "      <th>govtrack_id</th>\n",
       "      <th>votesmart_id</th>\n",
       "      <th>ballotpedia_id</th>\n",
       "      <th>washington_post_id</th>\n",
       "      <th>icpsr_id</th>\n",
       "      <th>wikipedia_id</th>\n",
       "    </tr>\n",
       "    <tr>\n",
       "      <th>party</th>\n",
       "      <th></th>\n",
       "      <th></th>\n",
       "      <th></th>\n",
       "      <th></th>\n",
       "      <th></th>\n",
       "      <th></th>\n",
       "      <th></th>\n",
       "      <th></th>\n",
       "      <th></th>\n",
       "      <th></th>\n",
       "      <th></th>\n",
       "      <th></th>\n",
       "      <th></th>\n",
       "      <th></th>\n",
       "      <th></th>\n",
       "      <th></th>\n",
       "      <th></th>\n",
       "      <th></th>\n",
       "      <th></th>\n",
       "      <th></th>\n",
       "      <th></th>\n",
       "    </tr>\n",
       "  </thead>\n",
       "  <tbody>\n",
       "    <tr>\n",
       "      <td>Democrat</td>\n",
       "      <td>Feinstein</td>\n",
       "      <td>Dianne</td>\n",
       "      <td>NaN</td>\n",
       "      <td>NaN</td>\n",
       "      <td>NaN</td>\n",
       "      <td>Dianne Feinstein</td>\n",
       "      <td>1933-06-22</td>\n",
       "      <td>F</td>\n",
       "      <td>sen</td>\n",
       "      <td>CA</td>\n",
       "      <td>...</td>\n",
       "      <td>N00007364</td>\n",
       "      <td>S221</td>\n",
       "      <td>S0CA00199</td>\n",
       "      <td>13061.0</td>\n",
       "      <td>300043</td>\n",
       "      <td>53273.0</td>\n",
       "      <td>Dianne Feinstein</td>\n",
       "      <td>NaN</td>\n",
       "      <td>49300.0</td>\n",
       "      <td>Dianne Feinstein</td>\n",
       "    </tr>\n",
       "    <tr>\n",
       "      <td>Republican</td>\n",
       "      <td>Grassley</td>\n",
       "      <td>Charles</td>\n",
       "      <td>E.</td>\n",
       "      <td>NaN</td>\n",
       "      <td>Chuck</td>\n",
       "      <td>Chuck Grassley</td>\n",
       "      <td>1933-09-17</td>\n",
       "      <td>M</td>\n",
       "      <td>sen</td>\n",
       "      <td>IA</td>\n",
       "      <td>...</td>\n",
       "      <td>N00001758</td>\n",
       "      <td>S153</td>\n",
       "      <td>S0IA00028</td>\n",
       "      <td>1167.0</td>\n",
       "      <td>300048</td>\n",
       "      <td>53293.0</td>\n",
       "      <td>Chuck Grassley</td>\n",
       "      <td>NaN</td>\n",
       "      <td>14226.0</td>\n",
       "      <td>Chuck Grassley</td>\n",
       "    </tr>\n",
       "    <tr>\n",
       "      <td>Republican</td>\n",
       "      <td>Young</td>\n",
       "      <td>Don</td>\n",
       "      <td>E.</td>\n",
       "      <td>NaN</td>\n",
       "      <td>NaN</td>\n",
       "      <td>Don Young</td>\n",
       "      <td>1933-06-09</td>\n",
       "      <td>M</td>\n",
       "      <td>rep</td>\n",
       "      <td>AK</td>\n",
       "      <td>...</td>\n",
       "      <td>N00007999</td>\n",
       "      <td>NaN</td>\n",
       "      <td>H6AK00045</td>\n",
       "      <td>1897.0</td>\n",
       "      <td>400440</td>\n",
       "      <td>26717.0</td>\n",
       "      <td>Don Young</td>\n",
       "      <td>NaN</td>\n",
       "      <td>14066.0</td>\n",
       "      <td>Don Young</td>\n",
       "    </tr>\n",
       "    <tr>\n",
       "      <td>Democrat</td>\n",
       "      <td>Ocasio-Cortez</td>\n",
       "      <td>Alexandria</td>\n",
       "      <td>NaN</td>\n",
       "      <td>NaN</td>\n",
       "      <td>NaN</td>\n",
       "      <td>Alexandria Ocasio-Cortez</td>\n",
       "      <td>1989-10-13</td>\n",
       "      <td>F</td>\n",
       "      <td>rep</td>\n",
       "      <td>NY</td>\n",
       "      <td>...</td>\n",
       "      <td>N00041162</td>\n",
       "      <td>NaN</td>\n",
       "      <td>H8NY15148</td>\n",
       "      <td>NaN</td>\n",
       "      <td>412804</td>\n",
       "      <td>180416.0</td>\n",
       "      <td>Alexandria Ocasio-Cortez</td>\n",
       "      <td>NaN</td>\n",
       "      <td>21949.0</td>\n",
       "      <td>Alexandria Ocasio-Cortez</td>\n",
       "    </tr>\n",
       "  </tbody>\n",
       "</table>\n",
       "<p>4 rows × 34 columns</p>\n",
       "</div>"
      ],
      "text/plain": [
       "                last_name  first_name middle_name suffix nickname  \\\n",
       "party                                                               \n",
       "Democrat        Feinstein      Dianne         NaN    NaN      NaN   \n",
       "Republican       Grassley     Charles          E.    NaN    Chuck   \n",
       "Republican          Young         Don          E.    NaN      NaN   \n",
       "Democrat    Ocasio-Cortez  Alexandria         NaN    NaN      NaN   \n",
       "\n",
       "                           full_name   birthday gender type state  ...  \\\n",
       "party                                                              ...   \n",
       "Democrat            Dianne Feinstein 1933-06-22      F  sen    CA  ...   \n",
       "Republican            Chuck Grassley 1933-09-17      M  sen    IA  ...   \n",
       "Republican                 Don Young 1933-06-09      M  rep    AK  ...   \n",
       "Democrat    Alexandria Ocasio-Cortez 1989-10-13      F  rep    NY  ...   \n",
       "\n",
       "            opensecrets_id  lis_id    fec_ids cspan_id govtrack_id  \\\n",
       "party                                                                \n",
       "Democrat         N00007364    S221  S0CA00199  13061.0      300043   \n",
       "Republican       N00001758    S153  S0IA00028   1167.0      300048   \n",
       "Republican       N00007999     NaN  H6AK00045   1897.0      400440   \n",
       "Democrat         N00041162     NaN  H8NY15148      NaN      412804   \n",
       "\n",
       "           votesmart_id            ballotpedia_id washington_post_id icpsr_id  \\\n",
       "party                                                                           \n",
       "Democrat        53273.0          Dianne Feinstein                NaN  49300.0   \n",
       "Republican      53293.0            Chuck Grassley                NaN  14226.0   \n",
       "Republican      26717.0                 Don Young                NaN  14066.0   \n",
       "Democrat       180416.0  Alexandria Ocasio-Cortez                NaN  21949.0   \n",
       "\n",
       "                        wikipedia_id  \n",
       "party                                 \n",
       "Democrat            Dianne Feinstein  \n",
       "Republican            Chuck Grassley  \n",
       "Republican                 Don Young  \n",
       "Democrat    Alexandria Ocasio-Cortez  \n",
       "\n",
       "[4 rows x 34 columns]"
      ]
     },
     "execution_count": 59,
     "metadata": {},
     "output_type": "execute_result"
    }
   ],
   "source": [
    "age.describe()\n",
    "\n",
    "legistators[(age == 30) | (age == 86)]"
   ]
  },
  {
   "cell_type": "markdown",
   "metadata": {},
   "source": [
    "Who are the oldest and youngest legislators?"
   ]
  },
  {
   "cell_type": "code",
   "execution_count": null,
   "metadata": {},
   "outputs": [],
   "source": []
  },
  {
   "cell_type": "markdown",
   "metadata": {},
   "source": [
    "## Exercise 9:  Indexing with loc and iloc\n",
    "Reindex the legislators dataframe using the state, and find all legislators from your home state using the `loc` accessor."
   ]
  },
  {
   "cell_type": "code",
   "execution_count": null,
   "metadata": {},
   "outputs": [],
   "source": []
  },
  {
   "cell_type": "markdown",
   "metadata": {},
   "source": [
    "Use the loc command to find all legislators from South Carolina and North Carolina"
   ]
  },
  {
   "cell_type": "code",
   "execution_count": null,
   "metadata": {},
   "outputs": [],
   "source": []
  },
  {
   "cell_type": "markdown",
   "metadata": {},
   "source": [
    "Use the loc command to retrieve all legislators from California, Oregon and Washington and only get their full name, state, party and age"
   ]
  },
  {
   "cell_type": "code",
   "execution_count": null,
   "metadata": {},
   "outputs": [],
   "source": []
  },
  {
   "cell_type": "markdown",
   "metadata": {},
   "source": [
    "## Exercise 10: Economics Data Example\n",
    "### Task 1: Explore the data\n",
    "Import the data from the [Lectures in Quantiatives Economics](https://github.com/QuantEcon/lecture-source-py) regarding minimum wages in countries round the world in US Dollars.  You can view the data [here](https://github.com/QuantEcon/lecture-source-py/blob/master/source/_static/lecture_specific/pandas_panel/realwage.csv) and you can access the data file here: https://raw.githubusercontent.com/QuantEcon/lecture-source-py/master/source/_static/lecture_specific/pandas_panel/realwage.csv.  Then perform the following\n",
    "\n",
    "Import and print the first 5 lines of data to explore what is there."
   ]
  },
  {
   "cell_type": "code",
   "execution_count": null,
   "metadata": {},
   "outputs": [],
   "source": []
  },
  {
   "cell_type": "code",
   "execution_count": null,
   "metadata": {},
   "outputs": [],
   "source": []
  },
  {
   "cell_type": "markdown",
   "metadata": {},
   "source": [
    "Find the shape of the data."
   ]
  },
  {
   "cell_type": "code",
   "execution_count": null,
   "metadata": {},
   "outputs": [],
   "source": []
  },
  {
   "cell_type": "markdown",
   "metadata": {},
   "source": [
    "List the column names."
   ]
  },
  {
   "cell_type": "code",
   "execution_count": null,
   "metadata": {},
   "outputs": [],
   "source": []
  },
  {
   "cell_type": "markdown",
   "metadata": {},
   "source": [
    "Identify the data types. Do they match what you would expect?"
   ]
  },
  {
   "cell_type": "code",
   "execution_count": null,
   "metadata": {},
   "outputs": [],
   "source": []
  },
  {
   "cell_type": "markdown",
   "metadata": {},
   "source": [
    "Identify columns with missing values. "
   ]
  },
  {
   "cell_type": "code",
   "execution_count": null,
   "metadata": {},
   "outputs": [],
   "source": []
  },
  {
   "cell_type": "markdown",
   "metadata": {},
   "source": [
    "Identify if there are duplicated entires."
   ]
  },
  {
   "cell_type": "code",
   "execution_count": null,
   "metadata": {},
   "outputs": [],
   "source": []
  },
  {
   "cell_type": "markdown",
   "metadata": {},
   "source": [
    "How many unique values per row are there.  Do these look reasonable for the data type and what you know about what is stored in the column?"
   ]
  },
  {
   "cell_type": "code",
   "execution_count": null,
   "metadata": {},
   "outputs": [],
   "source": []
  },
  {
   "cell_type": "markdown",
   "metadata": {},
   "source": [
    "### Task 2: Explore More\n",
    "Retrieve descriptive statistics for the data."
   ]
  },
  {
   "cell_type": "code",
   "execution_count": null,
   "metadata": {},
   "outputs": [],
   "source": []
  },
  {
   "cell_type": "markdown",
   "metadata": {},
   "source": [
    "Identify all of the countries listed in the data."
   ]
  },
  {
   "cell_type": "code",
   "execution_count": null,
   "metadata": {},
   "outputs": [],
   "source": []
  },
  {
   "cell_type": "markdown",
   "metadata": {},
   "source": [
    "Convert the time column to a datetime object."
   ]
  },
  {
   "cell_type": "code",
   "execution_count": null,
   "metadata": {},
   "outputs": [],
   "source": []
  },
  {
   "cell_type": "markdown",
   "metadata": {},
   "source": [
    "Identify the time points that were used for data collection. How many years of data collection were there? What time of year were the data collected?"
   ]
  },
  {
   "cell_type": "code",
   "execution_count": null,
   "metadata": {},
   "outputs": [],
   "source": []
  },
  {
   "cell_type": "markdown",
   "metadata": {},
   "source": [
    "Because we only have one data point collected per year per country, simplify this by adding a new column with just the year.  Print the first 5 rows to confirm the column was added."
   ]
  },
  {
   "cell_type": "code",
   "execution_count": null,
   "metadata": {},
   "outputs": [],
   "source": []
  },
  {
   "cell_type": "markdown",
   "metadata": {},
   "source": [
    "There are two pay periods.  Retrieve them in a list of just the two strings"
   ]
  },
  {
   "cell_type": "code",
   "execution_count": null,
   "metadata": {},
   "outputs": [],
   "source": []
  },
  {
   "cell_type": "markdown",
   "metadata": {},
   "source": [
    "### Task 3: Clean the data\n",
    "We have no duplicates in this data so we do not need to consider removing those, but we do have missing values in the `value` column. Lets remove those.  Check the dimensions afterwards to make sure they rows with missing values are gone."
   ]
  },
  {
   "cell_type": "code",
   "execution_count": null,
   "metadata": {},
   "outputs": [],
   "source": []
  },
  {
   "cell_type": "markdown",
   "metadata": {},
   "source": [
    "### Task 4:  Indexing\n",
    "Use boolean indexing to retrieve the rows of annual salary in United States"
   ]
  },
  {
   "cell_type": "code",
   "execution_count": null,
   "metadata": {},
   "outputs": [],
   "source": []
  },
  {
   "cell_type": "markdown",
   "metadata": {},
   "source": [
    "Do we have enough data to calculate descriptive statistics for annual salary in the United States in 2016?"
   ]
  },
  {
   "cell_type": "code",
   "execution_count": null,
   "metadata": {},
   "outputs": [],
   "source": []
  },
  {
   "cell_type": "markdown",
   "metadata": {},
   "source": [
    "Use loc to calculate descriptive statistics for the hourly salary in the United States and then again separately for Ireland. Hint: you will have to set row indexes."
   ]
  },
  {
   "cell_type": "code",
   "execution_count": null,
   "metadata": {},
   "outputs": [],
   "source": []
  },
  {
   "cell_type": "markdown",
   "metadata": {},
   "source": [
    "Now do the same for Annual salary"
   ]
  },
  {
   "cell_type": "code",
   "execution_count": null,
   "metadata": {},
   "outputs": [],
   "source": []
  }
 ],
 "metadata": {
  "kernelspec": {
   "display_name": "Python 3",
   "language": "python",
   "name": "python3"
  },
  "language_info": {
   "codemirror_mode": {
    "name": "ipython",
    "version": 3
   },
   "file_extension": ".py",
   "mimetype": "text/x-python",
   "name": "python",
   "nbconvert_exporter": "python",
   "pygments_lexer": "ipython3",
   "version": "3.7.4"
  }
 },
 "nbformat": 4,
 "nbformat_minor": 4
}
